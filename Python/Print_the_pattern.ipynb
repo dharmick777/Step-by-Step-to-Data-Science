{
  "cells": [
    {
      "cell_type": "markdown",
      "metadata": {
        "id": "view-in-github",
        "colab_type": "text"
      },
      "source": [
        "<a href=\"https://colab.research.google.com/github/priyak950/Step-by-Step-to-Data-Science/blob/main/Python/Print_the_pattern.ipynb\" target=\"_parent\"><img src=\"https://colab.research.google.com/assets/colab-badge.svg\" alt=\"Open In Colab\"/></a>"
      ]
    },
    {
      "cell_type": "markdown",
      "metadata": {
        "id": "T32SKsiGaC_i"
      },
      "source": [
        "### Print the pattern\n",
        "\n",
        "Print the alphabet diamond pattern with \"n\" number of alphabets\n",
        "\n",
        "In the below example, n= 5. So, the below pattern is made with a,b,c,d,e, the 5 English alphabets\n"
      ]
    },
    {
      "cell_type": "markdown",
      "metadata": {
        "id": "ozi6fjpqaC_n"
      },
      "source": [
        "### Explanation\n",
        "\n",
        "How to build this pattern"
      ]
    },
    {
      "cell_type": "raw",
      "metadata": {
        "id": "Nr8kBQWKaC_o"
      },
      "source": [
        "--------e--------\n",
        "------e-d-e------\n",
        "----e-d-c-d-e----\n",
        "--e-d-c-b-c-d-e--\n",
        "e-d-c-b-a-b-c-d-e\n",
        "--e-d-c-b-c-d-e--\n",
        "----e-d-c-d-e----\n",
        "------e-d-e------\n",
        "--------e--------\n",
        "\n",
        "Observe the pattern.\n",
        "If n=5, then  5 alphabets to be used in the pattern; a ,b ,c, d, e\n",
        "\n",
        "Look at the center of the pattern e-d-c-b-a-b-c-d-e\n",
        "\n",
        "all 5 letters[a,b,c,d,e] are present . \n",
        "\n",
        "5thLetter-4th-3rd-2nd-1st-2nd-3rd-4th-5th\n",
        "\n",
        "e-d-c-b-a-b-c-d-e\n",
        "\n",
        "...........................\n",
        "\n",
        "Patterns above the center and below the center line are similar ; \n",
        "\n",
        "--e-d-c-b-c-d-e--\n",
        "e-d-c-b-a-b-c-d-e\n",
        "--e-d-c-b-c-d-e--\n",
        "\n",
        "similarly other lines above and below the center are similar\n",
        "  \n",
        "\n",
        ".................................\n",
        "\n",
        "Steps to build the pattern :\n",
        "\n",
        "1. step-1\n",
        "At first step build the list of strings to be used in the pattern.\n",
        "i.e. the center lines and all lines above it. Because \"lines/patterns above center\" are similar to \"pattern below center\".\n",
        "\n",
        "so, just build strings for center line and lines above\n",
        "\n",
        "This will be output of step 1:\n",
        "\n",
        "['e-d-c-b-a-b-c-d-e', 'e-d-c-b-c-d-e', 'e-d-c-d-e', 'e-d-e', 'e']\n",
        "\n",
        " \n",
        "\n",
        "\n",
        "2. step-2\n",
        "\n",
        "Build the top of the pattern using the list of strings you created in step-1\n",
        "\n",
        "You will append \"-\" to the strings as needed.\n",
        "\n",
        "suppose you want to print the first line --------e--------\n",
        "\n",
        "You will calculate the number of dashes \"-\" to be added before and after 'e'.\n",
        "\n",
        "Similarly , you will calculate the number of dashes to be added before and after 'e-d-c-b-c-d-e', 'e-d-c-d-e', 'e-d-e'\n",
        "\n",
        "This will be output of step 2:\n",
        "\n",
        "--------e--------\n",
        "------e-d-e------\n",
        "----e-d-c-d-e----\n",
        "--e-d-c-b-c-d-e--\n",
        "\n",
        "\n",
        "3. step-3\n",
        "\n",
        "Build the center and bottom pattern .\n",
        "\n",
        "Output of step-3:\n",
        "\n",
        "e-d-c-b-a-b-c-d-e\n",
        "--e-d-c-b-c-d-e--\n",
        "----e-d-c-d-e----\n",
        "------e-d-e------\n",
        "--------e--------\n",
        "\n",
        "...............................................\n",
        "Final output when all three steps (all for loops run together)\n",
        "\n",
        "--------e--------\n",
        "------e-d-e------\n",
        "----e-d-c-d-e----\n",
        "--e-d-c-b-c-d-e--\n",
        "e-d-c-b-a-b-c-d-e\n",
        "--e-d-c-b-c-d-e--\n",
        "----e-d-c-d-e----\n",
        "------e-d-e------\n",
        "--------e--------\n",
        "\n"
      ]
    },
    {
      "cell_type": "markdown",
      "metadata": {
        "id": "0DLhMqxdaC_q"
      },
      "source": [
        "#### Code without comments\n"
      ]
    },
    {
      "cell_type": "code",
      "execution_count": null,
      "metadata": {
        "id": "8By6GvF1aC_r",
        "outputId": "af7d857f-8693-4bbf-fe3d-4c8cd611bef2"
      },
      "outputs": [
        {
          "name": "stdout",
          "output_type": "stream",
          "text": [
            "--------e--------\n",
            "------e-d-e------\n",
            "----e-d-c-d-e----\n",
            "--e-d-c-b-c-d-e--\n",
            "e-d-c-b-a-b-c-d-e\n",
            "--e-d-c-b-c-d-e--\n",
            "----e-d-c-d-e----\n",
            "------e-d-e------\n",
            "--------e--------\n"
          ]
        }
      ],
      "source": [
        "\n",
        "n=5\n",
        "all_english_alphabets=\"abcdefghijklmnopqrstuvwxyz\"\n",
        "pattern_string=\"\"\n",
        "\n",
        "l=[]\n",
        "#step-1\n",
        "for i in range(n):   \n",
        "    \n",
        "    pattern_string=\"-\".join(all_english_alphabets[i:n])  #e.g. 'a-b-c-d-e'\n",
        "\n",
        "    l.append(pattern_string[::-1]+pattern_string[1:])    #e.g  'e-d-c-b-a' + '-b-c-d-e' >> 'e-d-c-b-a-b-c-d-e'\n",
        "\n",
        "length=len(l[0])\n",
        "#step-2\n",
        "for i in range(n-1,0,-1):  \n",
        "    \n",
        "    print(l[i].center(length,\"-\"))\n",
        "#step-3\n",
        "for i in range(n):\n",
        "    print(l[i].center(length,\"-\"))    "
      ]
    },
    {
      "cell_type": "markdown",
      "metadata": {
        "id": "p-X_COyqaC_t"
      },
      "source": [
        "#### Code with comments (for better understanding of what a piece of code is doing)"
      ]
    },
    {
      "cell_type": "code",
      "execution_count": null,
      "metadata": {
        "id": "8G36t8JAaC_t",
        "outputId": "f0046b46-fae1-4e84-f73c-09b152706c64"
      },
      "outputs": [
        {
          "name": "stdout",
          "output_type": "stream",
          "text": [
            "--------e--------\n",
            "------e-d-e------\n",
            "----e-d-c-d-e----\n",
            "--e-d-c-b-c-d-e--\n",
            "e-d-c-b-a-b-c-d-e\n",
            "--e-d-c-b-c-d-e--\n",
            "----e-d-c-d-e----\n",
            "------e-d-e------\n",
            "--------e--------\n"
          ]
        }
      ],
      "source": [
        "\n",
        "n=5\n",
        "all_english_alphabets=\"abcdefghijklmnopqrstuvwxyz\"\n",
        "pattern_string=\"\"\n",
        "\n",
        "l=[]\n",
        "\n",
        "\n",
        "################## first for loop ################################\n",
        "\n",
        "#At first step, build the list of strings to be used in the pattern.\n",
        "#i.e. the center lines and all lines above it. Because \"lines/patterns above center\" are similar to pattern below center.\n",
        "\n",
        "for i in range(n):\n",
        "    # range(5) >>> as list >> [0,1,2,3,4]\n",
        "    # i will take the value of 0 first , then 1 , then 2...upto i=4\n",
        "    \n",
        "    # when i =0 and n=5\n",
        "    # \"-\".join(all_english_alphabets[i:n]\n",
        "    # \"-\".join(all_english_alphabets[0:5]    \n",
        "    # you will join the first 5 letters of the list all_english_alphabets separated by a dash \"-\"\n",
        "    # you will get pattern_string = 'a-b-c-d-e'\n",
        "    \n",
        "    \n",
        "    # but you want 'e-d-c-b-a-b-c-d-e'\n",
        "    # so, reverse the string 'a-b-c-d-e'  to 'e-d-c-b-a'  and then add '-b-c-d-e' to  form 'e-d-c-b-a-b-c-d-e'\n",
        "    \n",
        "    # you repeat the process to build other strings in the similar way 'e-d-c-b-c-d-e', 'e-d-c-d-e', 'e-d-e', 'e'\n",
        "    \n",
        "    pattern_string=\"-\".join(all_english_alphabets[i:n])  #e.g. 'a-b-c-d-e'\n",
        "\n",
        "    l.append(pattern_string[::-1]+pattern_string[1:])    #e.g  'e-d-c-b-a' + '-b-c-d-e' >> 'e-d-c-b-a-b-c-d-e'\n",
        "\n",
        "length=len(l[0])  # l[0] is having the longest string of the pattern, i.e. at the center.. 'e-d-c-b-a-b-c-d-e'\n",
        "# print(length) #output - 17 - length of the longest string in the pattern 'e-d-c-b-a-b-c-d-e' ; which is in center\n",
        "# print(l) #output - ['e-d-c-b-a-b-c-d-e', 'e-d-c-b-c-d-e', 'e-d-c-d-e', 'e-d-e', 'e']\n",
        "\n",
        "############# second for loop ##############################\n",
        "\n",
        "# Build the top of the pattern using the list of strings ( l) you created in step-1\n",
        "#You will append \"-\" before and after the strings as needed\n",
        "\n",
        "\n",
        "for i in range(n-1,0,-1):  # when n=5, range(n-1,0,-1) >> range(4,0,-1) >> as list [4,3,2,1]\n",
        "    #  l=   ['e-d-c-b-a-b-c-d-e', 'e-d-c-b-c-d-e', 'e-d-c-d-e', 'e-d-e', 'e']\n",
        "    # loop through all elements in the list l .\n",
        "    # Using the center() of string , align the pattern string in center\n",
        "    # and pad it with '-'. i.e. if you have 'e' from list l. and length =17..\n",
        "    #  then you will center aligh e and add 8 dashes before 'e' and 8 dashes after 'e' \n",
        "    #  --------e--------    8 dashes + 1 letter e + 8 dashes = 17 characters in the line of the pattern\n",
        "    # repeat the same for other items in the list. \n",
        "    # e.g. 'e-d-e' becomes ------e-d-e------   (6 dashes +5 characters + 6 dashes = 17 characters in the line)\n",
        "    \n",
        "    print(l[i].center(length,\"-\"))\n",
        "    \n",
        "# ###################Third for loop ###########################\n",
        "\n",
        "# Build the center and bottom pattern .\n",
        "# similar to second for loop logic.read second loop comments for better understanding\n",
        "for i in range(n):\n",
        "    print(l[i].center(length,\"-\"))    "
      ]
    },
    {
      "cell_type": "code",
      "execution_count": null,
      "metadata": {
        "id": "ALdKnQZ0aC_u"
      },
      "outputs": [],
      "source": [
        "# #additional code\n",
        "# print(list(range(5)))\n",
        "# print(list(range(4,0,-1)))\n",
        "# print('e'.center(length,\"-\"))\n",
        "# help(''.center)"
      ]
    }
  ],
  "metadata": {
    "kernelspec": {
      "display_name": "Python 3",
      "language": "python",
      "name": "python3"
    },
    "language_info": {
      "codemirror_mode": {
        "name": "ipython",
        "version": 3
      },
      "file_extension": ".py",
      "mimetype": "text/x-python",
      "name": "python",
      "nbconvert_exporter": "python",
      "pygments_lexer": "ipython3",
      "version": "3.7.6"
    },
    "colab": {
      "name": "Print the pattern.ipynb",
      "provenance": [],
      "include_colab_link": true
    }
  },
  "nbformat": 4,
  "nbformat_minor": 0
}