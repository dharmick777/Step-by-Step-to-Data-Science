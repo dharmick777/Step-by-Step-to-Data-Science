{
  "cells": [
    {
      "cell_type": "markdown",
      "metadata": {
        "id": "view-in-github",
        "colab_type": "text"
      },
      "source": [
        "<a href=\"https://colab.research.google.com/github/priyak950/Step-by-Step-to-Data-Science/blob/main/Python/Functional_OOP_and_its_trickly_doubt.ipynb\" target=\"_parent\"><img src=\"https://colab.research.google.com/assets/colab-badge.svg\" alt=\"Open In Colab\"/></a>"
      ]
    },
    {
      "cell_type": "markdown",
      "id": "0112be62",
      "metadata": {
        "id": "0112be62"
      },
      "source": [
        "## Agenda\n",
        "\n",
        "<hr style=\"border:2px solid gray\"> </hr>\n",
        "\n",
        "### Recap\n",
        "- Review on Data Structures\n",
        "    - List Comprehension\n",
        "    - Dictionary Comprehension\n",
        "    - Difference between collective data structures\n",
        "- Review on Control Structures\n",
        "- Review Functional Programming\n",
        "- Object Oriented Programming\n",
        "    - Concept of class and objects\n",
        "    - Instantiation\n",
        "    - Class inheritance\n",
        "    - Method overriding\n",
        "    - Some magic methods\n",
        "    - Complex number example (if time allows)"
      ]
    },
    {
      "cell_type": "markdown",
      "id": "a78df70f",
      "metadata": {
        "id": "a78df70f"
      },
      "source": [
        "<hr style=\"border:2px solid gray\"> </hr>\n",
        "<hr style=\"border:2px solid gray\"> </hr>\n",
        "\n",
        "#### Review on Data Structures\n"
      ]
    },
    {
      "cell_type": "code",
      "execution_count": null,
      "id": "601304eb",
      "metadata": {
        "id": "601304eb",
        "outputId": "d9c92d06-9c7a-4d46-8ca8-145abc2e7b0c"
      },
      "outputs": [
        {
          "name": "stdout",
          "output_type": "stream",
          "text": [
            "33\n"
          ]
        }
      ],
      "source": [
        "num1 = 100\n",
        "num2 = 5.5\n",
        "\n",
        "num1 = num1 + 1\n",
        "\n",
        "res = 100 // 3\n",
        "\n",
        "print(res)"
      ]
    },
    {
      "cell_type": "code",
      "execution_count": null,
      "id": "453fe1e5",
      "metadata": {
        "id": "453fe1e5",
        "outputId": "542ebc4c-9861-4b0e-8aac-61eb3ffbea4d"
      },
      "outputs": [
        {
          "name": "stdout",
          "output_type": "stream",
          "text": [
            "6\n"
          ]
        }
      ],
      "source": [
        "# Strings are immutable\n",
        "fruits = [\"banana\", \"kiwi\", \"orange\"]\n",
        "\n",
        "word = \"hello my dear friend\"\n",
        "\n",
        "# res = word.isalnum()\n",
        "\n",
        "# words = word.split(\" \")\n",
        "\n",
        "# res = word.count(\" \")\n",
        "res = word.find(\"my\")\n",
        "\n",
        "# print(\"***\".join(fruits))\n",
        "print(res)"
      ]
    },
    {
      "cell_type": "code",
      "execution_count": null,
      "id": "cd1cb9f7",
      "metadata": {
        "id": "cd1cb9f7",
        "outputId": "43a8b920-f30a-4d85-87e5-bd2514206542"
      },
      "outputs": [
        {
          "name": "stdout",
          "output_type": "stream",
          "text": [
            "35.4\n"
          ]
        }
      ],
      "source": [
        "num = float(\"25.4\")\n",
        "\n",
        "print(num + 10)"
      ]
    },
    {
      "cell_type": "code",
      "execution_count": null,
      "id": "489f2433",
      "metadata": {
        "id": "489f2433",
        "outputId": "c7330777-9d3b-479e-ffe3-3677d3acd236"
      },
      "outputs": [
        {
          "name": "stdout",
          "output_type": "stream",
          "text": [
            "['kiwi', 'orange', 'banana', 'cucumber', 'tomato']\n"
          ]
        }
      ],
      "source": [
        "# Lists are mutable\n",
        "\n",
        "fruits = [\"banana\", \"kiwi\", \"orange\", \"banana\", \"banana\", \"cucumber\", \"tomato\"]\n",
        "\n",
        "# fruits.append(\"pineapple\")\n",
        "# fruits.extend([\"pineapple\", \"olive\"])\n",
        "# fruits.insert(2, \"potato\")\n",
        "# fruits.remove(\"banana\")\n",
        "# del fruits[1]\n",
        "\n",
        "# for i in range(fruits.count(\"banana\")):\n",
        "#     fruits.remove(\"banana\")\n",
        "\n",
        "counter = 0\n",
        "\n",
        "while (\"banana\" in fruits) and (counter < 2):\n",
        "    fruits.remove(\"banana\")\n",
        "    counter += 1\n",
        "\n",
        "print(fruits)"
      ]
    },
    {
      "cell_type": "code",
      "execution_count": null,
      "id": "8fc5b709",
      "metadata": {
        "id": "8fc5b709",
        "outputId": "281ac6db-8135-4ca5-fe0c-fe648a81783a"
      },
      "outputs": [
        {
          "ename": "ValueError",
          "evalue": "'pineapple' is not in list",
          "output_type": "error",
          "traceback": [
            "\u001b[0;31m---------------------------------------------------------------------------\u001b[0m",
            "\u001b[0;31mValueError\u001b[0m                                Traceback (most recent call last)",
            "\u001b[0;32m/tmp/ipykernel_6610/1392189799.py\u001b[0m in \u001b[0;36m<module>\u001b[0;34m\u001b[0m\n\u001b[1;32m      3\u001b[0m \u001b[0;31m# item = fruits.pop()\u001b[0m\u001b[0;34m\u001b[0m\u001b[0;34m\u001b[0m\u001b[0;34m\u001b[0m\u001b[0m\n\u001b[1;32m      4\u001b[0m \u001b[0;31m# res = fruits.count(\"banana\")\u001b[0m\u001b[0;34m\u001b[0m\u001b[0;34m\u001b[0m\u001b[0;34m\u001b[0m\u001b[0m\n\u001b[0;32m----> 5\u001b[0;31m \u001b[0mres\u001b[0m \u001b[0;34m=\u001b[0m \u001b[0mfruits\u001b[0m\u001b[0;34m.\u001b[0m\u001b[0mindex\u001b[0m\u001b[0;34m(\u001b[0m\u001b[0;34m\"pineapple\"\u001b[0m\u001b[0;34m)\u001b[0m\u001b[0;34m\u001b[0m\u001b[0;34m\u001b[0m\u001b[0m\n\u001b[0m\u001b[1;32m      6\u001b[0m \u001b[0;34m\u001b[0m\u001b[0m\n\u001b[1;32m      7\u001b[0m \u001b[0mprint\u001b[0m\u001b[0;34m(\u001b[0m\u001b[0mres\u001b[0m\u001b[0;34m)\u001b[0m\u001b[0;34m\u001b[0m\u001b[0;34m\u001b[0m\u001b[0m\n",
            "\u001b[0;31mValueError\u001b[0m: 'pineapple' is not in list"
          ]
        }
      ],
      "source": [
        "fruits = [\"banana\", \"kiwi\", \"orange\", \"banana\", \"banana\", \"cucumber\", \"tomato\"]\n",
        "\n",
        "# item = fruits.pop()\n",
        "# res = fruits.count(\"banana\")\n",
        "# res = fruits.index(\"pineapple\")\n",
        "\n",
        "print(res)\n",
        "print(fruits)"
      ]
    },
    {
      "cell_type": "code",
      "execution_count": null,
      "id": "2bdccee0",
      "metadata": {
        "id": "2bdccee0",
        "outputId": "53ce8437-2d2b-4342-9c4b-4f2d4821314f"
      },
      "outputs": [
        {
          "name": "stdout",
          "output_type": "stream",
          "text": [
            "('h', 'e', 'l', 'l', 'o', ' ', 'w', 'o', 'r', 'l', 'd')\n"
          ]
        }
      ],
      "source": [
        "# Tuple - immutable\n",
        "\n",
        "fruits = (\"banana\", \"kiwi\", \"orange\", \"banana\", \"banana\", \"cucumber\", \"tomato\")\n",
        "\n",
        "# new_fruits = tuple(fruits)\n",
        "\n",
        "letters = tuple(\"hello world\")\n",
        "\n",
        "print(letters)"
      ]
    },
    {
      "cell_type": "code",
      "execution_count": null,
      "id": "884d3611",
      "metadata": {
        "id": "884d3611",
        "outputId": "2ba24fb2-170f-46d9-e7b8-7bfe02db2355"
      },
      "outputs": [
        {
          "name": "stdout",
          "output_type": "stream",
          "text": [
            "john\n",
            "20\n"
          ]
        }
      ],
      "source": [
        "# unpacking\n",
        "\n",
        "person = ['john', 20, 100]\n",
        "\n",
        "name, age, pay = person\n",
        "\n",
        "print(name)\n",
        "print(age)"
      ]
    },
    {
      "cell_type": "code",
      "execution_count": null,
      "id": "f57fa257",
      "metadata": {
        "id": "f57fa257",
        "outputId": "82fbd69b-8eac-44a0-ff07-f9e12b4113ce"
      },
      "outputs": [
        {
          "name": "stdout",
          "output_type": "stream",
          "text": [
            "{'john': 20, 'sarah': 42, 'kevin': 52}\n"
          ]
        }
      ],
      "source": [
        "# Dictionary - mutable\n",
        "\n",
        "# person = {'name': 'john', 'age': 2, 'employed': True, 'weight': 80.5}\n",
        "# extra_info = {'weight': 80.5, 'tel': '1843524'}\n",
        "\n",
        "# person['weight'] = 80.5\n",
        "\n",
        "# person['name'] = 'Bob'\n",
        "\n",
        "# del person['age']\n",
        "# person.update(extra_info)\n",
        "\n",
        "persons = dict([('john', 20), ('sarah', 42), ('kevin', 52)])\n",
        "\n",
        "\n",
        "print(persons)"
      ]
    },
    {
      "cell_type": "code",
      "execution_count": null,
      "id": "0752643e",
      "metadata": {
        "id": "0752643e",
        "outputId": "4ebff5e6-aa86-4880-f1fc-48bccbfdc426"
      },
      "outputs": [
        {
          "name": "stdout",
          "output_type": "stream",
          "text": [
            "{'r', 'l', ' ', 'w', 'h', 'o', 'd', 'e'}\n"
          ]
        }
      ],
      "source": [
        "# Sets\n",
        "set1 = {30, 60, 20}\n",
        "set2 = {10, 20, 40, 50}\n",
        "\n",
        "# res = set2.union(set1)\n",
        "# res = set1 | set2\n",
        "\n",
        "# res = set1.intersection(set2)\n",
        "# res = set1 & set2\n",
        "\n",
        "# res = set2.difference(set1)\n",
        "# res = set1 - set2\n",
        "\n",
        "# res = set2.issuperset(set1)\n",
        "\n",
        "# res = set1.isdisjoint(set2)\n",
        "\n",
        "res = set(\"hello world\")\n",
        "\n",
        "print(res)\n",
        "# print(len(set1))"
      ]
    },
    {
      "cell_type": "markdown",
      "id": "f755dc45",
      "metadata": {
        "id": "f755dc45"
      },
      "source": [
        "<hr style=\"border:2px solid gray\"> </hr>\n",
        "<hr style=\"border:2px solid gray\"> </hr>\n",
        "\n",
        "#### Review on Control Structures"
      ]
    },
    {
      "cell_type": "code",
      "execution_count": null,
      "id": "7c1caef9",
      "metadata": {
        "id": "7c1caef9",
        "outputId": "0bc0a3d6-3847-486a-e1cf-5c4e8d47fd79"
      },
      "outputs": [
        {
          "data": {
            "text/plain": [
              "False"
            ]
          },
          "execution_count": 85,
          "metadata": {},
          "output_type": "execute_result"
        }
      ],
      "source": [
        "fruits = [\"banana\", \"kiwi\", \"orange\", \"banana\", \"banana\", \"cucumber\", \"tomato\"]\n",
        "\n",
        "'orange' not in fruits"
      ]
    },
    {
      "cell_type": "code",
      "execution_count": null,
      "id": "88e72442",
      "metadata": {
        "id": "88e72442",
        "outputId": "662c4f51-6cc2-44c6-e1ef-53eee9530219"
      },
      "outputs": [
        {
          "name": "stdout",
          "output_type": "stream",
          "text": [
            "{'banana': 6, 'kiwi': 4, 'orange': 6, 'cucumber': 8, 'tomato': 6}\n"
          ]
        }
      ],
      "source": [
        "fruits = [\"banana\", \"kiwi\", \"orange\", \"banana\", \"banana\", \"cucumber\", \"tomato\"]\n",
        "\n",
        "# new_fruits = [f.upper() for f in fruits if len(f) == 6] # List comprehension\n",
        "\n",
        "# for f in fruits:\n",
        "#     new_fruits.append(f.upper())\n",
        "\n",
        "f_dict = {f: len(f) for f in fruits} # Comprehension\n",
        "\n",
        "# for f in fruits:\n",
        "#     f_dict[f] = len(f)\n",
        "    \n",
        "print(f_dict)"
      ]
    },
    {
      "cell_type": "code",
      "execution_count": null,
      "id": "6cbe5e87",
      "metadata": {
        "id": "6cbe5e87",
        "outputId": "5dac4893-9c77-43ef-a858-0a6ba3c6cb03"
      },
      "outputs": [
        {
          "name": "stdout",
          "output_type": "stream",
          "text": [
            "6 character fruits\n",
            "non 6 character fruits\n",
            "6 character fruits\n",
            "6 character fruits\n",
            "6 character fruits\n",
            "non 6 character fruits\n",
            "6 character fruits\n"
          ]
        }
      ],
      "source": [
        "for f in fruits:\n",
        "    if len(f) == 6:\n",
        "        print(\"6 character fruits\")\n",
        "    else:\n",
        "        print(\"non 6 character fruits\")"
      ]
    },
    {
      "cell_type": "code",
      "execution_count": null,
      "id": "b7c2566e",
      "metadata": {
        "id": "b7c2566e",
        "outputId": "5f4d640a-cbdc-4917-cf27-8ffb8c4ba628"
      },
      "outputs": [
        {
          "name": "stdout",
          "output_type": "stream",
          "text": [
            "please enter something: hello my dear friend\n",
            "{'r': 0.11764705882352941, 'l': 0.11764705882352941, 'f': 0.058823529411764705, 'y': 0.058823529411764705, 'i': 0.058823529411764705, 'n': 0.058823529411764705, 'h': 0.058823529411764705, 'a': 0.058823529411764705, 'o': 0.058823529411764705, 'd': 0.11764705882352941, 'm': 0.058823529411764705, 'e': 0.17647058823529413}\n"
          ]
        }
      ],
      "source": [
        "user_inp = input(\"please enter something: \").replace(\" \", \"\")\n",
        "\n",
        "let_freq = {}\n",
        "\n",
        "let_set = set(user_inp)\n",
        "\n",
        "for let in let_set:\n",
        "    let_freq[let] = user_inp.count(let)/len(user_inp)\n",
        "    \n",
        "print(let_freq)"
      ]
    },
    {
      "cell_type": "code",
      "execution_count": null,
      "id": "2106cb3c",
      "metadata": {
        "id": "2106cb3c",
        "outputId": "b6961fb9-2f84-47aa-8aae-41fcd11d4366"
      },
      "outputs": [
        {
          "name": "stdout",
          "output_type": "stream",
          "text": [
            "{'john': 20, 'sarah': 30, 'kevin': 40}\n"
          ]
        }
      ],
      "source": [
        "names = ('john', 'sarah', 'kevin')\n",
        "ages = (20, 30, 40)\n",
        "\n",
        "# items = []\n",
        "\n",
        "# for item in zip(names, ages):\n",
        "#     items.append(item)\n",
        "    \n",
        "# persons = dict(items)\n",
        "\n",
        "persons = {n: a for n, a in zip(names, ages)}\n",
        "\n",
        "print(persons)"
      ]
    },
    {
      "cell_type": "markdown",
      "id": "bcccfe46",
      "metadata": {
        "id": "bcccfe46"
      },
      "source": [
        "<hr style=\"border:2px solid gray\"> </hr>\n",
        "<hr style=\"border:2px solid gray\"> </hr>\n",
        "\n",
        "#### Review on Functional Programming"
      ]
    },
    {
      "cell_type": "code",
      "execution_count": null,
      "id": "ea66c4f7",
      "metadata": {
        "id": "ea66c4f7",
        "outputId": "0dd0eb83-628d-4b6d-c1cb-8be5e3e26f58"
      },
      "outputs": [
        {
          "name": "stdout",
          "output_type": "stream",
          "text": [
            "equality\n"
          ]
        }
      ],
      "source": [
        "def func(a, b):\n",
        "    if a > b:\n",
        "        return True\n",
        "    elif a < b:\n",
        "        return False\n",
        "    else:\n",
        "        print(\"equality\")\n",
        "\n",
        "func(30, 30)"
      ]
    },
    {
      "cell_type": "code",
      "execution_count": null,
      "id": "90d71c11",
      "metadata": {
        "id": "90d71c11",
        "outputId": "38e7c5fc-0351-4345-f8fc-969be6ee0986"
      },
      "outputs": [
        {
          "name": "stdout",
          "output_type": "stream",
          "text": [
            "[2, 3, 5, 7, 11, 13, 17, 19, 23, 29, 31, 37, 41, 43, 47, 53, 59, 61, 67, 71, 73, 79, 83, 89, 97, 101, 103, 107, 109, 113, 127, 131, 137, 139, 149, 151, 157, 163, 167, 173, 179, 181, 191, 193, 197, 199]\n"
          ]
        }
      ],
      "source": [
        "def isPrime(n):\n",
        "    flag = True\n",
        "    for i in range(2, int(n/2) + 1):\n",
        "        if n % i == 0:\n",
        "            flag = False\n",
        "            break\n",
        "    return flag\n",
        "\n",
        "nums = [10, 11, 42, 43, 98, 13]\n",
        "\n",
        "primes = [n for n in filter(isPrime, range(2, 200))]\n",
        "\n",
        "# for n in filter(isPrime, nums):\n",
        "#     print(n)\n",
        "\n",
        "print(primes)"
      ]
    },
    {
      "cell_type": "markdown",
      "id": "d6111837",
      "metadata": {
        "id": "d6111837"
      },
      "source": [
        "<hr style=\"border:2px solid gray\"> </hr>\n",
        "<hr style=\"border:2px solid gray\"> </hr>\n",
        "\n",
        "#### Object Oriented Programming (OOP)"
      ]
    },
    {
      "cell_type": "code",
      "execution_count": null,
      "id": "2e586045",
      "metadata": {
        "id": "2e586045",
        "outputId": "869a29de-5773-4f7c-c9c0-b5b26fecdf68"
      },
      "outputs": [
        {
          "name": "stdout",
          "output_type": "stream",
          "text": [
            "john\n",
            "sarah\n"
          ]
        },
        {
          "ename": "AttributeError",
          "evalue": "type object 'Person' has no attribute 'name'",
          "output_type": "error",
          "traceback": [
            "\u001b[0;31m---------------------------------------------------------------------------\u001b[0m",
            "\u001b[0;31mAttributeError\u001b[0m                            Traceback (most recent call last)",
            "\u001b[0;32m/tmp/ipykernel_6610/1938787714.py\u001b[0m in \u001b[0;36m<module>\u001b[0;34m\u001b[0m\n\u001b[1;32m     21\u001b[0m \u001b[0mprint\u001b[0m\u001b[0;34m(\u001b[0m\u001b[0mperson1\u001b[0m\u001b[0;34m.\u001b[0m\u001b[0mname\u001b[0m\u001b[0;34m)\u001b[0m\u001b[0;34m\u001b[0m\u001b[0;34m\u001b[0m\u001b[0m\n\u001b[1;32m     22\u001b[0m \u001b[0mprint\u001b[0m\u001b[0;34m(\u001b[0m\u001b[0mperson2\u001b[0m\u001b[0;34m.\u001b[0m\u001b[0mname\u001b[0m\u001b[0;34m)\u001b[0m\u001b[0;34m\u001b[0m\u001b[0;34m\u001b[0m\u001b[0m\n\u001b[0;32m---> 23\u001b[0;31m \u001b[0mprint\u001b[0m\u001b[0;34m(\u001b[0m\u001b[0mPerson\u001b[0m\u001b[0;34m.\u001b[0m\u001b[0mname\u001b[0m\u001b[0;34m)\u001b[0m\u001b[0;34m\u001b[0m\u001b[0;34m\u001b[0m\u001b[0m\n\u001b[0m\u001b[1;32m     24\u001b[0m \u001b[0;34m\u001b[0m\u001b[0m\n\u001b[1;32m     25\u001b[0m \u001b[0;34m\u001b[0m\u001b[0m\n",
            "\u001b[0;31mAttributeError\u001b[0m: type object 'Person' has no attribute 'name'"
          ]
        }
      ],
      "source": [
        "class Person:\n",
        "    def __init__(self, name, age, salary):\n",
        "        self.name = name\n",
        "        self.age = age\n",
        "        self.salary = salary\n",
        "    \n",
        "    def show_name(self):\n",
        "        print(self.name)\n",
        "        \n",
        "    def change_name(self, new_name):\n",
        "        self.name = new_name\n",
        "    \n",
        "    \n",
        "person1 = Person('john', 32, 4000)\n",
        "person2 = Person('sarah', 50, 4500)\n",
        "\n",
        "\n",
        "my_model = LinearModel(weights=(20, 30))\n",
        "\n",
        "my_model.fit()\n",
        "\n",
        "print(person1.name)\n",
        "print(person2.name)\n",
        "print(Person.name)\n",
        "\n",
        "\n",
        "\n",
        "\n",
        "\n",
        "# person1.age = 20\n",
        "\n",
        "# Person.age = 100\n",
        "\n",
        "# person1.change_name('sarah')\n",
        "\n",
        "# person1.show_name()\n",
        "# person2.show_name()\n",
        "\n",
        "\n",
        "# print(person1.age)\n",
        "# print(person2.age)\n",
        "# print(Person.age)"
      ]
    },
    {
      "cell_type": "markdown",
      "source": [
        "#doubt"
      ],
      "metadata": {
        "id": "VoCCSaE6D-t6"
      },
      "id": "VoCCSaE6D-t6"
    },
    {
      "cell_type": "markdown",
      "source": [
        "Recursive through lambda"
      ],
      "metadata": {
        "id": "-upaiyUtD4b_"
      },
      "id": "-upaiyUtD4b_"
    },
    {
      "cell_type": "code",
      "execution_count": 4,
      "id": "90e14831",
      "metadata": {
        "id": "90e14831",
        "colab": {
          "base_uri": "https://localhost:8080/"
        },
        "outputId": "5796549e-0c73-42bb-de25-a6c9e9b42c0b"
      },
      "outputs": [
        {
          "output_type": "execute_result",
          "data": {
            "text/plain": [
              "24"
            ]
          },
          "metadata": {},
          "execution_count": 4
        }
      ],
      "source": [
        "#factorial using lambda\n",
        "# from functools import reduce\n",
        "# n=3\n",
        "# reduce(lambda x,y : x*y,range(1,n+1))\n",
        "\n",
        "#lambda recursion\n",
        "fact = lambda n : 1 if n==0 else n*fact(n-1)\n",
        "fact(4)"
      ]
    },
    {
      "cell_type": "markdown",
      "source": [
        "Data type for dictionary item will tuple not dictionary"
      ],
      "metadata": {
        "id": "6Njm4kCVJM_7"
      },
      "id": "6Njm4kCVJM_7"
    },
    {
      "cell_type": "code",
      "source": [
        "d = {1:[\"sam\",5]}\n",
        "for x in d.items():\n",
        "  print(type(x))\n"
      ],
      "metadata": {
        "colab": {
          "base_uri": "https://localhost:8080/"
        },
        "id": "TeSqt5tvJU9P",
        "outputId": "9ece704a-dae5-43b6-a978-ff47596c0b65"
      },
      "id": "TeSqt5tvJU9P",
      "execution_count": 7,
      "outputs": [
        {
          "output_type": "stream",
          "name": "stdout",
          "text": [
            "<class 'tuple'>\n",
            "\n"
          ]
        }
      ]
    },
    {
      "cell_type": "markdown",
      "source": [
        "Regular expression"
      ],
      "metadata": {
        "id": "HxLc_nGDGARB"
      },
      "id": "HxLc_nGDGARB"
    },
    {
      "cell_type": "code",
      "source": [
        "https://www.regexpal.com/\n",
        "    \n",
        "www3.school\n",
        "    \n",
        "https://regexcrossword.com/challenges/beginner/puzzles/1\n",
        "    \n",
        "    \n",
        "https://regex101.com/"
      ],
      "metadata": {
        "id": "Wdplmv9aGCRm"
      },
      "id": "Wdplmv9aGCRm",
      "execution_count": null,
      "outputs": []
    }
  ],
  "metadata": {
    "kernelspec": {
      "display_name": "Python 3 (ipykernel)",
      "language": "python",
      "name": "python3"
    },
    "language_info": {
      "codemirror_mode": {
        "name": "ipython",
        "version": 3
      },
      "file_extension": ".py",
      "mimetype": "text/x-python",
      "name": "python",
      "nbconvert_exporter": "python",
      "pygments_lexer": "ipython3",
      "version": "3.8.10"
    },
    "colab": {
      "name": "Functional_OOP and its trickly doubt.ipynb",
      "provenance": [],
      "include_colab_link": true
    }
  },
  "nbformat": 4,
  "nbformat_minor": 5
}