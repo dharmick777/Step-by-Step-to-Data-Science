{
  "cells": [
    {
      "cell_type": "markdown",
      "metadata": {
        "id": "view-in-github",
        "colab_type": "text"
      },
      "source": [
        "<a href=\"https://colab.research.google.com/github/priyak950/Step-by-Step-to-Data-Science/blob/main/Python/ListComprehension_and_MapReduceFilter.ipynb\" target=\"_parent\"><img src=\"https://colab.research.google.com/assets/colab-badge.svg\" alt=\"Open In Colab\"/></a>"
      ]
    },
    {
      "cell_type": "markdown",
      "metadata": {
        "id": "YLsOeAQCtZbB"
      },
      "source": [
        " #### Control structure and function in python \n",
        " \n",
        " Control structure and functions automate repetitive tasks intelligently. The most common control structures include if-else statements, for and while loops, and list and dictionary comprehensions.\n",
        "\n",
        "1. Decision Making (if-else , if-elif-else )\n",
        "\n",
        "2. Loops and Iterations (for loop , while loop)\n",
        "\n",
        "3. Comprehensions (List comprehension, dictionary comprehension, set comprehension)\n",
        "\n",
        "4. Functions in Python\n",
        "\n",
        "5. Map , Filter and Reduce functions"
      ]
    },
    {
      "cell_type": "markdown",
      "metadata": {
        "id": "MJa_z-ZgtZbC"
      },
      "source": [
        "#### Decision Making ####"
      ]
    },
    {
      "cell_type": "markdown",
      "metadata": {
        "id": "_BD14-n_tZbC"
      },
      "source": [
        "####  If-elif-else ###"
      ]
    },
    {
      "cell_type": "code",
      "execution_count": null,
      "metadata": {
        "id": "WkGToA4vtZbD",
        "outputId": "632f25d4-995e-45cc-bc65-e5318ab43023"
      },
      "outputs": [
        {
          "name": "stdout",
          "output_type": "stream",
          "text": [
            "45.4 is less than 99\n"
          ]
        }
      ],
      "source": [
        "## If statement ##\n",
        "\n",
        "x = 45.4\n",
        "\n",
        "if x < 99:\n",
        "    print(x, \"is less than 99\")\n",
        "else:\n",
        "    print(x, \"is more than 99\")"
      ]
    },
    {
      "cell_type": "code",
      "execution_count": null,
      "metadata": {
        "id": "oXf5TzDvtZbF",
        "outputId": "0c5570f6-0cdb-4d75-8559-4e767d988c7b"
      },
      "outputs": [
        {
          "name": "stdout",
          "output_type": "stream",
          "text": [
            "You won a discount voucher of flat 1000 on next purchase\n"
          ]
        }
      ],
      "source": [
        "shoppinng_total = 550\n",
        "\n",
        "if shoppinng_total >= 500:\n",
        "    print(\"You won a discount voucher of flat 1000 on next purchase\")\n",
        "elif shoppinng_total >= 250:\n",
        "    print(\"You won a discount voucher of flat 500 on next purchase\")\n",
        "elif shoppinng_total >= 100:\n",
        "    print(\"You won a discount voucher of flat 100 on next purchase\")    \n",
        "else:\n",
        "    print(\"OOPS!! no discount for you!!!\")"
      ]
    },
    {
      "cell_type": "markdown",
      "metadata": {
        "id": "QWMVy8g-tZbG"
      },
      "source": [
        "#### Loops and iterations"
      ]
    },
    {
      "cell_type": "markdown",
      "metadata": {
        "id": "DPJFjoAatZbH"
      },
      "source": [
        "####  For loop\n",
        "The for loop in Python is used to iterate over a sequence (list, tuple, string) or other iterable objects. \n",
        "\n",
        "Syntax -\n",
        "\n",
        "    for val in sequence:\n",
        "\n",
        "        loop body\n",
        "\n",
        "Loop body starts with an indentation after for statement"
      ]
    },
    {
      "cell_type": "code",
      "execution_count": null,
      "metadata": {
        "id": "rK1g9J5UtZbI",
        "outputId": "bf7eebe3-6718-4a63-b6f9-1d6555e4fe42"
      },
      "outputs": [
        {
          "name": "stdout",
          "output_type": "stream",
          "text": [
            "5\n",
            "6\n",
            "7\n",
            "8\n"
          ]
        }
      ],
      "source": [
        "#For loop\n",
        "#Print all numbers\n",
        "\n",
        "list1 = [5,6,7,8]\n",
        "\n",
        "for x in list1:\n",
        "    print(x)\n",
        "    \n",
        "# Iterating over a sequence is called traversal"
      ]
    },
    {
      "cell_type": "code",
      "execution_count": null,
      "metadata": {
        "id": "bzEDhTNdtZbJ",
        "outputId": "69f9ba87-d894-468d-bc42-a004d120fe98"
      },
      "outputs": [
        {
          "name": "stdout",
          "output_type": "stream",
          "text": [
            "5\n",
            "6\n",
            "7\n",
            "8\n",
            "All digits printed\n"
          ]
        }
      ],
      "source": [
        "#For loop with else\n",
        "list1 = [5,6,7,8]\n",
        "\n",
        "for x in list1:\n",
        "    print(x)\n",
        "else:\n",
        "    print(\"All digits printed\")"
      ]
    },
    {
      "cell_type": "code",
      "execution_count": null,
      "metadata": {
        "id": "48WTRkS8tZbJ",
        "outputId": "c1ec3c29-9855-4945-e76b-47488c603e0e"
      },
      "outputs": [
        {
          "name": "stdout",
          "output_type": "stream",
          "text": [
            "I like mango\n",
            "I like cherry\n",
            "I like kiwi\n"
          ]
        }
      ],
      "source": [
        "#For loop\n",
        "# Example 3 - Program to iterate through a list using indexing\n",
        "\n",
        "fruits = ['mango', 'cherry', 'kiwi']\n",
        "\n",
        "# iterate over the list using index\n",
        "for x in [0,1,2]:\n",
        "     print(\"I like\",  fruits[x])\n",
        "        \n",
        "# print(fruits[0])\n",
        "# print(range(0,3)) #output range(0, 3)\n"
      ]
    },
    {
      "cell_type": "markdown",
      "metadata": {
        "id": "8vcfSpxJtZbK"
      },
      "source": [
        "#### While loop\n",
        "\n"
      ]
    },
    {
      "cell_type": "code",
      "execution_count": null,
      "metadata": {
        "id": "kp-4UnnctZbK",
        "outputId": "c50db303-34bc-4d4a-af62-2eeadbc4c03c"
      },
      "outputs": [
        {
          "name": "stdout",
          "output_type": "stream",
          "text": [
            "Enter your four digit pin: 1234\n",
            "Pin validation successful.\n"
          ]
        }
      ],
      "source": [
        "#### Let's create a pin checker which we generally have in our phones or ATMs\n",
        "pin = input(\"Enter your four digit pin: \")\n",
        "\n",
        "\n",
        "\n",
        "\n",
        "while pin != '1234':\n",
        "    pin = input('Invalid input, please try again: ')  \n",
        "\n",
        "print(\"Pin validation successful.\")"
      ]
    },
    {
      "cell_type": "markdown",
      "metadata": {
        "id": "35p7o-OttZbL"
      },
      "source": [
        "#### range\n",
        "\n",
        "To loop through a set of code a specified number of times, we can use the range() function,\n",
        "The range() function returns a sequence of numbers, starting from 0 by default, and increments by 1 (by default), and ends at a specified number.\n",
        "\n"
      ]
    },
    {
      "cell_type": "code",
      "execution_count": null,
      "metadata": {
        "id": "6TPauD04tZbL",
        "outputId": "4a1dce04-7f5e-48af-af8b-8540d4f5dd4b"
      },
      "outputs": [
        {
          "name": "stdout",
          "output_type": "stream",
          "text": [
            "0\n",
            "1\n",
            "2\n",
            "3\n",
            "4\n",
            "5\n"
          ]
        }
      ],
      "source": [
        "for x in range(6):\n",
        "  print(x)"
      ]
    },
    {
      "cell_type": "code",
      "execution_count": null,
      "metadata": {
        "id": "KnZB4Hy9tZbM",
        "outputId": "1883c75b-3e09-49f5-90a9-b3016c3525c9"
      },
      "outputs": [
        {
          "name": "stdout",
          "output_type": "stream",
          "text": [
            "2\n",
            "3\n",
            "4\n",
            "5\n"
          ]
        }
      ],
      "source": [
        "for x in range(2, 6):\n",
        "  print(x)\n"
      ]
    },
    {
      "cell_type": "code",
      "execution_count": null,
      "metadata": {
        "id": "RDWafhsdtZbN",
        "outputId": "1a9f8342-9335-44a5-8fbe-051b02e46ce4"
      },
      "outputs": [
        {
          "name": "stdout",
          "output_type": "stream",
          "text": [
            "2\n",
            "5\n",
            "8\n",
            "11\n",
            "14\n",
            "17\n",
            "20\n",
            "23\n",
            "26\n",
            "29\n"
          ]
        }
      ],
      "source": [
        "#Increment the sequence with 3 (default is 1):\n",
        "\n",
        "for x in range(2, 30, 3):\n",
        "  print(x)\n"
      ]
    },
    {
      "cell_type": "markdown",
      "metadata": {
        "id": "4w7dZc4ItZbN"
      },
      "source": [
        "#### Comprehensions"
      ]
    },
    {
      "cell_type": "markdown",
      "metadata": {
        "id": "568iVYEltZbO"
      },
      "source": [
        "#### List comprehension\n",
        "\n",
        "List comprehension offers a shorter syntax when you want to create a new list based on the values of an existing list.\n",
        "\n",
        "The iterable can be any iterable object, like a list, tuple, set etc.\n",
        "\n"
      ]
    },
    {
      "cell_type": "code",
      "execution_count": null,
      "metadata": {
        "id": "lSXJehlYtZbO",
        "outputId": "b398c71e-aea4-4f59-b427-0c4c6e872af2"
      },
      "outputs": [
        {
          "name": "stdout",
          "output_type": "stream",
          "text": [
            "square_of_even_nums  [4, 16, 36, 64, 100]\n"
          ]
        }
      ],
      "source": [
        "#List comprehension\n",
        " \n",
        "nums =[1,2,3,4,5,6,7,8,9,10]\n",
        "\n",
        "\n",
        "# newlist = [expression for item in iterable if condition == True]\n",
        "\n",
        "even_nums = [x for x in nums if x%2 ==0]\n",
        "\n",
        "# print(\"even_nums \" ,even_nums , type(even_nums))\n",
        "\n",
        "square_of_even_nums = [x*x for x in nums if x%2 ==0]\n",
        "\n",
        "print(\"square_of_even_nums \", square_of_even_nums)"
      ]
    },
    {
      "cell_type": "markdown",
      "metadata": {
        "id": "gwRp90AttZbP"
      },
      "source": [
        ""
      ]
    },
    {
      "cell_type": "markdown",
      "metadata": {
        "id": "TiWqu3nStZbP"
      },
      "source": [
        "#### Create  a new  list using :\n",
        "1. For loop\n",
        "2. List comprehension"
      ]
    },
    {
      "cell_type": "code",
      "execution_count": null,
      "metadata": {
        "id": "oXtScY-HtZbP",
        "outputId": "e7e3ed90-8c7f-4e23-8cee-86eaf333e392"
      },
      "outputs": [
        {
          "name": "stdout",
          "output_type": "stream",
          "text": [
            "['apple', 'banana', 'mango']\n"
          ]
        }
      ],
      "source": [
        "#List creation using for loop\n",
        "fruits = [\"apple\", \"banana\", \"cherry\", \"kiwi\", \"mango\"]\n",
        "newlist = []\n",
        "\n",
        "# newlist will have those fruit names which have letter 'a' in them\n",
        "for x in fruits:\n",
        "  if \"a\" in x:\n",
        "    newlist.append(x)\n",
        "\n",
        "print(newlist)\n"
      ]
    },
    {
      "cell_type": "code",
      "execution_count": null,
      "metadata": {
        "id": "r-plVssCtZbQ",
        "outputId": "3287e684-454b-4cb8-b138-a0324c4b91d6"
      },
      "outputs": [
        {
          "name": "stdout",
          "output_type": "stream",
          "text": [
            "['banana', 'mango']\n"
          ]
        }
      ],
      "source": [
        "#List creayion using list comprehension\n",
        "fruits = [ \"banana\", \"cherry\", \"kiwi\", \"mango\"]\n",
        "\n",
        "newlist = [x for x in fruits if \"a\" in x]\n",
        "\n",
        "print(newlist)\n"
      ]
    },
    {
      "cell_type": "code",
      "execution_count": null,
      "metadata": {
        "id": "0raeLv_0tZbQ",
        "outputId": "d2090ed0-12fd-4424-c8af-48d07258f330"
      },
      "outputs": [
        {
          "name": "stdout",
          "output_type": "stream",
          "text": [
            "['banana', 'cherry', 'kiwi', 'mango']\n"
          ]
        }
      ],
      "source": [
        "## Condition is optional\n",
        "newlist = [x for x in fruits]\n",
        "print(newlist)"
      ]
    },
    {
      "cell_type": "markdown",
      "metadata": {
        "id": "5w57w3dLtZbQ"
      },
      "source": [
        "#### Dictionary comprehension"
      ]
    },
    {
      "cell_type": "code",
      "execution_count": null,
      "metadata": {
        "id": "k5-NNfiStZbQ",
        "outputId": "63f9390c-2cad-45ca-b615-f5e4391c860c"
      },
      "outputs": [
        {
          "name": "stdout",
          "output_type": "stream",
          "text": [
            "{'brand': 'Ford', 'model': 'Mustang', 'year': 1964}\n"
          ]
        }
      ],
      "source": [
        "## Dictionary\n",
        "thisdict = {\n",
        "  \"brand\": \"Ford\",\n",
        "  \"model\": \"Mustang\",\n",
        "  \"year\": 1964\n",
        "}\n",
        "print(thisdict)\n"
      ]
    },
    {
      "cell_type": "code",
      "execution_count": null,
      "metadata": {
        "id": "7Q3WNwS6tZbR",
        "outputId": "492aa235-4bac-4f31-e3c2-e0febecf3426"
      },
      "outputs": [
        {
          "name": "stdout",
          "output_type": "stream",
          "text": [
            "{'Honda': 5, 'Benz': 4, 'Suzuki': 6, 'Morris Garages': 14}\n"
          ]
        }
      ],
      "source": [
        "# Example on dictionary comprehension\n",
        "\n",
        "l1 = [\"Honda\", \"Benz\", \"Suzuki\", \"Morris Garages\" ]\n",
        "\n",
        "# Create a dictionary consisting of element and length of each element from the above list\n",
        "\n",
        "d = {i : len(i) for i in l1}\n",
        "\n",
        "print(d)"
      ]
    },
    {
      "cell_type": "markdown",
      "metadata": {
        "id": "urx52f_etZbR"
      },
      "source": [
        "#### Set Comprehensions\n",
        "\n",
        "#### Ex . Write a program which takes a word as input from user and returns vowels from the word"
      ]
    },
    {
      "cell_type": "code",
      "execution_count": null,
      "metadata": {
        "id": "vSOpXdKPtZbR",
        "outputId": "56d20afc-783d-48f7-80a3-60c00ffdd617"
      },
      "outputs": [
        {
          "data": {
            "text/plain": [
              "{'a', 'o'}"
            ]
          },
          "execution_count": 15,
          "metadata": {},
          "output_type": "execute_result"
        }
      ],
      "source": [
        "word = \"mango\"\n",
        "# for i in word:\n",
        "#     print(i)\n",
        "    \n",
        "    \n",
        "# \"o\" in \"aeiou\"\n",
        "   \n",
        "vowels = {i for i in word if i in \"aeiou\"}\n",
        "vowels"
      ]
    },
    {
      "cell_type": "markdown",
      "metadata": {
        "id": "0pulvX8mtZbS"
      },
      "source": [
        "#### Functions in python"
      ]
    },
    {
      "cell_type": "code",
      "execution_count": null,
      "metadata": {
        "id": "USU8GrdNtZbS"
      },
      "outputs": [],
      "source": [
        " \n",
        "\n",
        "def AddNumbers(x,y=4):\n",
        "    #dd\n",
        "    ##sss\n",
        "    ##dddd\n",
        "    '''\n",
        "    AddNumbers function takes two numbers and returns their sum\n",
        "    \n",
        "    arg:\n",
        "        x: its an integer number\n",
        "        y: its an interger number\n",
        "        \n",
        "    returns:\n",
        "        sum of x and y\n",
        "    \n",
        "    '''\n",
        "    a = x+y\n",
        "    return a"
      ]
    },
    {
      "cell_type": "code",
      "execution_count": null,
      "metadata": {
        "id": "MhKR3iadtZbS",
        "outputId": "0e513347-93be-4f11-ddaf-46d1b97acc4a"
      },
      "outputs": [
        {
          "data": {
            "text/plain": [
              "11"
            ]
          },
          "execution_count": 19,
          "metadata": {},
          "output_type": "execute_result"
        }
      ],
      "source": [
        "AddNumbers(5,6)"
      ]
    },
    {
      "cell_type": "code",
      "execution_count": null,
      "metadata": {
        "id": "m1e8iC2vtZbT",
        "outputId": "6f9de182-59c2-4ab4-b241-161d25c11216"
      },
      "outputs": [
        {
          "data": {
            "text/plain": [
              "'\\n    AddNumbers function takes two numbers and returns their sum\\n    \\n    arg:\\n        x: its an integer number\\n        y: its an interger number\\n        \\n    returns:\\n        sum of x and y\\n    \\n    '"
            ]
          },
          "execution_count": 26,
          "metadata": {},
          "output_type": "execute_result"
        }
      ],
      "source": [
        "AddNumbers.__doc__"
      ]
    },
    {
      "cell_type": "code",
      "execution_count": null,
      "metadata": {
        "id": "-WabmdPctZbT",
        "outputId": "70ac5b41-80ce-49b8-87b3-9ac107a48083"
      },
      "outputs": [
        {
          "data": {
            "text/plain": [
              "'\\n    AddNumbers function takes two numbers and returns their sum\\n    \\n    arg:\\n        x: its an integer number\\n        y: its an interger number\\n        \\n    returns:\\n        sum of x and y\\n    \\n    '"
            ]
          },
          "execution_count": 38,
          "metadata": {},
          "output_type": "execute_result"
        }
      ],
      "source": [
        "AddNumbers.__doc__"
      ]
    },
    {
      "cell_type": "code",
      "execution_count": null,
      "metadata": {
        "id": "3_kGf8LTtZbT",
        "outputId": "733a8047-52f6-44dc-fa80-e9abcd04120f"
      },
      "outputs": [
        {
          "data": {
            "text/plain": [
              "16"
            ]
          },
          "execution_count": 21,
          "metadata": {},
          "output_type": "execute_result"
        }
      ],
      "source": [
        "AddNumbers(12)"
      ]
    },
    {
      "cell_type": "code",
      "execution_count": null,
      "metadata": {
        "id": "45iv0adutZbU"
      },
      "outputs": [],
      "source": [
        "def printName( name=\"there\"):\n",
        "    print('Hi!', name)\n",
        "    "
      ]
    },
    {
      "cell_type": "code",
      "execution_count": null,
      "metadata": {
        "id": "7hXsVWKbtZbU",
        "outputId": "61ea7321-fcb1-405f-bf72-3d5f3f560933"
      },
      "outputs": [
        {
          "name": "stdout",
          "output_type": "stream",
          "text": [
            "Hi! Neha\n"
          ]
        }
      ],
      "source": [
        "printName('Neha')"
      ]
    },
    {
      "cell_type": "code",
      "execution_count": null,
      "metadata": {
        "id": "rGl8sAlatZbU",
        "outputId": "626c097b-1228-4c85-ed94-a4b336aaee55"
      },
      "outputs": [
        {
          "ename": "TypeError",
          "evalue": "printName() missing 1 required positional argument: 'name'",
          "output_type": "error",
          "traceback": [
            "\u001b[1;31m---------------------------------------------------------------------------\u001b[0m",
            "\u001b[1;31mTypeError\u001b[0m                                 Traceback (most recent call last)",
            "\u001b[1;32m<ipython-input-32-ba52dee856a9>\u001b[0m in \u001b[0;36m<module>\u001b[1;34m\u001b[0m\n\u001b[1;32m----> 1\u001b[1;33m \u001b[0mprintName\u001b[0m\u001b[1;33m(\u001b[0m\u001b[1;33m)\u001b[0m\u001b[1;33m\u001b[0m\u001b[1;33m\u001b[0m\u001b[0m\n\u001b[0m",
            "\u001b[1;31mTypeError\u001b[0m: printName() missing 1 required positional argument: 'name'"
          ]
        }
      ],
      "source": [
        "printName()"
      ]
    },
    {
      "cell_type": "markdown",
      "metadata": {
        "id": "FU6L70jStZbU"
      },
      "source": [
        "#### Arbitrary Arguments, *args###\n",
        "If you do not know how many arguments that will be passed into your function, add a * before the parameter name in the function definition.\n",
        "\n",
        "This way the function will receive a tuple of arguments, and can access the items accordingly:"
      ]
    },
    {
      "cell_type": "code",
      "execution_count": null,
      "metadata": {
        "id": "xLLBB6iRtZbU",
        "outputId": "e5110d96-6ec6-41fc-b898-9df1f7b36116"
      },
      "outputs": [
        {
          "name": "stdout",
          "output_type": "stream",
          "text": [
            "(1, 3, 'abc')\n"
          ]
        }
      ],
      "source": [
        "def var_func(*args):\n",
        "    print(args)\n",
        "    \n",
        "var_func(1,3,\"abc\") # variable-length argument"
      ]
    },
    {
      "cell_type": "markdown",
      "metadata": {
        "id": "CJ8Q8wVQtZbV"
      },
      "source": [
        "#### Arbitrary Keyword Arguments, **kwargs\n",
        "\n",
        "If you do not know how many keyword arguments that will be passed into your function, add two asterisk: ** before the parameter name in the function definition.\n",
        "\n",
        "This way the function will receive a dictionary of arguments, and can access the items accordingly:\n",
        "\n"
      ]
    },
    {
      "cell_type": "code",
      "execution_count": null,
      "metadata": {
        "id": "NegSjPmltZbV",
        "outputId": "8e1987c0-78b6-4c79-90ac-a329f873980e"
      },
      "outputs": [
        {
          "name": "stdout",
          "output_type": "stream",
          "text": [
            "Her last name is Das\n"
          ]
        }
      ],
      "source": [
        "def my_function(**kid):\n",
        "  print(\"Her last name is \" + kid[\"lname\"])\n",
        "\n",
        "my_function(fname = \"Neha\", lname = \"Das\")\n"
      ]
    },
    {
      "cell_type": "markdown",
      "metadata": {
        "id": "d5GCyD_xtZbV"
      },
      "source": [
        "#### Python Lambda###\n",
        "\n",
        "A lambda function is a small anonymous function(function without a name).\n",
        "\n",
        "A lambda function can take any number of arguments, but can only have one expression.\n",
        "\n",
        "Syntax:\n",
        "<b>lambda arguments : expression</b>\n",
        "\n",
        "lambda a, b, c : a + b + c\n",
        "\n",
        "Use lambda functions when an anonymous function is required for a short period of time.\n",
        "\n",
        "\n"
      ]
    },
    {
      "cell_type": "code",
      "execution_count": null,
      "metadata": {
        "id": "NtS2Bcl8tZbV",
        "outputId": "1f4e6112-3e8e-4fb5-8353-f66cf035f17a"
      },
      "outputs": [
        {
          "data": {
            "text/plain": [
              "'even'"
            ]
          },
          "execution_count": 3,
          "metadata": {},
          "output_type": "execute_result"
        }
      ],
      "source": [
        "#Lambda - Example 1\n",
        "# Write a lambda function to check a number is even or odd\n",
        "\n",
        "f = lambda x: \"even\" if x % 2 == 0 else \"odd\"\n",
        "\n",
        "f(2)"
      ]
    },
    {
      "cell_type": "code",
      "execution_count": null,
      "metadata": {
        "id": "mDOfBFg1tZbW",
        "outputId": "ce2f89ed-de32-4fb8-c9d9-af85fa8ee706"
      },
      "outputs": [
        {
          "name": "stdout",
          "output_type": "stream",
          "text": [
            "13\n"
          ]
        }
      ],
      "source": [
        "#Lambda - Example 2\n",
        "x = lambda a, b, c : a + b + c\n",
        "print(x(5, 6, 2))\n",
        " "
      ]
    },
    {
      "cell_type": "code",
      "execution_count": null,
      "metadata": {
        "id": "7QdTJjzmtZbW",
        "outputId": "b5c04b3b-b6c8-4f4a-896e-46d171ff5b54"
      },
      "outputs": [
        {
          "name": "stdout",
          "output_type": "stream",
          "text": [
            "2\n",
            "4\n",
            "6\n",
            "8\n",
            "10\n",
            "12\n",
            "14\n",
            "16\n",
            "18\n",
            "20\n"
          ]
        }
      ],
      "source": [
        "#Lambda - Example 3\n",
        "# Lambda Function with List Comprehension\n",
        "# Print table 2\n",
        "\n",
        "multiplication_table_2 = [lambda x=x: x*2 for x in range(1, 11)]\n",
        "#print(type(multiplication_table_2)) #<class 'list'>\n",
        "\n",
        "for val in multiplication_table_2:\n",
        "    #print(type(val)) #<class 'function'>\n",
        "\n",
        "    print(val())"
      ]
    },
    {
      "cell_type": "code",
      "execution_count": null,
      "metadata": {
        "id": "TD1RAbOJtZbW",
        "outputId": "fad7db71-9bd8-40d3-ac2e-17e621710ade"
      },
      "outputs": [
        {
          "name": "stdout",
          "output_type": "stream",
          "text": [
            "10\n"
          ]
        }
      ],
      "source": [
        "#Lambda - Example -4\n",
        "# Lambda Function with if-else\n",
        "\n",
        "max_val = lambda a, b : a if(a > b) else b\n",
        " \n",
        "print(max_val(10, 2))\n"
      ]
    },
    {
      "cell_type": "code",
      "execution_count": null,
      "metadata": {
        "id": "QkQgxW4vtZbW",
        "outputId": "260f9544-1a4e-4097-c404-e8e43a15d754"
      },
      "outputs": [
        {
          "name": "stdout",
          "output_type": "stream",
          "text": [
            "<map object at 0x000002171595FD48>\n",
            "[27, 216, 343]\n"
          ]
        }
      ],
      "source": [
        "#Lambda - Example -5\n",
        "\n",
        "#lambda() Function with map()\n",
        "\n",
        "#cube all numbers in a list\n",
        "\n",
        "list1 = [3,6,7]\n",
        "\n",
        "result = map(lambda x : x*x*x , list1 )\n",
        "\n",
        "print(result)\n",
        "print(list(result))\n",
        "\n",
        "#you can do this way too\n",
        "\n",
        "# cube_lambda = lambda x: x*x*x\n",
        "\n",
        "# list2 = [2,3,4]\n",
        "# result1 = map(cube_lambda, list2 )\n",
        "# print(list(result1))\n"
      ]
    },
    {
      "cell_type": "code",
      "execution_count": null,
      "metadata": {
        "id": "RGPqEc6KtZbW",
        "outputId": "a24b9f90-310a-4247-cf3e-d453923d0399"
      },
      "outputs": [
        {
          "name": "stdout",
          "output_type": "stream",
          "text": [
            "[5, 7, 97, 77, 23, 73, 61]\n"
          ]
        }
      ],
      "source": [
        "#Lambda - Example -6\n",
        "# Lambda() with filter()\n",
        "# Odd numbers in the list\n",
        "li = [5, 7, 22, 97, 54, 62, 77, 23, 73, 61]\n",
        " \n",
        "final_list = (filter(lambda x: (x%2 != 0) , li))\n",
        "print(list(final_list))"
      ]
    },
    {
      "cell_type": "code",
      "execution_count": null,
      "metadata": {
        "id": "JNPqzcHYtZbX",
        "outputId": "d44846d1-b4af-4ddf-d69b-9ae456705a61"
      },
      "outputs": [
        {
          "name": "stdout",
          "output_type": "stream",
          "text": [
            "120\n"
          ]
        }
      ],
      "source": [
        "#Lambda - Example -7\n",
        "#Lambda() with reduce()\n",
        "\n",
        "from functools import reduce\n",
        "li1 = [5, 8, 10, 20, 50, 100]\n",
        "sum = reduce((lambda x, y: x + y), li1)\n",
        "# print (sum)\n",
        "\n",
        "\n",
        "li2 = [2,3,4,5]\n",
        "multiply = reduce((lambda x, y: x * y), li2)\n",
        "print(multiply)"
      ]
    },
    {
      "cell_type": "code",
      "execution_count": null,
      "metadata": {
        "id": "FJCKZl7TtZbX",
        "outputId": "81b961f7-857f-45d1-fcd8-28ec471c4eee"
      },
      "outputs": [
        {
          "data": {
            "text/plain": [
              "3"
            ]
          },
          "execution_count": 114,
          "metadata": {},
          "output_type": "execute_result"
        }
      ],
      "source": [
        "# min = (lambda x, y: x if x < y else y)\n",
        "# # min(101*99, 102*98)\n",
        "# min(3,9)"
      ]
    },
    {
      "cell_type": "markdown",
      "metadata": {
        "id": "S46yCK6gtZbX"
      },
      "source": [
        "#### Map , Filter and Reduce functions\n",
        "\n",
        "\n",
        "(source - https://towardsdatascience.com/accelerate-your-python-list-handling-with-map-filter-and-reduce-d70941b19e52)"
      ]
    },
    {
      "cell_type": "markdown",
      "metadata": {
        "id": "7McDBUbetZbX"
      },
      "source": [
        "#### Map ####\n",
        "\n",
        "The map() function executes a specified function for each item in an iterable. The item is sent to the function as a parameter. \n",
        "Python’s map() is a built-in function that allows you to process and transform all the items in an iterable without using an explicit for loop, a technique commonly known as mapping.(https://realpython.com/)\n",
        "\n",
        "Syntax :\n",
        "\n",
        "<b>map(function, iterables)</b>\n",
        "\n",
        "The first argument(function) can be any Python callable such as built-in functions, classes, methods, lambda functions, and user-defined functions.The only condition would be that the callable takes an argument and returns a concrete and useful value.\n",
        "\n",
        "\n",
        "iterables can be sets, lists , tuples etc\n",
        "\n",
        "You can pass more than one iterable to the map() function.\n",
        "\n",
        "The map() function returns an object of map class. The returned value can be passed to functions like list() , set() etc\n",
        "\n",
        "The first argument to map() is a function object, which means that you need to pass a function without calling it. That is, without using a pair of parentheses. The first argument is called transformation function.\n",
        "\n",
        "Example - map(int , [\"1\" ,\"2\" ,\"3\"])\n",
        "\n",
        "\n",
        "<i> Previous knowledge of working with iterables , loops , function , lambda function will be useful</i>\n",
        "\n",
        "(Refer - https://docs.python.org/3/library/functions.html#map)"
      ]
    },
    {
      "cell_type": "code",
      "execution_count": null,
      "metadata": {
        "id": "_0pLsDJ8tZbY",
        "outputId": "7508fd64-eaa4-4532-90ab-6d26fbdfd3f2"
      },
      "outputs": [
        {
          "name": "stdout",
          "output_type": "stream",
          "text": [
            "<map object at 0x0000021D5706FF88>\n",
            "[9, 16, 25]\n"
          ]
        }
      ],
      "source": [
        "# map() Example -1\n",
        "\n",
        "#Define a function which will take a number and square it up.\n",
        "def square_the_num(x):\n",
        "    return x*x\n",
        "\n",
        "# print(square_the_num(4))\n",
        "\n",
        "# List\n",
        "list1 = [3,4,5]\n",
        "\n",
        "# apply square_the_num() function to each item of the numbers list\n",
        "newlist = map(square_the_num , list1)\n",
        "\n",
        "print(newlist)\n",
        "# output - <map object at 0x000001AB74152988>\n",
        "\n",
        "#make the map output readable\n",
        "print(list(newlist))\n",
        "#output - [4, 9, 16, 25]\n"
      ]
    },
    {
      "cell_type": "code",
      "execution_count": null,
      "metadata": {
        "id": "y7O_a4zHtZbY",
        "outputId": "c6294935-b8b8-4a60-c7a6-9026875f5d98"
      },
      "outputs": [
        {
          "name": "stdout",
          "output_type": "stream",
          "text": [
            "<map object at 0x0000021D570720C8>\n",
            "[5, 6, 6]\n"
          ]
        }
      ],
      "source": [
        "# map() Example -2\n",
        "def myfunc(a):\n",
        "  return len(a)\n",
        "\n",
        "x = map(myfunc, ('apple', 'banana', 'cherry'))\n",
        "\n",
        "print(x)\n",
        "\n",
        "#convert the map into a list, for readability:\n",
        "print(list(x))"
      ]
    },
    {
      "cell_type": "code",
      "execution_count": null,
      "metadata": {
        "id": "FKgJHMUCtZbY",
        "outputId": "e8741515-d1dc-4c5e-9247-3c9303f0c288"
      },
      "outputs": [
        {
          "name": "stdout",
          "output_type": "stream",
          "text": [
            "[25, 100, 225, 625]\n"
          ]
        }
      ],
      "source": [
        "# map() Example -3\n",
        "\n",
        "#Use lambda function with map()\n",
        "\n",
        "nums_list =[5,10,15,25]\n",
        "\n",
        "#map(function, iterables)\n",
        "\n",
        "result = map( lambda x : x*x , nums_list)\n",
        "\n",
        "#print the map object in a readble format\n",
        "\n",
        "print(list(result))"
      ]
    },
    {
      "cell_type": "code",
      "execution_count": null,
      "metadata": {
        "id": "TOWqy98MtZbY",
        "outputId": "e9c02b2e-8ce7-436b-db6f-66b3fb79c88b"
      },
      "outputs": [
        {
          "name": "stdout",
          "output_type": "stream",
          "text": [
            "[7, 9, 11]\n"
          ]
        }
      ],
      "source": [
        "# map() Example -4\n",
        "# Passing Multiple Iterators to map() Using Lambda\n",
        "\n",
        "list1 = [2, 3, 4]\n",
        "list2 = [5, 6, 7]\n",
        "\n",
        "result = map(lambda l1, l2: l1+l2, list1, list2)\n",
        "print(list(result))\n"
      ]
    },
    {
      "cell_type": "markdown",
      "metadata": {
        "id": "wLfDVQQDtZbZ"
      },
      "source": [
        "![image.png](attachment:image.png)"
      ]
    },
    {
      "cell_type": "code",
      "execution_count": null,
      "metadata": {
        "id": "e2ck5RJhtZbZ",
        "outputId": "ca626eaa-2a00-48b6-928e-197f220a6006"
      },
      "outputs": [
        {
          "name": "stdout",
          "output_type": "stream",
          "text": [
            "[9, 11, 13]\n"
          ]
        }
      ],
      "source": [
        "# map() Example -4.a\n",
        "# Passing Multiple Iterators to map() Using custom function\n",
        "\n",
        "l1 = [4, 5, 6]\n",
        "l2 = [5, 6, 7]\n",
        "l3=  [1,1,1]\n",
        "\n",
        "def listsum(l1,l2,list3):\n",
        "    return l1 + l2\n",
        "\n",
        "result = map(listsum, l1, l2 ,l3)\n",
        "print(list(result))\n"
      ]
    },
    {
      "cell_type": "code",
      "execution_count": null,
      "metadata": {
        "id": "WWytCGpAtZbZ",
        "outputId": "0b322d38-bc12-4814-9799-50144512f432"
      },
      "outputs": [
        {
          "name": "stdout",
          "output_type": "stream",
          "text": [
            "[1, 2, 3, 4, 5, 6, 7, 8, 9, 10]\n",
            "['1', '2', '3', '4', '5', '6', '7', '8', '9', '10']\n"
          ]
        }
      ],
      "source": [
        "# map() - Example -5\n",
        "#convert all items in a list from strings to numbers\n",
        "str_nums = [\"1\", \"2\", \"3\", \"4\", \"5\", \"6\", \"7\", \"8\", \"9\", \"10\"]\n",
        "\n",
        "nums = map(int , str_nums)\n",
        "\n",
        "\n",
        "print(list(nums))\n",
        "#original list remains unchanged\n",
        "print(list(str_nums))"
      ]
    },
    {
      "cell_type": "code",
      "execution_count": null,
      "metadata": {
        "id": "l4ofI_DatZbZ",
        "outputId": "0abf3f78-ff4a-4842-baf0-9771f2bbdceb"
      },
      "outputs": [
        {
          "name": "stdout",
          "output_type": "stream",
          "text": [
            "['Mango', 'Papaya', 'Guava', 'Cherry', 'Kiwi', 'Coconut']\n"
          ]
        }
      ],
      "source": [
        "# map() - Example -6\n",
        "# Capitalize all items of a list \n",
        "\n",
        "mylist = [\"mango\" , \"papaya\" , \"guava\" , \"cherry\" , 'kIWI' , 'COCONUT']\n",
        "\n",
        "newlist = map(str.capitalize , mylist)\n",
        "#  str.capitalize(), str.lower(), str.swapcase(), str.title(),  str.upper()\n",
        "\n",
        "print(list(newlist))"
      ]
    },
    {
      "cell_type": "code",
      "execution_count": null,
      "metadata": {
        "id": "BL04wyW0tZba",
        "outputId": "54f7caa9-4272-4a6c-b3dd-ba9d27e9a0d2"
      },
      "outputs": [
        {
          "name": "stdout",
          "output_type": "stream",
          "text": [
            "['Python', 'why ', 'Ok', 'then']\n"
          ]
        }
      ],
      "source": [
        "# map() - Example -7\n",
        "import re\n",
        "\n",
        "def remove_punctuation(word):\n",
        "    return re.sub(r'[!?.:;,\"()-]', \"\", word)\n",
        "\n",
        "# remove_punctuation(\"...Python!\")\n",
        "\n",
        "word_list =['...Python!' , 'why ?' ,'Ok.' ,\"then:\"]\n",
        "\n",
        "\n",
        "newlist = map(remove_punctuation,word_list)\n",
        "print(list(newlist))"
      ]
    },
    {
      "cell_type": "code",
      "execution_count": null,
      "metadata": {
        "id": "dDokYNVmtZba",
        "outputId": "74488158-8dff-49d1-ea75-598dd45796cb"
      },
      "outputs": [
        {
          "data": {
            "text/plain": [
              "[12.3, 3.3, -15.2, nan]"
            ]
          },
          "execution_count": 19,
          "metadata": {},
          "output_type": "execute_result"
        }
      ],
      "source": [
        "#map() - Example - 8\n",
        "#Elaborate function\n",
        "def to_float(number):\n",
        "    try:\n",
        "        return float(number.replace(\",\", \".\"))\n",
        "    except ValueError:\n",
        "         return float(\"nan\")\n",
        "\n",
        "\n",
        "list(map(to_float, [\"12.3\", \"3,3\", \"-15.2\", \"One\"]))\n",
        "#output :[12.3, 3.3, -15.2, nan]\n"
      ]
    },
    {
      "cell_type": "code",
      "execution_count": null,
      "metadata": {
        "id": "jHyWyUEGtZba",
        "outputId": "f8fa538e-11d6-4b15-e63b-cfa43471ebf0"
      },
      "outputs": [
        {
          "ename": "ValueError",
          "evalue": "math domain error",
          "output_type": "error",
          "traceback": [
            "\u001b[1;31m---------------------------------------------------------------------------\u001b[0m",
            "\u001b[1;31mValueError\u001b[0m                                Traceback (most recent call last)",
            "\u001b[1;32m<ipython-input-45-029c94ae7f47>\u001b[0m in \u001b[0;36m<module>\u001b[1;34m\u001b[0m\n\u001b[0;32m      1\u001b[0m \u001b[1;32mimport\u001b[0m \u001b[0mmath\u001b[0m\u001b[1;33m\u001b[0m\u001b[1;33m\u001b[0m\u001b[0m\n\u001b[1;32m----> 2\u001b[1;33m \u001b[0mmath\u001b[0m\u001b[1;33m.\u001b[0m\u001b[0msqrt\u001b[0m\u001b[1;33m(\u001b[0m\u001b[1;33m-\u001b[0m\u001b[1;36m16\u001b[0m\u001b[1;33m)\u001b[0m\u001b[1;33m\u001b[0m\u001b[1;33m\u001b[0m\u001b[0m\n\u001b[0m",
            "\u001b[1;31mValueError\u001b[0m: math domain error"
          ]
        }
      ],
      "source": [
        "import math\n",
        "math.sqrt(-16)\n"
      ]
    },
    {
      "cell_type": "code",
      "execution_count": null,
      "metadata": {
        "id": "2S0Z4Dc2tZba",
        "outputId": "685b2ebb-b61e-4e3a-94cd-ddb8e112a663"
      },
      "outputs": [
        {
          "name": "stdout",
          "output_type": "stream",
          "text": [
            "[2.0, 4.0, 6.0]\n"
          ]
        }
      ],
      "source": [
        "#map() - Example - 9\n",
        "# map() and filter()\n",
        "#Sometimes you need to process an input iterable and return another iterable \n",
        "#that results from filtering out unwanted values in the input iterable.\n",
        "\n",
        "#Find the square root of the positive numbers in the list\n",
        "nums =[4, 16, -25, 36 , -49]\n",
        "\n",
        "\n",
        "import math\n",
        "\n",
        "def is_positive(num):\n",
        "    return num >= 0\n",
        "\n",
        "result = map(math.sqrt, filter(is_positive, nums))\n",
        " \n",
        "print(list(result))\n",
        "\n",
        "# c= filter(is_positive, nums)\n",
        "# type(c)\n",
        "# list(c)\n",
        "          "
      ]
    },
    {
      "cell_type": "code",
      "execution_count": null,
      "metadata": {
        "id": "W4l7sntAtZbb",
        "outputId": "1e0c8f8f-6acc-49ef-8c0c-7dad7171ee84"
      },
      "outputs": [
        {
          "name": "stdout",
          "output_type": "stream",
          "text": [
            "40\n"
          ]
        }
      ],
      "source": [
        "#map() - Example - 10\n",
        " \n",
        "# Using map() and filter() within reduce()\n",
        "'''\n",
        "Python’s reduce() is a function that lives in a module called functools in the Python standard library. \n",
        "reduce() is another core functional tool in Python \n",
        "that is useful when you need to apply a function to an iterable and reduce it to a single cumulative value.\n",
        "This kind of operation is commonly known as reduction or folding. \n",
        "'''\n",
        "\n",
        "from functools import reduce\n",
        " \n",
        "list1 = [2,3,4,5,6,7,8]\n",
        "# step-1 : filter only even numbers using lambda function  [2,4,6]\n",
        "# print(list(filter(lambda x: (x%2==0), list1)))\n",
        "\n",
        "#step-2 : Using map() ,add every element to itself i.e 2+2  4+4 6+6   [4,8,12]\n",
        "# print(list(map(lambda x:x+x,filter(lambda x: (x%2==0), list1))))\n",
        "\n",
        "# step-3 : Reduce the above list to sum of all the numbers\n",
        "\n",
        "sum_of_all_twice_the_even_nums = reduce(lambda x,y: x+y,map(lambda x:x+x,filter(lambda x: (x%2==0), list1))) \n",
        "print(sum_of_all_twice_the_even_nums)"
      ]
    },
    {
      "cell_type": "markdown",
      "metadata": {
        "id": "cXNRBXdgtZbb"
      },
      "source": [
        "Lets do number squaring operation in three ways\n",
        "\n",
        "1. Using loops\n",
        "\n",
        "2. Using list comprehension\n",
        "\n",
        "3. Using map()"
      ]
    },
    {
      "cell_type": "code",
      "execution_count": null,
      "metadata": {
        "id": "yiPS4oIDtZbb",
        "outputId": "839f3c2c-bd79-4257-da0c-0d35c211b025"
      },
      "outputs": [
        {
          "name": "stdout",
          "output_type": "stream",
          "text": [
            "[4, 9, 16]\n",
            "[4, 9, 16]\n",
            "[4, 9, 16]\n"
          ]
        }
      ],
      "source": [
        "nums = [2,3,4]\n",
        "squared_nums =[]\n",
        "#1. Using loops\n",
        "for i in nums:\n",
        "    squared_nums.append(i ** 2)\n",
        "\n",
        "print(squared_nums)\n",
        "\n",
        "\n",
        "#2. Using list comprehension\n",
        "\n",
        "squared = [i*i for i in nums]\n",
        "\n",
        "print(squared)\n",
        "\n",
        "#3. Using map()\n",
        "\n",
        "def square(number):\n",
        "    return number ** 2\n",
        "\n",
        "mapped_data = map(square , nums)\n",
        "#square is the custom transformation function here\n",
        "print(list(mapped_data))"
      ]
    },
    {
      "cell_type": "markdown",
      "metadata": {
        "id": "8WItx5pKtZbb"
      },
      "source": [
        "Sometimes you might face situations in which you need to perform the same operation on all the items of an input iterable to build a new iterable. The quickest and most common approach to this problem is to use a Python for loop. However, you can also tackle this problem without an explicit loop by using map().\n",
        "\n"
      ]
    },
    {
      "cell_type": "markdown",
      "metadata": {
        "id": "68Ihlo1ntZbb"
      },
      "source": [
        "### Filter ###\n",
        "\n",
        "The filter() function returns an iterator were the items are filtered through a function to test if the item is accepted or not.\n",
        "\n",
        "Syntax -\n",
        "\n",
        "<b>filter(function, sequence)</b>\n",
        "\n",
        "Parameters:\n",
        "\n",
        "function: function that tests if each element of a \n",
        "sequence true or not.\n",
        "\n",
        "sequence: sequence which needs to be filtered, it can \n",
        "be sets, lists, tuples, or containers of any iterators.\n",
        "\n",
        "Returns:\n",
        "\n",
        "returns an iterator that is already filtered.\n",
        "\n"
      ]
    },
    {
      "cell_type": "code",
      "execution_count": null,
      "metadata": {
        "id": "FrWjpv7rtZbb",
        "outputId": "a22eed4b-e5e8-496c-aedd-283406a30948"
      },
      "outputs": [
        {
          "name": "stdout",
          "output_type": "stream",
          "text": [
            "18\n",
            "24\n",
            "32\n"
          ]
        }
      ],
      "source": [
        "#Filter - Example 1\n",
        "\n",
        "# Filtering consists of applying a  Boolean-valued function to an iterable to generate a new iterable. \n",
        "#Items in the new iterable are produced by filtering out any items in the original \n",
        "#iterable that make the predicate function return false.\n",
        "\n",
        "\n",
        "\n",
        "#Task-Filter the list, and return a new list with only the values equal to or above 18:\n",
        "\n",
        "ages = [5, 12, 17, 18, 24, 32]\n",
        "\n",
        "def myFunc(x):\n",
        "  if x < 18:\n",
        "    return False\n",
        "  else:\n",
        "    return True\n",
        "\n",
        "adults = filter(myFunc, ages)\n",
        "\n",
        "for x in adults:\n",
        "  print(x)\n"
      ]
    },
    {
      "cell_type": "code",
      "execution_count": null,
      "metadata": {
        "id": "KofCmRxQtZbc",
        "outputId": "c8c5dd73-9b26-43c0-bef1-20867c48b911"
      },
      "outputs": [
        {
          "name": "stdout",
          "output_type": "stream",
          "text": [
            "[1, 3, 5, 13]\n",
            "[0, 2, 8]\n",
            "<class 'filter'>\n"
          ]
        }
      ],
      "source": [
        "# Filter - Example -2\n",
        "\n",
        "# It is normally used with Lambda functions to separate list, tuple, or sets.\n",
        "\n",
        "# a list contains both even and odd numbers. \n",
        "seq = [0, 1, 2, 3, 5, 8, 13]\n",
        "  \n",
        "# result contains odd numbers of the list\n",
        "result = filter(lambda x: x % 2 != 0, seq)\n",
        "print(list(result))\n",
        "  \n",
        "# result contains even numbers of the list\n",
        "result = filter(lambda x: x % 2 == 0, seq)\n",
        "print(list(result))\n",
        "\n",
        "# print(type(filter(lambda x: x % 2 != 0, seq))) #<class 'filter'>\n"
      ]
    },
    {
      "cell_type": "markdown",
      "metadata": {
        "id": "BkvxlVMttZbc"
      },
      "source": [
        "### Reduce\n",
        "\n",
        "The reduce() function accepts a function and a sequence and returns a single value calculated as follows:\n",
        "\n",
        "1. Initially, the function is called with the first two items from the sequence and the result is returned.\n",
        "\n",
        "2. The function is then called again with the result obtained in step 1 and the next value in the sequence. This process keeps repeating until there are items in the sequence.\n",
        "\n",
        "This function is defined in “functools” module.\n",
        "\n",
        "Syntax - reduce(function,sequence) \n",
        "\n"
      ]
    },
    {
      "cell_type": "code",
      "execution_count": null,
      "metadata": {
        "id": "ePpSr2e5tZbc",
        "outputId": "b5b58da2-d84e-4e07-bb91-86050a356556"
      },
      "outputs": [
        {
          "name": "stdout",
          "output_type": "stream",
          "text": [
            "10\n"
          ]
        }
      ],
      "source": [
        "#reduce - Example-1\n",
        "from functools import reduce\n",
        " \n",
        "list1 =[47,11,42,13]\n",
        "result = reduce(lambda x,y : x+y , list1)\n",
        "print(result)"
      ]
    },
    {
      "cell_type": "markdown",
      "metadata": {
        "id": "EghU1ApftZbc"
      },
      "source": [
        "![image.png](attachment:image.png)"
      ]
    },
    {
      "cell_type": "code",
      "execution_count": null,
      "metadata": {
        "id": "O7zOFxewtZbc",
        "outputId": "95bd36b5-2457-4595-8cba-65d2b56b5c0b"
      },
      "outputs": [
        {
          "name": "stdout",
          "output_type": "stream",
          "text": [
            "24\n"
          ]
        }
      ],
      "source": [
        "#reduce - Example-2\n",
        "result = reduce(lambda a,b:a*b , [1,2,3,4])\n",
        "print(result)"
      ]
    },
    {
      "cell_type": "code",
      "execution_count": null,
      "metadata": {
        "id": "Kc9oP8_QtZbd",
        "outputId": "5932081e-8202-4a81-ffc6-bc5038becf15"
      },
      "outputs": [
        {
          "data": {
            "text/plain": [
              "'ac'"
            ]
          },
          "execution_count": 26,
          "metadata": {},
          "output_type": "execute_result"
        }
      ],
      "source": [
        "x = 'a'\n",
        "y = 'c'\n",
        "x+y"
      ]
    },
    {
      "cell_type": "code",
      "execution_count": null,
      "metadata": {
        "id": "fZlGBr0FtZbd",
        "outputId": "73b4c6af-310f-4aba-9172-5d73978cd034"
      },
      "outputs": [
        {
          "name": "stdout",
          "output_type": "stream",
          "text": [
            "abdf\n"
          ]
        }
      ],
      "source": [
        "#reduce - Example-3\n",
        "list1 = ['apple', 'banana',  'date' ,'fig']\n",
        "\n",
        "from functools import reduce\n",
        "\n",
        "print(reduce(lambda x,y:x+y,map(lambda x:x[0],list1)))\n"
      ]
    },
    {
      "cell_type": "markdown",
      "metadata": {
        "id": "O4GBE1xttZbd"
      },
      "source": [
        "Task - Explore accumulate() function\n",
        "\n",
        "Compare reduce() and accumulate() in Python"
      ]
    },
    {
      "cell_type": "markdown",
      "metadata": {
        "id": "a5lYs46BtZbd"
      },
      "source": [
        "References : \n",
        "1. https://realpython.com/python-map-function/"
      ]
    }
  ],
  "metadata": {
    "kernelspec": {
      "display_name": "Python 3",
      "language": "python",
      "name": "python3"
    },
    "language_info": {
      "codemirror_mode": {
        "name": "ipython",
        "version": 3
      },
      "file_extension": ".py",
      "mimetype": "text/x-python",
      "name": "python",
      "nbconvert_exporter": "python",
      "pygments_lexer": "ipython3",
      "version": "3.7.6"
    },
    "colab": {
      "name": "Control structure and functions in python.ipynb",
      "provenance": [],
      "include_colab_link": true
    }
  },
  "nbformat": 4,
  "nbformat_minor": 0
}