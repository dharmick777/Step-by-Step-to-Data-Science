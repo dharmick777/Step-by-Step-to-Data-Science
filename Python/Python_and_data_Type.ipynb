{
  "cells": [
    {
      "cell_type": "markdown",
      "metadata": {
        "id": "view-in-github",
        "colab_type": "text"
      },
      "source": [
        "<a href=\"https://colab.research.google.com/github/priyak950/Step-by-Step-to-Data-Science/blob/main/Python/Python_and_data_Type.ipynb\" target=\"_parent\"><img src=\"https://colab.research.google.com/assets/colab-badge.svg\" alt=\"Open In Colab\"/></a>"
      ]
    },
    {
      "cell_type": "markdown",
      "metadata": {
        "id": "L-mYP1TmM7ne"
      },
      "source": [
        "<b>What is Python?</b>\n",
        "\n",
        "Python is an easy to learn, powerful computer programming language .\n",
        "\n",
        "<b>Who is the creator of python programming language? </b>\n",
        "\n",
        "Guido van Rossum is a Dutch programmer and he is the creator of Python. \n",
        "In December 1989, Van Rossum had been looking for a \"'hobby' programming project that would keep [him] occupied during the week around Christmas\" as his office was closed when he decided to write an interpreter for a \"new scripting language [he] had been thinking about lately. Since 2020, Van Rossum is working with Microsoft.\n",
        "\n"
      ]
    },
    {
      "cell_type": "markdown",
      "metadata": {
        "id": "xbWcqU2FM7ng"
      },
      "source": [
        "\n",
        "\n",
        "<b>Ok, why python is called python? Is it related to snake ??</b>\n",
        "\n",
        "Ah, No, not related to snakes. \n",
        "Monty Python (also collectively known as the Pythons) were a British surreal comedy troupe who created the  comedy television show Monty Python's Flying Circus, which first aired on the BBC in 1969. (Wikipedia)\n",
        "\"When <b>Guido van Rossum</b> began implementing Python, he was also reading the published scripts from 'Monty Python’s Flying Circus', a BBC comedy series from the 1970s. Van Rossum thought he needed a name that was short, unique, and slightly mysterious, so he decided to call the language Python.\" - Python.org\n",
        "\n",
        "\n",
        "(The Pythons in 1969:\n",
        "Back row: Chapman, Idle, Gilliam\n",
        "Front row: Jones, Cleese, Palin)\n",
        "\n",
        "\n"
      ]
    },
    {
      "cell_type": "markdown",
      "metadata": {
        "id": "3YGgfBkuM7no"
      },
      "source": [
        "\n",
        "\n",
        "<b> Why python is popular ? </b>\n",
        "\n",
        "* Its a general purpose language. \n",
        "* It has simple syntax\n",
        "* It's open source. \n",
        "* It is supported by a large active community.\n",
        "* Versatility\n",
        " \n",
        " \n"
      ]
    },
    {
      "cell_type": "markdown",
      "metadata": {
        "id": "c5hkcWTkM7no"
      },
      "source": [
        "\n",
        "<b> Ah, but what is a general purpose programming language? </b>\n",
        "\n",
        "It means, Python can be used for variety of different program like website development , data analysis , task automation etc\n",
        "\n",
        "<b> Big Companies using Python </b>\n",
        "\n",
        "NASA,Google,Nokia,IBM,Yahoo! Maps,Walt Disney Feature Animation,Facebook,Netflix,Expedia,Reddit,\n",
        "Quora,MIT,Disqus,Hike,Spotify,Udemy,Shutterstock,Uber,Amazon,Mozilla,Dropbox,Pinterest,Youtube\n",
        "\n",
        "<b>Popularity of python </b>\n",
        "\n",
        "#### TIOBE Programming Community Index\n",
        "\n",
        "Since 2003, Python has consistently ranked in the top ten most popular programming languages in the TIOBE Programming Community Index where, as of January 2022, it is the most popular language (ahead of Java, and C). It was selected Programming Language of the Year (for \"the highest rise in ratings in a year\") in 2007, 2010, 2018, 2020 ,2021 , 2022.\n",
        "\n",
        "(Source- https://www.tiobe.com/tiobe-index/      , https://en.wikipedia.org/wiki/Python_(programming_language))\n",
        "\n",
        "\n"
      ]
    },
    {
      "cell_type": "markdown",
      "metadata": {
        "id": "JHtjxZ81M7np"
      },
      "source": [
        "#### PYPL PopularitY of Programming Language\n",
        "It is a measure of the popularity of programming languages. It is created by analyzing how often language tutorials are searched on Google.\n",
        "\n",
        "\n",
        "\n",
        "Worldwide, Python is the most popular language, Python grew the most in the last 5 years (13.4%) and Java lost the most (-5.1%)\n",
        "\n",
        "\n",
        "(https://pypl.github.io/PYPL.html)"
      ]
    },
    {
      "cell_type": "markdown",
      "metadata": {
        "id": "V9Wor8nSM7np"
      },
      "source": [
        "#### Some fun , Antigravity\n",
        "\n",
        "import antigravity opens up a web browser that points to the classic XKCD comic mentioning Python"
      ]
    },
    {
      "cell_type": "code",
      "execution_count": null,
      "metadata": {
        "id": "YoRI4yHHM7nq"
      },
      "outputs": [],
      "source": [
        "import antigravity"
      ]
    },
    {
      "cell_type": "markdown",
      "metadata": {
        "id": "s9zhhWrHM7nq"
      },
      "source": [
        "<b> Some fun . Zen of Python</b>"
      ]
    },
    {
      "cell_type": "code",
      "execution_count": null,
      "metadata": {
        "id": "uSo01QlYM7nr"
      },
      "outputs": [],
      "source": [
        "import this\n"
      ]
    },
    {
      "cell_type": "code",
      "execution_count": null,
      "metadata": {
        "id": "KXYKtqxKM7nr",
        "outputId": "b58cee8a-2356-4e62-e04a-4f7abfde2a77"
      },
      "outputs": [
        {
          "name": "stdout",
          "output_type": "stream",
          "text": [
            "Hello world!\n"
          ]
        }
      ],
      "source": [
        "#another python easter egg\n",
        "# Easter egg - an unexpected or undocumented feature in a piece of computer software or on a DVD,\n",
        "#included as a joke or a bonus.\n",
        "\n",
        "\n",
        "import __hello__\n"
      ]
    },
    {
      "cell_type": "markdown",
      "metadata": {
        "id": "mnlAlxNXM7ns"
      },
      "source": [
        "\n",
        "<b> How long does it take to learn Python? </b>\n",
        "From my own experience , 5-6 hours a week study for 5 months would be more than sufficient.\n",
        "Say, roughly 100 hours of effort is good enough to have a good grip on Python.\n",
        "Depends on person to person , how much effort they give to learn a programming language.\n",
        "\n",
        "\n",
        "\n",
        "<b>What Python books are available?</b>\n",
        "\n",
        "https://wiki.python.org/moin/PythonBooks\n",
        "\n",
        "#### Read  more Python FAQs here ####\n",
        "\n",
        "https://docs.python.org/3/faq/general.html#what-is-python\n",
        "\n"
      ]
    },
    {
      "cell_type": "markdown",
      "metadata": {
        "id": "60GtpwopM7ns"
      },
      "source": [
        "<b>As a beginner , where will I write python program? Where should I start ?</b>\n",
        "\n",
        "We use IDE (Integrated Development Environment) to write codes. As a beginner , you can start with <b>Google Colab or Jupyter</b>. To use Google colab , you need to have a gmail account. That's it. No other setup is required. \n",
        "If you want to use Jupyter Notebooks for python programming then you have to download and install Anaconda distribution and Jupyter in your local machine.  Visit Jupyter.org and https://www.anaconda.com/ to read and follow installation instructions.\n"
      ]
    },
    {
      "cell_type": "markdown",
      "metadata": {
        "id": "mE2zzAGgM7ns"
      },
      "source": [
        "<h3>What is Colaboratory?</h3>\n",
        "\n",
        "Colaboratory, or \"Colab\" for short, allows you to write and execute Python in your browser, with \n",
        "- Zero configuration required\n",
        "- Free access to GPUs\n",
        "- Easy sharing\n",
        "\n",
        "Whether you're a **student**, a **data scientist** or an **AI researcher**, Colab can make your work easier. Watch [Introduction to Colab](https://www.youtube.com/watch?v=inN8seMm7UI) to learn more, or just get started below!"
      ]
    },
    {
      "cell_type": "markdown",
      "metadata": {
        "id": "cGaLXTH1M7nt"
      },
      "source": [
        "\n",
        "<b> From where can I learn Python ?</b>\n",
        "\n",
        "Best place to learn Python is the Python documentation itself. \n",
        "For beginners , You can pick any other good website to get started. Just stick to one site/book/course in the beginning. Then check other resources eventually\n",
        "\n",
        "https://www.w3schools.com/python/\n",
        "\n",
        "#### Following are some popular IDE for python programming.\n",
        "\n",
        "* IDLE\n",
        "* PyCharm\n",
        "* Visual Studio Code\n",
        "* Jupyter\n",
        "* Sublime Text\n",
        "* Spyder\n",
        "* Google Colab\n",
        "\n",
        "#### Which python version to use ?\n",
        "\n",
        "Python 3 \n",
        "\n",
        " - 3.10.1 is the latest stable release as on 13-Jan-2021\n",
        " (Note that Python 3.9+ cannot be used on Windows 7 or earlier.)\n"
      ]
    },
    {
      "cell_type": "markdown",
      "metadata": {
        "id": "_63KTAXQM7nt"
      },
      "source": [
        "### Let's start some coding\n",
        " \n",
        "(Open a Google colab file or a Jupyter notebook to start writing code)\n"
      ]
    },
    {
      "cell_type": "markdown",
      "metadata": {
        "id": "2iB2qYuMM7nt"
      },
      "source": [
        "#### 1. Output"
      ]
    },
    {
      "cell_type": "code",
      "execution_count": null,
      "metadata": {
        "id": "kCScd66SM7nt",
        "outputId": "df9e4a87-419b-4e41-d236-7bc3f4959f9d"
      },
      "outputs": [
        {
          "name": "stdout",
          "output_type": "stream",
          "text": [
            "Hello World !\n",
            "HI\n",
            "5  is a number  this is good\n"
          ]
        }
      ],
      "source": [
        "print(\"Hello World !\")\n",
        "print(\"HI\")\n",
        "x=5\n",
        "print( x , \" is a number\" , \" this is good\")"
      ]
    },
    {
      "cell_type": "markdown",
      "metadata": {
        "id": "3gPfAUanM7nt"
      },
      "source": [
        "#### 2. Input and assignment"
      ]
    },
    {
      "cell_type": "code",
      "execution_count": null,
      "metadata": {
        "id": "QHcWaQEXM7nt",
        "outputId": "65d2b161-2e53-4a22-c696-f89362dd9b30"
      },
      "outputs": [
        {
          "name": "stdout",
          "output_type": "stream",
          "text": [
            "What is your name ?Lipsa\n"
          ]
        }
      ],
      "source": [
        "name = input(\"What is your name ?\")\n",
        "name =\"Biswas\""
      ]
    },
    {
      "cell_type": "code",
      "execution_count": null,
      "metadata": {
        "id": "Mmby1ljvM7nu",
        "outputId": "f596a197-cb9d-4288-9aed-0929705c325e"
      },
      "outputs": [
        {
          "name": "stdout",
          "output_type": "stream",
          "text": [
            "Welcome Biswas  !\n"
          ]
        }
      ],
      "source": [
        "print('Welcome', name , \" !\")"
      ]
    },
    {
      "cell_type": "markdown",
      "metadata": {
        "id": "1jUitdIZM7nu"
      },
      "source": [
        "#### 3. Python syntax - Indentation\n",
        "\n",
        "Indentation referes to spaces at the beginning of the code line. In python , indentation is used to show a block of code"
      ]
    },
    {
      "cell_type": "code",
      "execution_count": null,
      "metadata": {
        "id": "OkE2hBD-M7nu",
        "outputId": "85188d13-8fff-49cb-b7df-adcb857b3682"
      },
      "outputs": [
        {
          "name": "stdout",
          "output_type": "stream",
          "text": [
            "wrong!\n"
          ]
        }
      ],
      "source": [
        "\n",
        "def Division(num1,num2):\n",
        "\n",
        "    #write if block\n",
        "    if num2!=0:        \n",
        "        return num1//num2\n",
        "    #else block\n",
        "    else:\n",
        "        print(\"wrong!\")\n",
        "         \n",
        "        \n",
        " \n",
        "        \n",
        " \n",
        "\n",
        "Division(12,0)"
      ]
    },
    {
      "cell_type": "markdown",
      "metadata": {
        "id": "EugeD3v2M7nu"
      },
      "source": [
        "#### 4.Comments in python code\n",
        "Comments are provided in  a single line or multiple lines to explain code.\n",
        "\n",
        "Single line comments start with character #\n",
        "\n",
        "Multiline comments can be written within triple quites '''\n",
        "\n",
        "Comments also used to prevent the execution of the code\n",
        "\n",
        "Lets see how commenting is done in Python"
      ]
    },
    {
      "cell_type": "code",
      "execution_count": null,
      "metadata": {
        "id": "Kcj86QWqM7nu",
        "outputId": "81ed35ae-9a26-42a1-e8d4-92001070678f"
      },
      "outputs": [
        {
          "ename": "SyntaxError",
          "evalue": "invalid syntax (<ipython-input-16-f6bfcb1f4fff>, line 1)",
          "output_type": "error",
          "traceback": [
            "\u001b[1;36m  File \u001b[1;32m\"<ipython-input-16-f6bfcb1f4fff>\"\u001b[1;36m, line \u001b[1;32m1\u001b[0m\n\u001b[1;33m    assigning 5 to a\u001b[0m\n\u001b[1;37m              ^\u001b[0m\n\u001b[1;31mSyntaxError\u001b[0m\u001b[1;31m:\u001b[0m invalid syntax\n"
          ]
        }
      ],
      "source": [
        "'''\n",
        "sasa\n",
        "asas\n",
        "asas\n",
        "'''\n",
        "a =5\n",
        "# a"
      ]
    },
    {
      "cell_type": "code",
      "execution_count": null,
      "metadata": {
        "id": "kCVL2TgwM7nv",
        "outputId": "c032aaff-5d31-4c97-8e85-2681e3a8b239"
      },
      "outputs": [
        {
          "data": {
            "text/plain": [
              "11"
            ]
          },
          "execution_count": 33,
          "metadata": {},
          "output_type": "execute_result"
        }
      ],
      "source": [
        "# This is a signle line comment\n",
        "# line 1\n",
        "# line 2\n",
        " \n",
        "\n",
        "'''\n",
        "This is how comments that span across multiple \n",
        "lines are written.\n",
        " \n",
        "\n",
        "'''\n",
        "\n",
        "# 3+4\n",
        "5+6\n",
        "\n",
        "#You can also give the # sign before\n",
        "# every line \n",
        "# of a multi line comment"
      ]
    },
    {
      "cell_type": "markdown",
      "metadata": {
        "id": "dWOlKd_RM7nv"
      },
      "source": [
        "#### 5. Variables , Data types, and dynamic typing\n",
        "\n",
        "Variables are containers for storing data values.\n",
        "\n",
        "In python , variables are created when we assign values to them"
      ]
    },
    {
      "cell_type": "code",
      "execution_count": null,
      "metadata": {
        "id": "FUT71ps0M7nv",
        "outputId": "1dac948d-c900-44c8-d871-d1c8eda4c33e"
      },
      "outputs": [
        {
          "name": "stdout",
          "output_type": "stream",
          "text": [
            "<class 'str'>\n"
          ]
        }
      ],
      "source": [
        "i =\"4.8\"\n",
        "print(type(i))"
      ]
    },
    {
      "cell_type": "code",
      "execution_count": null,
      "metadata": {
        "id": "VZ3AJjZuM7nv",
        "outputId": "16cee01d-9b34-473c-8b16-92804bb6a037"
      },
      "outputs": [
        {
          "name": "stdout",
          "output_type": "stream",
          "text": [
            "Lipsa <class 'str'>\n"
          ]
        }
      ],
      "source": [
        "x =1.2 #Here x is the variable name and 1.2 is the value of the variable\n",
        "\n",
        "#Now lets print the variable and the type of the variable\n",
        "# print(x, type(x))\n",
        " \n",
        "#Python understood x as an float though we no where mentioned explicitly that x is an float type \n",
        "#variable. Based on the value assigned to x, here it is 1.2 , python understood or interpreted the type \n",
        "# of the variable\n",
        "\n",
        "x1=\"Lipsa\"\n",
        "print(x1, type(x1))"
      ]
    },
    {
      "cell_type": "code",
      "execution_count": null,
      "metadata": {
        "id": "eKwECT4gM7nw",
        "outputId": "4c0e3372-22d1-4372-f646-05c50450f6f6"
      },
      "outputs": [
        {
          "name": "stdout",
          "output_type": "stream",
          "text": [
            "This is beautiful <class 'str'>\n",
            "This is too <class 'str'>\n"
          ]
        }
      ],
      "source": [
        "#Lets see some more variables and their data types\n",
        "y =\"This is beautiful\"\n",
        "print(y , type(y))\n",
        "\n",
        "#You can write strings within single or double quotes\n",
        "y1= 'This is too'\n",
        "\n",
        "print(y1 , type(y1))"
      ]
    },
    {
      "cell_type": "code",
      "execution_count": null,
      "metadata": {
        "id": "v6yHdnrIM7nw",
        "outputId": "b0a925be-d1d2-40c1-8b54-fd24df307d56"
      },
      "outputs": [
        {
          "name": "stdout",
          "output_type": "stream",
          "text": [
            "[1, 2, 3] <class 'list'>\n"
          ]
        }
      ],
      "source": [
        "l1 = [1,2,3]\n",
        "print(l1 , type(l1))"
      ]
    },
    {
      "cell_type": "code",
      "execution_count": null,
      "metadata": {
        "id": "XQjNNbgHM7nw",
        "outputId": "a4354c07-602d-4a61-c2fb-65a7e626c474"
      },
      "outputs": [
        {
          "name": "stdout",
          "output_type": "stream",
          "text": [
            "(2, 3, 4) <class 'tuple'>\n"
          ]
        }
      ],
      "source": [
        "t =(2,3,4)\n",
        "print(t , type(t))"
      ]
    },
    {
      "cell_type": "markdown",
      "metadata": {
        "id": "mJCheNs8M7nx"
      },
      "source": [
        "Task : Now , you may want to know what other basic data types are available in Python. How will you find about it?\n",
        "Try. Now , tell what are the differnt types of basic data types available in python.\n",
        "\n",
        "Hint:\n",
        "1. Google it . Ask google \"what are the basic data types available in python\"\n",
        "2. Go to official document of Python (python.org). Check the index or use the search textbox to find out about the types of variables in python"
      ]
    },
    {
      "cell_type": "code",
      "execution_count": null,
      "metadata": {
        "id": "-9BC3WEPM7nx",
        "outputId": "e125c9cd-08af-45a1-c93f-00cc05b096a1"
      },
      "outputs": [
        {
          "name": "stdout",
          "output_type": "stream",
          "text": [
            "3 2 1\n"
          ]
        }
      ],
      "source": [
        "a = 2\n",
        "\n",
        "def fun():\n",
        "    \n",
        "    return 1, 2, 3\n",
        "\n",
        "a,b,c = fun()\n",
        "\n",
        "print(c,b, a)\n",
        "\n"
      ]
    },
    {
      "cell_type": "markdown",
      "metadata": {
        "id": "Q4xNWdt5M7nx"
      },
      "source": [
        "#### Assign many values to many variables"
      ]
    },
    {
      "cell_type": "code",
      "execution_count": null,
      "metadata": {
        "id": "cZuXoHdiM7nx",
        "outputId": "b5a53acf-847b-4119-906c-36fce3ce255d"
      },
      "outputs": [
        {
          "name": "stdout",
          "output_type": "stream",
          "text": [
            "lipsa ds\n"
          ]
        }
      ],
      "source": [
        "x,y,z = 1,2,3\n",
        "username,field = \"lipsa\",\"ds\"\n",
        "print(username , field)"
      ]
    },
    {
      "cell_type": "code",
      "execution_count": null,
      "metadata": {
        "id": "8NEKmUAwM7ny",
        "outputId": "8e307927-66c1-4344-b9cd-f199db34812b"
      },
      "outputs": [
        {
          "name": "stdout",
          "output_type": "stream",
          "text": [
            "3 flower 4.5\n"
          ]
        }
      ],
      "source": [
        "p,q,r = 3, \"flower\" , 4.5\n",
        "print(p,q,r)"
      ]
    },
    {
      "cell_type": "markdown",
      "metadata": {
        "id": "2LLYMkCeM7ny"
      },
      "source": [
        "Task - Try assigning one value to multiple variable. See if it works by printing all variables\n",
        "\n",
        "Hint : a=b=c=4 is a valid syntax"
      ]
    },
    {
      "cell_type": "markdown",
      "metadata": {
        "id": "Ev1ctJpCM7ny"
      },
      "source": [
        "### 6. Dir()\n",
        "Simply speaking ,   dir() function returns all properties and methods of the specified object, without the values."
      ]
    },
    {
      "cell_type": "code",
      "execution_count": null,
      "metadata": {
        "id": "0ELTUNfTM7ny",
        "outputId": "64759c8a-744b-4bbc-e2aa-aa650f87f944"
      },
      "outputs": [
        {
          "name": "stdout",
          "output_type": "stream",
          "text": [
            "<class 'str'>\n"
          ]
        },
        {
          "data": {
            "text/plain": [
              "['__add__',\n",
              " '__class__',\n",
              " '__contains__',\n",
              " '__delattr__',\n",
              " '__dir__',\n",
              " '__doc__',\n",
              " '__eq__',\n",
              " '__format__',\n",
              " '__ge__',\n",
              " '__getattribute__',\n",
              " '__getitem__',\n",
              " '__getnewargs__',\n",
              " '__gt__',\n",
              " '__hash__',\n",
              " '__init__',\n",
              " '__init_subclass__',\n",
              " '__iter__',\n",
              " '__le__',\n",
              " '__len__',\n",
              " '__lt__',\n",
              " '__mod__',\n",
              " '__mul__',\n",
              " '__ne__',\n",
              " '__new__',\n",
              " '__reduce__',\n",
              " '__reduce_ex__',\n",
              " '__repr__',\n",
              " '__rmod__',\n",
              " '__rmul__',\n",
              " '__setattr__',\n",
              " '__sizeof__',\n",
              " '__str__',\n",
              " '__subclasshook__',\n",
              " 'capitalize',\n",
              " 'casefold',\n",
              " 'center',\n",
              " 'count',\n",
              " 'encode',\n",
              " 'endswith',\n",
              " 'expandtabs',\n",
              " 'find',\n",
              " 'format',\n",
              " 'format_map',\n",
              " 'index',\n",
              " 'isalnum',\n",
              " 'isalpha',\n",
              " 'isascii',\n",
              " 'isdecimal',\n",
              " 'isdigit',\n",
              " 'isidentifier',\n",
              " 'islower',\n",
              " 'isnumeric',\n",
              " 'isprintable',\n",
              " 'isspace',\n",
              " 'istitle',\n",
              " 'isupper',\n",
              " 'join',\n",
              " 'ljust',\n",
              " 'lower',\n",
              " 'lstrip',\n",
              " 'maketrans',\n",
              " 'partition',\n",
              " 'replace',\n",
              " 'rfind',\n",
              " 'rindex',\n",
              " 'rjust',\n",
              " 'rpartition',\n",
              " 'rsplit',\n",
              " 'rstrip',\n",
              " 'split',\n",
              " 'splitlines',\n",
              " 'startswith',\n",
              " 'strip',\n",
              " 'swapcase',\n",
              " 'title',\n",
              " 'translate',\n",
              " 'upper',\n",
              " 'zfill']"
            ]
          },
          "execution_count": 27,
          "metadata": {},
          "output_type": "execute_result"
        }
      ],
      "source": [
        "statement=\"Today is Monday\"\n",
        "print(type(statement))\n",
        "#Here statement is a string type variable. Lets see what happens when we pass s to dir()\n",
        "dir(statement)"
      ]
    },
    {
      "cell_type": "code",
      "execution_count": null,
      "metadata": {
        "id": "ZtP0Z13_M7ny",
        "outputId": "dcab3b63-6691-4dcb-9727-b85825ff87c0"
      },
      "outputs": [
        {
          "name": "stdout",
          "output_type": "stream",
          "text": [
            " THIS IS A FLOWER. \n",
            " this is a flower. \n",
            "This is a flower.\n",
            " tHIS IS A FLOWER. \n"
          ]
        }
      ],
      "source": [
        "#Lets try few methods available for string manipulation\n",
        "statement=\" This is a flower. \"\n",
        "print(statement.upper())\n",
        "\n",
        "print(statement.lower())\n",
        "\n",
        "\n",
        "print(statement.strip())\n",
        "# spaces from the beginning and the end are stripped\n",
        "print(statement.swapcase()) #Uppercase letter becomes lower case and vice-versa\n",
        "\n",
        "#This is how you can explore differnet objects and their methods/attributes in python"
      ]
    },
    {
      "cell_type": "markdown",
      "metadata": {
        "id": "suqojnaPM7nz"
      },
      "source": [
        "In the above output for dir() , you see something like 'zfill' . Do you know the use of it? No?\n",
        "Then how would you find about the usage of zfill\n"
      ]
    },
    {
      "cell_type": "markdown",
      "metadata": {
        "id": "VR50rtbRM7nz"
      },
      "source": [
        "### 7. help()"
      ]
    },
    {
      "cell_type": "code",
      "execution_count": null,
      "metadata": {
        "id": "SmJ9N5rtM7nz",
        "outputId": "fd798318-cfeb-4a26-9ce1-abc79dd52c35"
      },
      "outputs": [
        {
          "name": "stdout",
          "output_type": "stream",
          "text": [
            "Help on built-in function zfill:\n",
            "\n",
            "zfill(width, /) method of builtins.str instance\n",
            "    Pad a numeric string with zeros on the left, to fill a field of the given width.\n",
            "    \n",
            "    The string is never truncated.\n",
            "\n"
          ]
        }
      ],
      "source": [
        "s=\"rice\"\n",
        "# print(type(s))\n",
        "help(s.zfill)"
      ]
    },
    {
      "cell_type": "code",
      "execution_count": null,
      "metadata": {
        "id": "2I6ZXtwoM7n0",
        "outputId": "5820cec0-6653-4860-a26f-6c80de757ed7"
      },
      "outputs": [
        {
          "data": {
            "text/plain": [
              "'000rice'"
            ]
          },
          "execution_count": 31,
          "metadata": {},
          "output_type": "execute_result"
        }
      ],
      "source": [
        "s.zfill(7,)\n"
      ]
    },
    {
      "cell_type": "markdown",
      "metadata": {
        "id": "lf8Qz1dbM7n0"
      },
      "source": [
        "### 8. Operators in python\n",
        "\n",
        "Operators are used to perform operations on variables and values.\n",
        "\n"
      ]
    },
    {
      "cell_type": "markdown",
      "metadata": {
        "id": "nYJgIpNJM7n1"
      },
      "source": [
        "* Arithmetic operators\n",
        "* Assignment operators\n",
        "* Comparison operators\n",
        "* Logical operators\n",
        "* Identity operators\n",
        "* Membership operators\n",
        "* Bitwise operators\n"
      ]
    },
    {
      "cell_type": "code",
      "execution_count": null,
      "metadata": {
        "id": "JlwQv3d7M7n1",
        "outputId": "f78485be-4aeb-4ea4-e30f-0e91fa314083"
      },
      "outputs": [
        {
          "name": "stdout",
          "output_type": "stream",
          "text": [
            "7\n"
          ]
        }
      ],
      "source": [
        "print(3+4)"
      ]
    },
    {
      "cell_type": "code",
      "execution_count": null,
      "metadata": {
        "id": "BOv21TdQM7n1",
        "outputId": "2ab56350-a93e-468a-f0c4-5e431a0da5af"
      },
      "outputs": [
        {
          "data": {
            "text/plain": [
              "7"
            ]
          },
          "execution_count": 33,
          "metadata": {},
          "output_type": "execute_result"
        }
      ],
      "source": [
        "3+4\n"
      ]
    },
    {
      "cell_type": "code",
      "execution_count": null,
      "metadata": {
        "id": "rbKYF23xM7n1",
        "outputId": "81660f00-f8b6-4f14-b310-47579548ff82"
      },
      "outputs": [
        {
          "name": "stdout",
          "output_type": "stream",
          "text": [
            "1\n"
          ]
        }
      ],
      "source": [
        "print(4-3)"
      ]
    },
    {
      "cell_type": "code",
      "execution_count": null,
      "metadata": {
        "id": "ugMbgZVaM7n2",
        "outputId": "4271f7f5-da49-4d2c-ed15-cbb22a3793df"
      },
      "outputs": [
        {
          "name": "stdout",
          "output_type": "stream",
          "text": [
            "12\n"
          ]
        }
      ],
      "source": [
        "#Multiplication\n",
        "print(3*4)"
      ]
    },
    {
      "cell_type": "code",
      "execution_count": null,
      "metadata": {
        "id": "R029EMb9M7n2",
        "outputId": "d0fabaf8-569e-4579-9dcd-8a2d9e520b1c"
      },
      "outputs": [
        {
          "name": "stdout",
          "output_type": "stream",
          "text": [
            "8\n",
            "16\n"
          ]
        }
      ],
      "source": [
        "#Exponentiation\n",
        "print(2**3)\n",
        "print(4**2)"
      ]
    },
    {
      "cell_type": "code",
      "execution_count": null,
      "metadata": {
        "id": "B8o_NcBsM7n2",
        "outputId": "0ba3d703-78b1-4ff0-e9aa-0efa3c3413b2"
      },
      "outputs": [
        {
          "name": "stdout",
          "output_type": "stream",
          "text": [
            "1\n",
            "1\n"
          ]
        }
      ],
      "source": [
        "#Floor division\n",
        "#Floor division is an operation in Python that divides two numbers and rounds the result down to the nearest integer.\n",
        "\n",
        "print(4//3) #1\n",
        "print(5//3)"
      ]
    },
    {
      "cell_type": "code",
      "execution_count": null,
      "metadata": {
        "id": "FswongcvM7n2",
        "outputId": "b5bdd494-a335-45eb-d101-4f97bd3de511"
      },
      "outputs": [
        {
          "name": "stdout",
          "output_type": "stream",
          "text": [
            "1\n"
          ]
        }
      ],
      "source": [
        "#Modulus\n",
        "# finds the remainder or signed remainder after the division of one number by another\n",
        "print(9%2)"
      ]
    },
    {
      "cell_type": "code",
      "execution_count": null,
      "metadata": {
        "id": "nNBR5lATM7n3",
        "outputId": "d9b9abea-b920-42a0-9868-3b8f0b4329ce"
      },
      "outputs": [
        {
          "data": {
            "text/plain": [
              "1"
            ]
          },
          "execution_count": 10,
          "metadata": {},
          "output_type": "execute_result"
        }
      ],
      "source": [
        "((500//7) % 5) ** 3\n",
        "# print(500//7) #71\n",
        "# print()"
      ]
    },
    {
      "cell_type": "markdown",
      "metadata": {
        "id": "2rX5lgUeM7n3"
      },
      "source": [
        "Task - Write an example for modulus operator"
      ]
    },
    {
      "cell_type": "code",
      "execution_count": null,
      "metadata": {
        "id": "WPbMmr-iM7n3",
        "outputId": "f8b5cd88-be23-4f57-f62d-38bb0aaab5a0"
      },
      "outputs": [
        {
          "data": {
            "text/plain": [
              "0"
            ]
          },
          "execution_count": 35,
          "metadata": {},
          "output_type": "execute_result"
        }
      ],
      "source": [
        "#Assignment operator\n",
        "# x=5\n",
        "\n",
        "20%5"
      ]
    },
    {
      "cell_type": "code",
      "execution_count": null,
      "metadata": {
        "id": "taeg_JghM7n4",
        "outputId": "4ab8f316-e2a2-41a0-eb76-256a0add80c0"
      },
      "outputs": [
        {
          "name": "stdout",
          "output_type": "stream",
          "text": [
            "Operator precedence\n",
            "*******************\n",
            "\n",
            "The following table summarizes the operator precedence in Python, from\n",
            "lowest precedence (least binding) to highest precedence (most\n",
            "binding).  Operators in the same box have the same precedence.  Unless\n",
            "the syntax is explicitly given, operators are binary.  Operators in\n",
            "the same box group left to right (except for exponentiation, which\n",
            "groups from right to left).\n",
            "\n",
            "Note that comparisons, membership tests, and identity tests, all have\n",
            "the same precedence and have a left-to-right chaining feature as\n",
            "described in the Comparisons section.\n",
            "\n",
            "+-------------------------------------------------+---------------------------------------+\n",
            "| Operator                                        | Description                           |\n",
            "|=================================================|=======================================|\n",
            "| \"lambda\"                                        | Lambda expression                     |\n",
            "+-------------------------------------------------+---------------------------------------+\n",
            "| \"if\" – \"else\"                                   | Conditional expression                |\n",
            "+-------------------------------------------------+---------------------------------------+\n",
            "| \"or\"                                            | Boolean OR                            |\n",
            "+-------------------------------------------------+---------------------------------------+\n",
            "| \"and\"                                           | Boolean AND                           |\n",
            "+-------------------------------------------------+---------------------------------------+\n",
            "| \"not\" \"x\"                                       | Boolean NOT                           |\n",
            "+-------------------------------------------------+---------------------------------------+\n",
            "| \"in\", \"not in\", \"is\", \"is not\", \"<\", \"<=\", \">\", | Comparisons, including membership     |\n",
            "| \">=\", \"!=\", \"==\"                                | tests and identity tests              |\n",
            "+-------------------------------------------------+---------------------------------------+\n",
            "| \"|\"                                             | Bitwise OR                            |\n",
            "+-------------------------------------------------+---------------------------------------+\n",
            "| \"^\"                                             | Bitwise XOR                           |\n",
            "+-------------------------------------------------+---------------------------------------+\n",
            "| \"&\"                                             | Bitwise AND                           |\n",
            "+-------------------------------------------------+---------------------------------------+\n",
            "| \"<<\", \">>\"                                      | Shifts                                |\n",
            "+-------------------------------------------------+---------------------------------------+\n",
            "| \"+\", \"-\"                                        | Addition and subtraction              |\n",
            "+-------------------------------------------------+---------------------------------------+\n",
            "| \"*\", \"@\", \"/\", \"//\", \"%\"                        | Multiplication, matrix                |\n",
            "|                                                 | multiplication, division, floor       |\n",
            "|                                                 | division, remainder [5]               |\n",
            "+-------------------------------------------------+---------------------------------------+\n",
            "| \"+x\", \"-x\", \"~x\"                                | Positive, negative, bitwise NOT       |\n",
            "+-------------------------------------------------+---------------------------------------+\n",
            "| \"**\"                                            | Exponentiation [6]                    |\n",
            "+-------------------------------------------------+---------------------------------------+\n",
            "| \"await\" \"x\"                                     | Await expression                      |\n",
            "+-------------------------------------------------+---------------------------------------+\n",
            "| \"x[index]\", \"x[index:index]\",                   | Subscription, slicing, call,          |\n",
            "| \"x(arguments...)\", \"x.attribute\"                | attribute reference                   |\n",
            "+-------------------------------------------------+---------------------------------------+\n",
            "| \"(expressions...)\",  \"[expressions...]\", \"{key: | Binding or parenthesized expression,  |\n",
            "| value...}\", \"{expressions...}\"                  | list display, dictionary display, set |\n",
            "|                                                 | display                               |\n",
            "+-------------------------------------------------+---------------------------------------+\n",
            "\n",
            "-[ Footnotes ]-\n",
            "\n",
            "[1] While \"abs(x%y) < abs(y)\" is true mathematically, for floats\n",
            "    it may not be true numerically due to roundoff.  For example, and\n",
            "    assuming a platform on which a Python float is an IEEE 754 double-\n",
            "    precision number, in order that \"-1e-100 % 1e100\" have the same\n",
            "    sign as \"1e100\", the computed result is \"-1e-100 + 1e100\", which\n",
            "    is numerically exactly equal to \"1e100\".  The function\n",
            "    \"math.fmod()\" returns a result whose sign matches the sign of the\n",
            "    first argument instead, and so returns \"-1e-100\" in this case.\n",
            "    Which approach is more appropriate depends on the application.\n",
            "\n",
            "[2] If x is very close to an exact integer multiple of y, it’s\n",
            "    possible for \"x//y\" to be one larger than \"(x-x%y)//y\" due to\n",
            "    rounding.  In such cases, Python returns the latter result, in\n",
            "    order to preserve that \"divmod(x,y)[0] * y + x % y\" be very close\n",
            "    to \"x\".\n",
            "\n",
            "[3] The Unicode standard distinguishes between *code points* (e.g.\n",
            "    U+0041) and *abstract characters* (e.g. “LATIN CAPITAL LETTER A”).\n",
            "    While most abstract characters in Unicode are only represented\n",
            "    using one code point, there is a number of abstract characters\n",
            "    that can in addition be represented using a sequence of more than\n",
            "    one code point.  For example, the abstract character “LATIN\n",
            "    CAPITAL LETTER C WITH CEDILLA” can be represented as a single\n",
            "    *precomposed character* at code position U+00C7, or as a sequence\n",
            "    of a *base character* at code position U+0043 (LATIN CAPITAL\n",
            "    LETTER C), followed by a *combining character* at code position\n",
            "    U+0327 (COMBINING CEDILLA).\n",
            "\n",
            "    The comparison operators on strings compare at the level of\n",
            "    Unicode code points. This may be counter-intuitive to humans.  For\n",
            "    example, \"\"\\u00C7\" == \"\\u0043\\u0327\"\" is \"False\", even though both\n",
            "    strings represent the same abstract character “LATIN CAPITAL\n",
            "    LETTER C WITH CEDILLA”.\n",
            "\n",
            "    To compare strings at the level of abstract characters (that is,\n",
            "    in a way intuitive to humans), use \"unicodedata.normalize()\".\n",
            "\n",
            "[4] Due to automatic garbage-collection, free lists, and the\n",
            "    dynamic nature of descriptors, you may notice seemingly unusual\n",
            "    behaviour in certain uses of the \"is\" operator, like those\n",
            "    involving comparisons between instance methods, or constants.\n",
            "    Check their documentation for more info.\n",
            "\n",
            "[5] The \"%\" operator is also used for string formatting; the same\n",
            "    precedence applies.\n",
            "\n",
            "[6] The power operator \"**\" binds less tightly than an arithmetic\n",
            "    or bitwise unary operator on its right, that is, \"2**-1\" is \"0.5\".\n",
            "\n",
            "Related help topics: lambda, or, and, not, in, is, BOOLEAN, COMPARISON,\n",
            "BITWISE, SHIFTING, BINARY, FORMATTING, POWER, UNARY, ATTRIBUTES,\n",
            "SUBSCRIPTS, SLICINGS, CALLS, TUPLES, LISTS, DICTIONARIES, FORMATTING\n",
            "\n"
          ]
        }
      ],
      "source": [
        "help('%')"
      ]
    },
    {
      "cell_type": "markdown",
      "metadata": {
        "id": "Afi0bI_7M7n4"
      },
      "source": [
        "Task : Explore all operators mentioned above"
      ]
    },
    {
      "cell_type": "markdown",
      "metadata": {
        "id": "Ljb3-uGzM7n4"
      },
      "source": [
        "#### Conditional expressions"
      ]
    },
    {
      "cell_type": "markdown",
      "metadata": {
        "id": "jCNO7YT-M7n4"
      },
      "source": [
        "[on_true] if [expression] else [on_false] \n",
        "\n",
        "Read it like this :\n",
        "if [expression] is true , do the [on_true] part , else do the [on_false] part\n"
      ]
    },
    {
      "cell_type": "markdown",
      "metadata": {
        "id": "O1kCo9JlM7n4"
      },
      "source": [
        "<b>x = true_value if condition else false_value</b>\n",
        "\n",
        "The condition expression in the middle is evaluated first,\n",
        "\n",
        "and the true_value expression is evaluated only if the condition was true.\n",
        "\n",
        "Similarly, the false_value expression is only evaluated when the condition is false.\n"
      ]
    },
    {
      "cell_type": "code",
      "execution_count": null,
      "metadata": {
        "id": "dhRUBQowM7n4",
        "outputId": "5a51c2ed-51eb-436d-cf83-ee4113ee0a65"
      },
      "outputs": [
        {
          "name": "stdout",
          "output_type": "stream",
          "text": [
            "b is min\n"
          ]
        }
      ],
      "source": [
        "a=100\n",
        "b=20\n",
        "if a<b:\n",
        "    print(\"a is min\")\n",
        "else:\n",
        "    print(\"b is min\")"
      ]
    },
    {
      "cell_type": "code",
      "execution_count": null,
      "metadata": {
        "id": "yj1I8PKOM7n5",
        "outputId": "55c203a9-4884-42c1-df2b-03eee0b4a327"
      },
      "outputs": [
        {
          "name": "stdout",
          "output_type": "stream",
          "text": [
            "300\n"
          ]
        }
      ],
      "source": [
        "a=600\n",
        "b=300\n",
        "\n",
        "\n",
        "min_val = a if a <b else b\n",
        "\n",
        "\n",
        "print(min_val)"
      ]
    },
    {
      "cell_type": "markdown",
      "metadata": {
        "id": "lPzjl-DdM7n5"
      },
      "source": [
        "A conditional expression lets you write a single assignment statement that has the same effect as the above code\n",
        " \n"
      ]
    },
    {
      "cell_type": "code",
      "execution_count": null,
      "metadata": {
        "id": "yYzQTjsVM7n5",
        "outputId": "4c92ea58-ad06-4abc-e2f0-bd235821e1bc"
      },
      "outputs": [
        {
          "name": "stdout",
          "output_type": "stream",
          "text": [
            "a is min\n"
          ]
        }
      ],
      "source": [
        "#Task- Given two numbers a and b , print a statement \"a is min\" when a<b or print \"b is min\" when a>b\n",
        "a=100\n",
        "b=200\n",
        "print(\"a is min\")  if a < b else print(\"b is min\")"
      ]
    },
    {
      "cell_type": "markdown",
      "metadata": {
        "id": "Mie9RyEdM7n5"
      },
      "source": [
        "Task : Try using conditional expression to divide a by b when a > b and divide b by a when b>a \n",
        "\n",
        "Hint 1 : division operator is // ( a//b)\n",
        "\n",
        "Hint 2: if condition could be a>b\n",
        "\n",
        "Hint 3: [on_true] part a//b"
      ]
    },
    {
      "cell_type": "markdown",
      "metadata": {
        "id": "gfQalvykM7n5"
      },
      "source": [
        "### 9.  Python collections\n"
      ]
    },
    {
      "cell_type": "markdown",
      "metadata": {
        "id": "Axo2RwzSM7n5"
      },
      "source": [
        "Say , you come across an object like below in a python script. How would you know the type of the object?\n",
        "How would you explore the attributes and methods associated with that object ?\n",
        "\n",
        "L1=[1,2,3]\n",
        "\n",
        "Now you want to create a new list out of the above list L1 . The new list L2 will be [3,2,1] , then which function of that object  may help ? Could you create a new list L2?"
      ]
    },
    {
      "cell_type": "code",
      "execution_count": null,
      "metadata": {
        "id": "nNZ-cG07M7n6",
        "outputId": "eb684194-1b35-4a41-99d7-b8b37a1bc8ec"
      },
      "outputs": [
        {
          "name": "stdout",
          "output_type": "stream",
          "text": [
            "<class 'list'>\n"
          ]
        },
        {
          "data": {
            "text/plain": [
              "['__add__',\n",
              " '__class__',\n",
              " '__contains__',\n",
              " '__delattr__',\n",
              " '__delitem__',\n",
              " '__dir__',\n",
              " '__doc__',\n",
              " '__eq__',\n",
              " '__format__',\n",
              " '__ge__',\n",
              " '__getattribute__',\n",
              " '__getitem__',\n",
              " '__gt__',\n",
              " '__hash__',\n",
              " '__iadd__',\n",
              " '__imul__',\n",
              " '__init__',\n",
              " '__init_subclass__',\n",
              " '__iter__',\n",
              " '__le__',\n",
              " '__len__',\n",
              " '__lt__',\n",
              " '__mul__',\n",
              " '__ne__',\n",
              " '__new__',\n",
              " '__reduce__',\n",
              " '__reduce_ex__',\n",
              " '__repr__',\n",
              " '__reversed__',\n",
              " '__rmul__',\n",
              " '__setattr__',\n",
              " '__setitem__',\n",
              " '__sizeof__',\n",
              " '__str__',\n",
              " '__subclasshook__',\n",
              " 'append',\n",
              " 'clear',\n",
              " 'copy',\n",
              " 'count',\n",
              " 'extend',\n",
              " 'index',\n",
              " 'insert',\n",
              " 'pop',\n",
              " 'remove',\n",
              " 'reverse',\n",
              " 'sort']"
            ]
          },
          "execution_count": 43,
          "metadata": {},
          "output_type": "execute_result"
        }
      ],
      "source": [
        "L1=[1,2,3]\n",
        "print(type(L1))\n",
        "\n",
        "dir(L1)\n",
        "\n",
        " "
      ]
    },
    {
      "cell_type": "code",
      "execution_count": null,
      "metadata": {
        "id": "kgl1kNBsM7n6",
        "outputId": "9c32c0ae-3cb3-4087-f5b3-bf4ea950db3a"
      },
      "outputs": [
        {
          "name": "stdout",
          "output_type": "stream",
          "text": [
            "L2 None\n"
          ]
        }
      ],
      "source": [
        "L1=[4,5,6]\n",
        "# print(L1)\n",
        "L2=(L1.reverse())\n",
        "print(\"L2\",L2)\n",
        "# print(\"L1\",L1)"
      ]
    },
    {
      "cell_type": "markdown",
      "metadata": {
        "id": "Jq253nl0M7n6"
      },
      "source": [
        "* List\n",
        "* Tuple\n",
        "* Set\n",
        "* Dictionary"
      ]
    },
    {
      "cell_type": "markdown",
      "metadata": {
        "id": "7menkUQeM7n6"
      },
      "source": [
        "### 10. If-Else , For loop , While loop"
      ]
    },
    {
      "cell_type": "markdown",
      "metadata": {
        "id": "6yCPRbX-M7n7"
      },
      "source": [
        "#### If-Else"
      ]
    },
    {
      "cell_type": "code",
      "execution_count": null,
      "metadata": {
        "id": "9KFdAlrmM7n7",
        "outputId": "d80f2ffb-5ec5-4e14-a09c-9b7fb19e2826"
      },
      "outputs": [
        {
          "name": "stdout",
          "output_type": "stream",
          "text": [
            "b is greater than a\n"
          ]
        }
      ],
      "source": [
        "a = 4\n",
        "b = 14\n",
        "if b > a:\n",
        "      print(\"b is greater than a\")\n",
        " \n",
        "elif a == b:\n",
        "      print(\"a and b are equal\")"
      ]
    },
    {
      "cell_type": "markdown",
      "metadata": {
        "id": "nws01io1M7n7"
      },
      "source": [
        "#### If-elif-else"
      ]
    },
    {
      "cell_type": "code",
      "execution_count": null,
      "metadata": {
        "id": "EnDqXb9eM7n7",
        "outputId": "62258afa-fb41-4807-a12a-8d11e652b6d3"
      },
      "outputs": [
        {
          "name": "stdout",
          "output_type": "stream",
          "text": [
            "a is greater than b\n"
          ]
        }
      ],
      "source": [
        "a = 100\n",
        "b = 10\n",
        "\n",
        "if b > a:\n",
        "    print(\"b is greater than a\")\n",
        "elif a == b:\n",
        "    print(\"a and b are equal\")\n",
        "else:\n",
        "    print(\"a is greater than b\")"
      ]
    },
    {
      "cell_type": "markdown",
      "metadata": {
        "id": "2Yb7bDIGM7n7"
      },
      "source": [
        "Task: \n",
        "1.Explore short hand expression for if-else in Python. Write above piece of code using short hand expression\n",
        "\n",
        "2.Explore 'AND' , 'OR' operators that can be used in expressions\n"
      ]
    },
    {
      "cell_type": "markdown",
      "metadata": {
        "id": "bVO3CA-FM7n7"
      },
      "source": [
        "#### For loop\n",
        "\n",
        "For loop is a built-in enumerate function"
      ]
    },
    {
      "cell_type": "code",
      "execution_count": null,
      "metadata": {
        "id": "vNj5b5eEM7n8",
        "outputId": "f6c57757-436e-4649-df3a-2f5dfef30c50"
      },
      "outputs": [
        {
          "name": "stdout",
          "output_type": "stream",
          "text": [
            "Fruit name is - Mango\n",
            "Fruit name is - Guava\n",
            "Fruit name is - Banana\n"
          ]
        }
      ],
      "source": [
        "#Task - \n",
        "#Create a list of fruits names. \n",
        "#Loop through each item of the list . \n",
        "#Print fruit name\n",
        "\n",
        "fruits =['Mango', 'Guava', 'Banana']\n",
        "\n",
        "for f111 in fruits:\n",
        "    print(\"Fruit name is -\" , f111)"
      ]
    },
    {
      "cell_type": "markdown",
      "metadata": {
        "id": "vlSg_Ey5M7n8"
      },
      "source": [
        "Task - Here we have only printed the fruit name. How to print the position of the fruit in the list ? say ,\n",
        "\n",
        "Fruit Mango position is 0\n",
        "\n",
        "Hint 1: Explore enumerate function\n",
        "\n",
        "Hint 2:\n",
        "for i,fruit in enumerate(fruits):\n",
        "    #write code here\n"
      ]
    },
    {
      "cell_type": "markdown",
      "metadata": {
        "id": "wjrlRLGxM7n8"
      },
      "source": [
        "### While loop"
      ]
    },
    {
      "cell_type": "code",
      "execution_count": null,
      "metadata": {
        "id": "-RSotb8lM7n8",
        "outputId": "835fedd9-6e0d-4385-819e-5c141f12f553"
      },
      "outputs": [
        {
          "name": "stdout",
          "output_type": "stream",
          "text": [
            "1\n",
            "2\n",
            "3\n",
            "4\n",
            "5\n"
          ]
        }
      ],
      "source": [
        "i = 1\n",
        "while i < 6:\n",
        "  print(i)\n",
        "  i += 1"
      ]
    },
    {
      "cell_type": "code",
      "execution_count": null,
      "metadata": {
        "id": "A5ObbskuM7n9",
        "outputId": "49f65b13-4b0f-4d4e-8e8c-e04220e7d3b4"
      },
      "outputs": [
        {
          "name": "stdout",
          "output_type": "stream",
          "text": [
            "1\n",
            "2\n",
            "3\n"
          ]
        }
      ],
      "source": [
        "i = 1\n",
        "while i < 6:\n",
        "  print(i)\n",
        "  if (i == 3):\n",
        "    break\n",
        "  i += 1"
      ]
    },
    {
      "cell_type": "markdown",
      "metadata": {
        "id": "ZSbD2-CJM7n9"
      },
      "source": [
        "Task:\n",
        "1. Explore 'continue' statement and write a small piece of code using continue statement in while loop\n",
        "2. Write a code using 'break' statement in a for loop.\n",
        "\n"
      ]
    },
    {
      "cell_type": "markdown",
      "metadata": {
        "id": "vq-i6Tp_M7n9"
      },
      "source": [
        "### 11. Functions"
      ]
    },
    {
      "cell_type": "code",
      "execution_count": null,
      "metadata": {
        "id": "KM_epMZYM7n9"
      },
      "outputs": [],
      "source": [
        "def AddNumbers(x,y=5):\n",
        "    \n",
        "    '''\n",
        "    AddNumbers function takes two numbers and returns their sum\n",
        "    \n",
        "    arg:\n",
        "        x: its an integer number\n",
        "        y: its an interger number\n",
        "        \n",
        "    returns:\n",
        "        sum of x and y\n",
        "    \n",
        "    '''\n",
        "    a = x+y\n",
        "    return a"
      ]
    },
    {
      "cell_type": "code",
      "execution_count": null,
      "metadata": {
        "id": "YAqzHPElM7n9",
        "outputId": "a10ff6f0-3d0f-411d-e894-b06ebc1c25a6"
      },
      "outputs": [
        {
          "data": {
            "text/plain": [
              "77"
            ]
          },
          "execution_count": 57,
          "metadata": {},
          "output_type": "execute_result"
        }
      ],
      "source": [
        "AddNumbers(13,64)"
      ]
    },
    {
      "cell_type": "code",
      "execution_count": null,
      "metadata": {
        "id": "X6KyV7-HM7n-",
        "outputId": "f9a71b70-8d0e-4eaa-816f-00fdad781f38"
      },
      "outputs": [
        {
          "data": {
            "text/plain": [
              "['__annotations__',\n",
              " '__call__',\n",
              " '__class__',\n",
              " '__closure__',\n",
              " '__code__',\n",
              " '__defaults__',\n",
              " '__delattr__',\n",
              " '__dict__',\n",
              " '__dir__',\n",
              " '__doc__',\n",
              " '__eq__',\n",
              " '__format__',\n",
              " '__ge__',\n",
              " '__get__',\n",
              " '__getattribute__',\n",
              " '__globals__',\n",
              " '__gt__',\n",
              " '__hash__',\n",
              " '__init__',\n",
              " '__init_subclass__',\n",
              " '__kwdefaults__',\n",
              " '__le__',\n",
              " '__lt__',\n",
              " '__module__',\n",
              " '__name__',\n",
              " '__ne__',\n",
              " '__new__',\n",
              " '__qualname__',\n",
              " '__reduce__',\n",
              " '__reduce_ex__',\n",
              " '__repr__',\n",
              " '__setattr__',\n",
              " '__sizeof__',\n",
              " '__str__',\n",
              " '__subclasshook__']"
            ]
          },
          "execution_count": 58,
          "metadata": {},
          "output_type": "execute_result"
        }
      ],
      "source": [
        "dir(AddNumbers)"
      ]
    },
    {
      "cell_type": "code",
      "execution_count": null,
      "metadata": {
        "id": "ud3ImcFKM7n-",
        "outputId": "12303f64-5528-476b-c672-eeac53eedb98"
      },
      "outputs": [
        {
          "data": {
            "text/plain": [
              "'\\n    AddNumbers function takes two numbers and returns their sum\\n    \\n    arg:\\n        x: its an integer number\\n        y: its an interger number\\n        \\n    returns:\\n        sum of x and y\\n    \\n    '"
            ]
          },
          "execution_count": 60,
          "metadata": {},
          "output_type": "execute_result"
        }
      ],
      "source": [
        "AddNumbers.__doc__\n",
        "\n",
        "# __doc__ returns the 'docstring' associated with the function, class,module etc"
      ]
    },
    {
      "cell_type": "markdown",
      "metadata": {
        "id": "PZ08g2E8M7n-"
      },
      "source": [
        "#### Default parameters of a function\n"
      ]
    },
    {
      "cell_type": "code",
      "execution_count": null,
      "metadata": {
        "id": "gHnEEFbhM7n-"
      },
      "outputs": [],
      "source": [
        "def printName( name=\"there\"):\n",
        "    print('Hi!', name)\n",
        "    "
      ]
    },
    {
      "cell_type": "code",
      "execution_count": null,
      "metadata": {
        "id": "1c7f2z0hM7n-",
        "outputId": "6b0f6408-dc22-439c-8176-5c6c311ba67c"
      },
      "outputs": [
        {
          "name": "stdout",
          "output_type": "stream",
          "text": [
            "Hi! Amit\n"
          ]
        }
      ],
      "source": [
        "printName(\"Amit\")"
      ]
    },
    {
      "cell_type": "code",
      "execution_count": null,
      "metadata": {
        "id": "vHzv7Q5vM7n-",
        "outputId": "7e591dc9-2e7c-409a-d4b2-6831b1424731"
      },
      "outputs": [
        {
          "name": "stdout",
          "output_type": "stream",
          "text": [
            "Hi! there\n"
          ]
        }
      ],
      "source": [
        "printName()"
      ]
    },
    {
      "cell_type": "markdown",
      "metadata": {
        "id": "kC-b-5f8M7n_"
      },
      "source": [
        "### 12.  Try-Except-Finally"
      ]
    },
    {
      "cell_type": "code",
      "execution_count": null,
      "metadata": {
        "id": "MxgXccHbM7n_"
      },
      "outputs": [],
      "source": [
        "def DivideTwoNums(num1 , num2):\n",
        "    return num1//num2"
      ]
    },
    {
      "cell_type": "code",
      "execution_count": null,
      "metadata": {
        "id": "zL9ixtdQM7n_",
        "outputId": "a8eb538d-f472-405e-c9fe-815fa92f0b51"
      },
      "outputs": [
        {
          "data": {
            "text/plain": [
              "10"
            ]
          },
          "execution_count": 71,
          "metadata": {},
          "output_type": "execute_result"
        }
      ],
      "source": [
        "DivideTwoNums(100,10)"
      ]
    },
    {
      "cell_type": "code",
      "execution_count": null,
      "metadata": {
        "id": "kOpFGjV7M7n_",
        "outputId": "21bbdd53-6558-41b9-be79-c1d896a4e1bc"
      },
      "outputs": [
        {
          "ename": "ZeroDivisionError",
          "evalue": "integer division or modulo by zero",
          "output_type": "error",
          "traceback": [
            "\u001b[1;31m---------------------------------------------------------------------------\u001b[0m",
            "\u001b[1;31mZeroDivisionError\u001b[0m                         Traceback (most recent call last)",
            "\u001b[1;32m<ipython-input-72-283b509ef594>\u001b[0m in \u001b[0;36m<module>\u001b[1;34m\u001b[0m\n\u001b[1;32m----> 1\u001b[1;33m \u001b[0mDivideTwoNums\u001b[0m\u001b[1;33m(\u001b[0m\u001b[1;36m100\u001b[0m\u001b[1;33m,\u001b[0m\u001b[1;36m0\u001b[0m\u001b[1;33m)\u001b[0m\u001b[1;33m\u001b[0m\u001b[1;33m\u001b[0m\u001b[0m\n\u001b[0m",
            "\u001b[1;32m<ipython-input-70-24724e0a5d7f>\u001b[0m in \u001b[0;36mDivideTwoNums\u001b[1;34m(num1, num2)\u001b[0m\n\u001b[0;32m      1\u001b[0m \u001b[1;32mdef\u001b[0m \u001b[0mDivideTwoNums\u001b[0m\u001b[1;33m(\u001b[0m\u001b[0mnum1\u001b[0m \u001b[1;33m,\u001b[0m \u001b[0mnum2\u001b[0m\u001b[1;33m)\u001b[0m\u001b[1;33m:\u001b[0m\u001b[1;33m\u001b[0m\u001b[1;33m\u001b[0m\u001b[0m\n\u001b[1;32m----> 2\u001b[1;33m     \u001b[1;32mreturn\u001b[0m \u001b[0mnum1\u001b[0m\u001b[1;33m//\u001b[0m\u001b[0mnum2\u001b[0m\u001b[1;33m\u001b[0m\u001b[1;33m\u001b[0m\u001b[0m\n\u001b[0m",
            "\u001b[1;31mZeroDivisionError\u001b[0m: integer division or modulo by zero"
          ]
        }
      ],
      "source": [
        "DivideTwoNums(100,0)"
      ]
    },
    {
      "cell_type": "markdown",
      "metadata": {
        "id": "t6dCCq2YM7n_"
      },
      "source": [
        "When we passed 100 and 0 numbers to the function DivideTwoNums() , it tried to divide 100 by 0. It returned an 'ugly' ZeroDivisionError.\n",
        "\n",
        "We can do neat exception/error handling using Try-Except-Else-Finally blocks\n",
        "\n",
        "Lets modify the DivideTwoNums function to add Try-Except-Finally block and handle exceptions gracefully.\n"
      ]
    },
    {
      "cell_type": "code",
      "execution_count": null,
      "metadata": {
        "id": "aCa4bO8DM7oA"
      },
      "outputs": [],
      "source": [
        "def DivideTwoNums(num1 , num2):\n",
        "    try:\n",
        "        return num1//num2\n",
        "    except ZeroDivisionError:\n",
        "        \n",
        "        print(\"Zero Division error occured. Please change the value of num2 from 0 to any other interger\")\n",
        "        \n",
        "    except Exception as e:\n",
        "        print(\"Exception occured :\" ,e)\n",
        "    \n",
        "    finally:\n",
        "        pass\n",
        "         \n",
        "        "
      ]
    },
    {
      "cell_type": "code",
      "execution_count": null,
      "metadata": {
        "id": "T8SYO_UTM7oA",
        "outputId": "342939c5-606a-49d4-94b2-885f6c8fc0f1"
      },
      "outputs": [
        {
          "name": "stdout",
          "output_type": "stream",
          "text": [
            "Zero Division error occured. Please change the value of num2 from 0 to any other interger\n"
          ]
        }
      ],
      "source": [
        "DivideTwoNums(100,0)\n"
      ]
    },
    {
      "cell_type": "code",
      "execution_count": null,
      "metadata": {
        "id": "mHNxj2SQM7oA",
        "outputId": "e997658b-810f-4cef-a414-1ac240977bf8"
      },
      "outputs": [
        {
          "name": "stdout",
          "output_type": "stream",
          "text": [
            "Exception occured : unsupported operand type(s) for //: 'int' and 'str'\n"
          ]
        }
      ],
      "source": [
        "DivideTwoNums(100, \"ten\")"
      ]
    },
    {
      "cell_type": "markdown",
      "metadata": {
        "id": "KT6-LO7OM7oA"
      },
      "source": [
        "Task:\n",
        "1. We discussed about Try-Except-Finally . Explore about 'Else' part and write a small code for Try-Except-Else-Finally block\n",
        "\n",
        "2. Here we printed the errors. You explore about 'throw' keyword . Change the DivideTwoNums() function to throw back an exception rather than printing the error output\n",
        "\n",
        "3. In Finally block , we see a keyword pass . What does 'pass' keyword do ?"
      ]
    },
    {
      "cell_type": "markdown",
      "metadata": {
        "id": "pKWOspZKM7oA"
      },
      "source": [
        "### 13. Python Modules\n",
        "\n",
        "Simply speaking , modules are code libraries.\n",
        "\n",
        "Module is a file contatining set of functions that we can use in our application\n",
        "\n",
        "We can write our own modules or import existing modules in python"
      ]
    },
    {
      "cell_type": "code",
      "execution_count": null,
      "metadata": {
        "id": "2a9LnXNdM7oB",
        "outputId": "b4b9894a-0fb8-410c-933d-1019180de155"
      },
      "outputs": [
        {
          "name": "stdout",
          "output_type": "stream",
          "text": [
            "Machine type: AMD64\n",
            "Platform architecture: ('64bit', 'WindowsPE')\n"
          ]
        }
      ],
      "source": [
        "#Lets check some built-in modules\n",
        "# we include built-in modules in our code by using import statement\n",
        "\n",
        "#Lets import platform module\n",
        "\n",
        "import platform\n",
        "\n",
        "print('Machine type:', platform.machine())\n",
        "print('Platform architecture:', platform.architecture())\n",
        "\n"
      ]
    },
    {
      "cell_type": "markdown",
      "metadata": {
        "id": "9Rm21bMOM7oB"
      },
      "source": [
        "Task : Using the platform module , findout the machine type where you are executing this piece of code\n",
        "\n",
        "Hint : use dir(platform) to see all available functions and attributes"
      ]
    },
    {
      "cell_type": "markdown",
      "metadata": {
        "id": "hseiiaEjM7oB"
      },
      "source": [
        "#### Why Do We Need Python Built-In Modules?\n",
        "\n",
        "Python has lots and lots of built in modules which can be used for achieving various functionalities. These are well tested and optimised codes. Hence, better to use built in modules to save time and effort while writing your application."
      ]
    },
    {
      "cell_type": "markdown",
      "metadata": {
        "id": "ICZCh7nKM7oB"
      },
      "source": [
        "#### How will you know which built-in modules are available in python ?\n",
        "\n",
        "Use help function"
      ]
    },
    {
      "cell_type": "code",
      "execution_count": null,
      "metadata": {
        "id": "lqv76MesM7oB"
      },
      "outputs": [],
      "source": [
        "#help('modules') #It may take couple of minutes to fetch all built in module names"
      ]
    },
    {
      "cell_type": "markdown",
      "metadata": {
        "id": "5QHbaYT0M7oC"
      },
      "source": [
        "### 14. Python PIP\n",
        "\n",
        "PIP is a package manager for Python packages . PIP is by default available in python 3.4 and above. You dont need to install PIP.\n",
        "\n",
        "\n",
        "#### What is a Package?\n",
        "\n",
        "A package contains all the files you need for a module.\n",
        "\n",
        "Modules are Python code libraries you can include in your project.\n",
        "\n",
        "If you visit https://pypi.org/ , you will see 318,778 projects are available (while writing this notebook) .You can easily PIP install these packages and import its modules in your own application. \n",
        "\n"
      ]
    },
    {
      "cell_type": "code",
      "execution_count": null,
      "metadata": {
        "id": "tPrgcrTvM7oC",
        "outputId": "6d03cc42-a756-4ff9-caff-4a5d16870aaa"
      },
      "outputs": [
        {
          "name": "stdout",
          "output_type": "stream",
          "text": [
            "pip 20.0.2 from C:\\Users\\hp\\anaconda3\\lib\\site-packages\\pip (python 3.7)\n",
            "\n",
            "Note: you may need to restart the kernel to use updated packages.\n"
          ]
        }
      ],
      "source": [
        "pip --version"
      ]
    },
    {
      "cell_type": "code",
      "execution_count": null,
      "metadata": {
        "id": "4RQ3ldlOM7oC",
        "outputId": "0ab05a2c-e77e-4bb6-912c-8d0ee45d5e09"
      },
      "outputs": [
        {
          "name": "stdout",
          "output_type": "stream",
          "text": [
            "Package                            Version            \n",
            "---------------------------------- -------------------\n",
            "alabaster                          0.7.12             \n",
            "altair                             4.1.0              \n",
            "anaconda-client                    1.7.2              \n",
            "anaconda-navigator                 1.9.12             \n",
            "anaconda-project                   0.8.3              \n",
            "analytics-python                   1.3.1              \n",
            "aplus                              0.11.0             \n",
            "argh                               0.26.2             \n",
            "asgiref                            3.4.0              \n",
            "asn1crypto                         1.3.0              \n",
            "astor                              0.8.1              \n",
            "astroid                            2.3.3              \n",
            "astropy                            4.0                \n",
            "atomicwrites                       1.3.0              \n",
            "attrs                              19.3.0             \n",
            "autopep8                           1.4.4              \n",
            "Babel                              2.8.0              \n",
            "backcall                           0.1.0              \n",
            "backoff                            1.10.0             \n",
            "backports.functools-lru-cache      1.6.4              \n",
            "backports.shutil-get-terminal-size 1.0.0              \n",
            "backports.tempfile                 1.0                \n",
            "backports.weakref                  1.0.post1          \n",
            "base58                             2.1.0              \n",
            "bcrypt                             3.1.7              \n",
            "beautifulsoup4                     4.8.2              \n",
            "bert-extractive-summarizer         0.7.1              \n",
            "biopython                          1.78               \n",
            "bitarray                           1.2.1              \n",
            "bkcharts                           0.2                \n",
            "bleach                             3.1.0              \n",
            "blinker                            1.4                \n",
            "blis                               0.7.4              \n",
            "bokeh                              1.4.0              \n",
            "boto                               2.49.0             \n",
            "boto3                              1.16.13            \n",
            "botocore                           1.19.13            \n",
            "Bottleneck                         1.3.2              \n",
            "bqplot                             0.12.19            \n",
            "branca                             0.3.1              \n",
            "breadability                       0.1.20             \n",
            "bz2file                            0.98               \n",
            "cachetools                         4.1.1              \n",
            "catalogue                          2.0.3              \n",
            "certifi                            2019.11.28         \n",
            "cffi                               1.14.0             \n",
            "chardet                            3.0.4              \n",
            "click                              7.1.2              \n",
            "cloudpickle                        1.3.0              \n",
            "clyent                             1.2.2              \n",
            "colorama                           0.4.3              \n",
            "colored                            1.4.2              \n",
            "comtypes                           1.1.7              \n",
            "conda                              4.10.3             \n",
            "conda-build                        3.18.11            \n",
            "conda-package-handling             1.7.3              \n",
            "conda-verify                       3.4.2              \n",
            "contextlib2                        0.6.0.post1        \n",
            "cryptography                       2.8                \n",
            "cycler                             0.10.0             \n",
            "cymem                              2.0.5              \n",
            "Cython                             0.29.14            \n",
            "cytoolz                            0.10.1             \n",
            "dask                               2.11.0             \n",
            "decorator                          4.4.1              \n",
            "defusedxml                         0.6.0              \n",
            "diff-match-patch                   20181111           \n",
            "distributed                        2.11.0             \n",
            "distro                             1.5.0              \n",
            "docopt                             0.6.2              \n",
            "docutils                           0.16               \n",
            "entrezpy                           2.1.3              \n",
            "entrypoints                        0.3                \n",
            "et-xmlfile                         1.0.1              \n",
            "fastapi                            0.65.2             \n",
            "fastcache                          1.1.0              \n",
            "ffmpy                              0.3.0              \n",
            "filelock                           3.0.12             \n",
            "flake8                             3.7.9              \n",
            "Flask                              1.1.1              \n",
            "Flask-CacheBuster                  1.0.0              \n",
            "Flask-Cors                         3.0.10             \n",
            "Flask-Login                        0.5.0              \n",
            "fsspec                             0.6.2              \n",
            "future                             0.18.2             \n",
            "gensim                             3.8.3              \n",
            "gevent                             1.4.0              \n",
            "gitdb                              4.0.7              \n",
            "GitPython                          3.1.17             \n",
            "glob2                              0.7                \n",
            "gradio                             1.7.7              \n",
            "greenlet                           0.4.15             \n",
            "h11                                0.12.0             \n",
            "h5py                               2.10.0             \n",
            "HeapDict                           1.0.1              \n",
            "html5lib                           1.0.1              \n",
            "hypothesis                         5.5.4              \n",
            "idna                               2.8                \n",
            "imageio                            2.6.1              \n",
            "imagesize                          1.2.0              \n",
            "imbalanced-learn                   0.7.0              \n",
            "importlib-metadata                 1.5.0              \n",
            "insta-scrape                       2.1.2              \n",
            "intervaltree                       3.0.2              \n",
            "ipydatawidgets                     4.1.0              \n",
            "ipykernel                          5.1.4              \n",
            "ipyleaflet                         0.13.3             \n",
            "ipympl                             0.5.8              \n",
            "ipython                            7.12.0             \n",
            "ipython-genutils                   0.2.0              \n",
            "ipyvolume                          0.5.2              \n",
            "ipyvue                             1.4.1              \n",
            "ipyvuetify                         1.5.1              \n",
            "ipywebrtc                          0.5.0              \n",
            "ipywidgets                         7.5.1              \n",
            "isort                              4.3.21             \n",
            "itsdangerous                       1.1.0              \n",
            "jdcal                              1.4.1              \n",
            "jedi                               0.14.1             \n",
            "Jinja2                             2.11.1             \n",
            "jmespath                           0.10.0             \n",
            "joblib                             0.14.1             \n",
            "json5                              0.9.1              \n",
            "jsonschema                         3.2.0              \n",
            "jupyter                            1.0.0              \n",
            "jupyter-client                     5.3.4              \n",
            "jupyter-console                    6.1.0              \n",
            "jupyter-core                       4.6.1              \n",
            "jupyterlab                         1.2.6              \n",
            "jupyterlab-server                  1.0.6              \n",
            "keybert                            0.3.0              \n",
            "keyring                            21.1.0             \n",
            "kiwisolver                         1.1.0              \n",
            "lazy-object-proxy                  1.4.3              \n",
            "libarchive-c                       2.8                \n",
            "llvmlite                           0.31.0             \n",
            "locket                             0.2.0              \n",
            "lxml                               4.5.0              \n",
            "markdown2                          2.4.0              \n",
            "MarkupSafe                         1.1.1              \n",
            "matplotlib                         3.1.3              \n",
            "matplotlib-venn                    0.11.6             \n",
            "mccabe                             0.6.1              \n",
            "menuinst                           1.4.16             \n",
            "mistune                            0.8.4              \n",
            "mkl-fft                            1.0.15             \n",
            "mkl-random                         1.1.0              \n",
            "mkl-service                        2.3.0              \n",
            "mock                               4.0.1              \n",
            "monotonic                          1.6                \n",
            "more-itertools                     8.2.0              \n",
            "mpmath                             1.1.0              \n",
            "msgpack                            0.6.1              \n",
            "multipledispatch                   0.6.0              \n",
            "murmurhash                         1.0.5              \n",
            "mysql-connector-python             8.0.26             \n",
            "navigator-updater                  0.2.1              \n",
            "nbconvert                          5.6.1              \n",
            "nbformat                           5.0.4              \n",
            "nest-asyncio                       1.4.2              \n",
            "networkx                           2.4                \n",
            "nglview                            2.7.7              \n",
            "nltk                               3.4.5              \n",
            "nose                               1.3.7              \n",
            "notebook                           6.0.3              \n",
            "numba                              0.48.0             \n",
            "numexpr                            2.7.1              \n",
            "numpy                              1.18.5             \n",
            "numpydoc                           0.9.2              \n",
            "olefile                            0.46               \n",
            "opencv-python                      4.4.0.42           \n",
            "openpyxl                           3.0.3              \n",
            "packaging                          20.1               \n",
            "pandas                             1.0.1              \n",
            "pandocfilters                      1.4.2              \n",
            "paramiko                           2.7.1              \n",
            "parso                              0.5.2              \n",
            "partd                              1.1.0              \n",
            "path                               13.1.0             \n",
            "pathlib2                           2.3.5              \n",
            "pathtools                          0.1.2              \n",
            "pathy                              0.4.0              \n",
            "patsy                              0.5.1              \n",
            "pep8                               1.7.1              \n",
            "pexpect                            4.8.0              \n",
            "pickleshare                        0.7.5              \n",
            "Pillow                             7.0.0              \n",
            "pip                                20.0.2             \n",
            "pkginfo                            1.5.0.1            \n",
            "plotly                             4.14.3             \n",
            "pluggy                             0.13.1             \n",
            "ply                                3.11               \n",
            "preshed                            3.0.5              \n",
            "progressbar2                       3.53.1             \n",
            "prometheus-client                  0.7.1              \n",
            "prompt-toolkit                     3.0.3              \n",
            "protobuf                           3.17.0             \n",
            "psutil                             5.6.7              \n",
            "psycopg2                           2.9.1              \n",
            "py                                 1.8.1              \n",
            "py3Dmol                            0.9.0              \n",
            "pyarrow                            2.0.0              \n",
            "pybind11                           2.6.1              \n",
            "pycodestyle                        2.5.0              \n",
            "pycosat                            0.6.3              \n",
            "pycountry                          20.7.3             \n",
            "pycparser                          2.19               \n",
            "pycrypto                           2.6.1              \n",
            "pycryptodome                       3.10.1             \n",
            "pycurl                             7.43.0.5           \n",
            "pydantic                           1.8.2              \n",
            "pydeck                             0.6.2              \n",
            "pydocstyle                         4.0.1              \n",
            "pyflakes                           2.1.1              \n",
            "Pygments                           2.5.2              \n",
            "pylint                             2.4.4              \n",
            "PyNaCl                             1.3.0              \n",
            "pyodbc                             4.0.0-unsupported  \n",
            "pyOpenSSL                          19.1.0             \n",
            "pyparsing                          2.4.6              \n",
            "PyPDF2                             1.26.0             \n",
            "pyreadline                         2.1                \n",
            "pyrsistent                         0.15.7             \n",
            "PySocks                            1.7.1              \n",
            "pyspellchecker                     0.5.6              \n",
            "pytesseract                        0.3.6              \n",
            "pytest                             5.3.5              \n",
            "pytest-arraydiff                   0.3                \n",
            "pytest-astropy                     0.8.0              \n",
            "pytest-astropy-header              0.1.2              \n",
            "pytest-doctestplus                 0.5.0              \n",
            "pytest-openfiles                   0.4.0              \n",
            "pytest-remotedata                  0.3.2              \n",
            "python-dateutil                    2.8.1              \n",
            "python-jsonrpc-server              0.3.4              \n",
            "python-language-server             0.31.7             \n",
            "python-utils                       2.4.0              \n",
            "pythreejs                          2.2.1              \n",
            "pytz                               2019.3             \n",
            "PyWavelets                         1.1.1              \n",
            "pywin32                            227                \n",
            "pywin32-ctypes                     0.2.0              \n",
            "pywinpty                           0.5.7              \n",
            "PyYAML                             5.3                \n",
            "pyzmq                              18.1.1             \n",
            "QDarkStyle                         2.8                \n",
            "QtAwesome                          0.6.1              \n",
            "qtconsole                          4.6.0              \n",
            "QtPy                               1.9.0              \n",
            "regex                              2021.3.17          \n",
            "requests                           2.22.0             \n",
            "retrying                           1.3.3              \n",
            "rope                               0.16.0             \n",
            "Rtree                              0.9.3              \n",
            "ruamel-yaml                        0.15.87            \n",
            "s3fs                               0.2.2              \n",
            "s3transfer                         0.3.3              \n",
            "sacremoses                         0.0.43             \n",
            "scikit-image                       0.16.2             \n",
            "scikit-learn                       0.23.1             \n",
            "scikit-plot                        0.3.7              \n",
            "scipy                              1.4.1              \n",
            "screed                             1.0.4              \n",
            "seaborn                            0.10.0             \n",
            "Send2Trash                         1.5.0              \n",
            "sentence-transformers              1.1.1              \n",
            "sentencepiece                      0.1.95             \n",
            "setuptools                         45.2.0.post20200210\n",
            "simplegeneric                      0.8.1              \n",
            "singledispatch                     3.4.0.3            \n",
            "six                                1.14.0             \n",
            "smart-open                         3.0.0              \n",
            "smmap                              4.0.0              \n",
            "snowballstemmer                    2.0.0              \n",
            "sortedcollections                  1.1.2              \n",
            "sortedcontainers                   2.1.0              \n",
            "soupsieve                          1.9.5              \n",
            "spacy                              3.0.5              \n",
            "spacy-legacy                       3.0.2              \n",
            "Sphinx                             2.4.0              \n",
            "sphinxcontrib-applehelp            1.0.1              \n",
            "sphinxcontrib-devhelp              1.0.1              \n",
            "sphinxcontrib-htmlhelp             1.0.2              \n",
            "sphinxcontrib-jsmath               1.0.1              \n",
            "sphinxcontrib-qthelp               1.0.2              \n",
            "sphinxcontrib-serializinghtml      1.1.3              \n",
            "sphinxcontrib-websupport           1.2.0              \n",
            "spyder                             4.0.1              \n",
            "spyder-kernels                     1.8.1              \n",
            "SQLAlchemy                         1.3.13             \n",
            "srsly                              2.4.1              \n",
            "starlette                          0.14.2             \n",
            "statsmodels                        0.11.0             \n",
            "stemming                           1.0.1              \n",
            "streamlit                          0.82.0             \n",
            "sumy                               0.8.1              \n",
            "sympy                              1.5.1              \n",
            "tables                             3.6.1              \n",
            "tabula-py                          2.2.0              \n",
            "tabulate                           0.8.7              \n",
            "tblib                              1.6.0              \n",
            "terminado                          0.8.3              \n",
            "testpath                           0.4.4              \n",
            "textblob                           0.15.3             \n",
            "thinc                              8.0.2              \n",
            "threadpoolctl                      2.1.0              \n",
            "tokenizers                         0.10.1             \n",
            "toml                               0.10.2             \n",
            "toolz                              0.10.0             \n",
            "torch                              1.8.1              \n",
            "torchaudio                         0.7.2              \n",
            "torchvision                        0.8.2              \n",
            "tornado                            6.0.3              \n",
            "tqdm                               4.42.1             \n",
            "traitlets                          4.3.3              \n",
            "traittypes                         0.2.1              \n",
            "transformers                       4.4.2              \n",
            "typer                              0.3.2              \n",
            "typing-extensions                  3.10.0.0           \n",
            "tzlocal                            2.1                \n",
            "ujson                              1.35               \n",
            "unicodecsv                         0.14.1             \n",
            "urllib3                            1.25.8             \n",
            "uvicorn                            0.14.0             \n",
            "vaex                               3.0.0              \n",
            "vaex-arrow                         0.5.1              \n",
            "vaex-astro                         0.7.0              \n",
            "vaex-core                          2.0.3              \n",
            "vaex-hdf5                          0.6.0              \n",
            "vaex-jupyter                       0.5.2              \n",
            "vaex-ml                            0.9.0              \n",
            "vaex-server                        0.3.1              \n",
            "vaex-viz                           0.4.0              \n",
            "validators                         0.18.2             \n",
            "wasabi                             0.8.2              \n",
            "watchdog                           0.10.2             \n",
            "wcwidth                            0.1.8              \n",
            "webencodings                       0.5.1              \n",
            "Werkzeug                           1.0.0              \n",
            "wget                               3.2                \n",
            "wheel                              0.34.2             \n",
            "widgetsnbextension                 3.5.1              \n",
            "win-inet-pton                      1.1.0              \n",
            "win-unicode-console                0.5                \n",
            "wincertstore                       0.2                \n",
            "wrapt                              1.11.2             \n",
            "xarray                             0.16.1             \n",
            "xgboost                            1.1.1              \n",
            "xlrd                               1.2.0              \n",
            "XlsxWriter                         1.2.7              \n",
            "xlwings                            0.17.1             \n",
            "xlwt                               1.3.0              \n",
            "xmltodict                          0.12.0             \n",
            "yapf                               0.28.0             \n",
            "zict                               1.0.0              \n",
            "zipp                               2.2.0              \n",
            "Note: you may need to restart the kernel to use updated packages.\n"
          ]
        }
      ],
      "source": [
        "pip list"
      ]
    },
    {
      "cell_type": "code",
      "execution_count": null,
      "metadata": {
        "id": "EuFIpUeYM7oC"
      },
      "outputs": [],
      "source": [
        "#! pip install -q scikit-learn                       "
      ]
    },
    {
      "cell_type": "markdown",
      "metadata": {
        "id": "RKW01LC2M7oC"
      },
      "source": [
        "### Python Collections - List , Tuple , Set , Dictionary\n",
        "\n",
        "* List is a collection which is ordered and changeable. Allows duplicate members.\n",
        "* Tuple is a collection which is ordered and unchangeable. Allows duplicate members.\n",
        "* Set is a collection which is unordered and unindexed. No duplicate members.\n",
        "* Dictionary is a collection which is ordered* and changeable. No duplicate members.\n",
        "\n",
        "When choosing a collection type, it is useful to understand the properties of that type. Choosing the right type for a particular data set could mean retention of meaning, and, it could mean an increase in efficiency or security.\n",
        "\n"
      ]
    },
    {
      "cell_type": "markdown",
      "metadata": {
        "id": "GEnp2w5tM7oD"
      },
      "source": [
        "#### Lists"
      ]
    },
    {
      "cell_type": "code",
      "execution_count": null,
      "metadata": {
        "id": "6qx4OjTbM7oD",
        "outputId": "2cdfbf7a-eb00-44b7-f882-b6783fd71f04"
      },
      "outputs": [
        {
          "data": {
            "text/plain": [
              "['apple', 'banana', 'cherry']"
            ]
          },
          "execution_count": 67,
          "metadata": {},
          "output_type": "execute_result"
        }
      ],
      "source": [
        "#Create a list\n",
        "mylist = [\"apple\", \"banana\", \"cherry\"]\n",
        "mylist"
      ]
    },
    {
      "cell_type": "code",
      "execution_count": null,
      "metadata": {
        "id": "IwF7uE-7M7oD",
        "outputId": "c5345c79-a46b-4289-ea3c-3ce50e4db755"
      },
      "outputs": [
        {
          "data": {
            "text/plain": [
              "[1, 'apple', 2.5]"
            ]
          },
          "execution_count": 69,
          "metadata": {},
          "output_type": "execute_result"
        }
      ],
      "source": [
        "#A list may contain differnt data types\n",
        "mylist =[1, \"apple\" , 2.5]\n",
        "mylist"
      ]
    },
    {
      "cell_type": "code",
      "execution_count": null,
      "metadata": {
        "id": "XR8OegweM7oD",
        "outputId": "ec64e61b-3fcd-4c05-9755-9a35ef5e315c"
      },
      "outputs": [
        {
          "name": "stdout",
          "output_type": "stream",
          "text": [
            "<class 'list'>\n"
          ]
        }
      ],
      "source": [
        "print(type(mylist))\n"
      ]
    },
    {
      "cell_type": "code",
      "execution_count": null,
      "metadata": {
        "id": "KxLSycN-M7oD",
        "outputId": "e437795c-98c3-4eba-bb32-7e2fb17d697f"
      },
      "outputs": [
        {
          "data": {
            "text/plain": [
              "3"
            ]
          },
          "execution_count": 71,
          "metadata": {},
          "output_type": "execute_result"
        }
      ],
      "source": [
        "#Length of a list\n",
        "len(mylist)"
      ]
    },
    {
      "cell_type": "markdown",
      "metadata": {
        "id": "9IegAg7eM7oE"
      },
      "source": [
        "#### List comprehension\n",
        "\n",
        "List comprehension offers a shorter syntax when you want to create a new list based on the values of an existing list.\n",
        "\n"
      ]
    },
    {
      "cell_type": "code",
      "execution_count": null,
      "metadata": {
        "id": "cCo7QKdiM7oE",
        "outputId": "4dd795a9-d3b8-42f1-9fb5-75c1ca149383"
      },
      "outputs": [
        {
          "name": "stdout",
          "output_type": "stream",
          "text": [
            "even_nums  [2, 4, 6, 8, 10]\n",
            "square_of_even_nums  [4, 16, 36, 64, 100]\n"
          ]
        }
      ],
      "source": [
        "#List comprehension\n",
        " \n",
        "nums =[1,2,3,4,5,6,7,8,9,10]\n",
        "\n",
        "\n",
        "# newlist = [expression for item in iterable if condition == True]\n",
        "\n",
        "even_nums = [x for x in nums if x%2 ==0]\n",
        "\n",
        "print(\"even_nums \" ,even_nums)\n",
        "\n",
        "square_of_even_nums = [x*x for x in nums if x%2 ==0]\n",
        "\n",
        "print(\"square_of_even_nums \", square_of_even_nums)"
      ]
    },
    {
      "cell_type": "markdown",
      "metadata": {
        "id": "fx9LRYVTM7oF"
      },
      "source": [
        "Task :\n",
        "Explore the following and write small code snippets\n",
        "1. Craete a list\n",
        "2. Access list items\n",
        "3. Add list items\n",
        "4. Remove list items\n",
        "5. Loop list\n",
        "6. List sorting\n",
        "7. Copy list\n",
        "8. Join list\n",
        "9. Different methods of list object"
      ]
    },
    {
      "cell_type": "markdown",
      "metadata": {
        "id": "bQJ6tvW4M7oF"
      },
      "source": [
        "#### Tuple\n",
        "\n",
        "- Ordered\n",
        "- Unchangable\n",
        "- Allow duplicates\n"
      ]
    },
    {
      "cell_type": "code",
      "execution_count": null,
      "metadata": {
        "id": "MwiBIt9sM7oG"
      },
      "outputs": [],
      "source": [
        "mytuple = (\"apple\", \"banana\", \"cherry\")"
      ]
    },
    {
      "cell_type": "markdown",
      "source": [
        "Operation that we perform in tuple"
      ],
      "metadata": {
        "id": "FY9o7S4sPAFW"
      }
    },
    {
      "cell_type": "code",
      "source": [
        "print(mytuple.count(\"apple\"))\n",
        "mytuple.index(\"apple\")\n",
        "#we cannot add and remove "
      ],
      "metadata": {
        "colab": {
          "base_uri": "https://localhost:8080/"
        },
        "id": "FEm9NG9uO--j",
        "outputId": "6fc096d0-d16e-4481-a83c-e068c831fb19"
      },
      "execution_count": null,
      "outputs": [
        {
          "output_type": "stream",
          "name": "stdout",
          "text": [
            "1\n"
          ]
        },
        {
          "output_type": "execute_result",
          "data": {
            "text/plain": [
              "0"
            ]
          },
          "metadata": {},
          "execution_count": 4
        }
      ]
    },
    {
      "cell_type": "markdown",
      "metadata": {
        "id": "hIFGfa6PM7oG"
      },
      "source": [
        "#### Sets\n",
        "\n",
        "- Unordered\n",
        "- Unchangable\n",
        "- Duplicates not allowed"
      ]
    },
    {
      "cell_type": "code",
      "execution_count": null,
      "metadata": {
        "id": "tNLPpvfUM7oG"
      },
      "outputs": [],
      "source": [
        "myset = {\"apple\", \"banana\", \"cherry\"}\n"
      ]
    },
    {
      "cell_type": "markdown",
      "metadata": {
        "id": "pTStI-g_M7oH"
      },
      "source": [
        "#### Dictionaries\n",
        "\n",
        "- Ordered (Python 3.7 on wards)\n",
        "- Changable\n",
        "- Duplicates not allowed"
      ]
    },
    {
      "cell_type": "code",
      "execution_count": null,
      "metadata": {
        "id": "GrN6abegM7oH"
      },
      "outputs": [],
      "source": [
        "thisdict = {\n",
        "  1: \"Mohan\",\n",
        "  2: \"Edward\",\n",
        "  3: \"Linda\",\n",
        "  4: \"Sunny\"\n",
        "}\n"
      ]
    },
    {
      "cell_type": "markdown",
      "metadata": {
        "id": "wVFkRYSWM7oH"
      },
      "source": [
        "Task : Explore arrays. When arrays used ?\n"
      ]
    },
    {
      "cell_type": "markdown",
      "metadata": {
        "id": "4k7haiy5M7oI"
      },
      "source": [
        "#### You can continue your python learning \n",
        "\n",
        "- Object oriented programming in python\n",
        "- Inheritance and classes\n",
        "- Logging \n",
        "- Itertools\n",
        "- Unit testing\n",
        "- Creating virtual environment\n",
        "- File handling\n",
        "- python and database connectivity  (MySQL, MongoDB , Postgre etc)\n",
        "- Python and machine learning\n",
        "- Python and visualization\n"
      ]
    },
    {
      "cell_type": "markdown",
      "metadata": {
        "id": "QSNuiT0XM7oI"
      },
      "source": [
        "#### Python quiz\n",
        "\n",
        "https://www.w3schools.com/quiztest/quiztest.asp?qtest=PYTHON"
      ]
    }
  ],
  "metadata": {
    "kernelspec": {
      "display_name": "Python 3",
      "language": "python",
      "name": "python3"
    },
    "language_info": {
      "codemirror_mode": {
        "name": "ipython",
        "version": 3
      },
      "file_extension": ".py",
      "mimetype": "text/x-python",
      "name": "python",
      "nbconvert_exporter": "python",
      "pygments_lexer": "ipython3",
      "version": "3.7.6"
    },
    "colab": {
      "name": "Python-General (1).ipynb",
      "provenance": [],
      "toc_visible": true,
      "include_colab_link": true
    }
  },
  "nbformat": 4,
  "nbformat_minor": 0
}