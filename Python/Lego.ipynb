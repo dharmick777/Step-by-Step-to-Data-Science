{
  "cells": [
    {
      "cell_type": "markdown",
      "metadata": {
        "id": "view-in-github",
        "colab_type": "text"
      },
      "source": [
        "<a href=\"https://colab.research.google.com/github/priyak950/Step-by-Step-to-Data-Science/blob/main/Python/Lego.ipynb\" target=\"_parent\"><img src=\"https://colab.research.google.com/assets/colab-badge.svg\" alt=\"Open In Colab\"/></a>"
      ]
    },
    {
      "cell_type": "markdown",
      "id": "89b63a27",
      "metadata": {
        "id": "89b63a27"
      },
      "source": [
        "You are given a row of Lego Blocks consisting of n blocks. All the blocks given have a square base whose side length is known. You need to stack the blocks over each other and create a vertical tower. Block-1 can go over Block-2 only if sideLength(Block-2)=>sideLength(Block-1).\n",
        "\n",
        "From the row of Lego blocks, you can only pick up either the leftmost or rightmost block.\n",
        "\n",
        "Print \"Possible\" if it is possible to stack all n cubes this way or else print \"Impossible\".\n",
        "\n"
      ]
    },
    {
      "cell_type": "code",
      "execution_count": null,
      "id": "86e89ab9",
      "metadata": {
        "id": "86e89ab9",
        "outputId": "8d83e4a5-18d9-4766-83b0-c556215f82c2"
      },
      "outputs": [
        {
          "data": {
            "text/plain": [
              "[5, 5, 1, 2, 4]"
            ]
          },
          "execution_count": 69,
          "metadata": {},
          "output_type": "execute_result"
        }
      ],
      "source": [
        "sides = [5 ,4, 2, 1 ,5]\n",
        "# sides = [1 ,4, 2, 1 ,5]\n",
        "L_rightmost=[]\n",
        "\n",
        "L_rightmost.append(sides[0])\n",
        "L_rightmost\n",
        "i=1\n",
        "length = len(sides)\n",
        "for i in range(length-1,0,-1):         \n",
        "    L_rightmost.append(sides[i])\n",
        "\n",
        "L_rightmost"
      ]
    },
    {
      "cell_type": "code",
      "execution_count": null,
      "id": "d61d7517",
      "metadata": {
        "id": "d61d7517",
        "outputId": "b8ed306d-068e-4f47-e4ce-c36425b0f061"
      },
      "outputs": [
        {
          "data": {
            "text/plain": [
              "[5, 5, 4, 2, 1]"
            ]
          },
          "execution_count": 70,
          "metadata": {},
          "output_type": "execute_result"
        }
      ],
      "source": [
        "L_leftmost=[]\n",
        "\n",
        "length = len(sides)\n",
        "L_leftmost.append(sides[length-1])\n",
        "L_leftmost\n",
        "i=1\n",
        "\n",
        "for i in range(0,length-1):         \n",
        "    L_leftmost.append(sides[i])\n",
        "\n",
        "L_leftmost"
      ]
    },
    {
      "cell_type": "code",
      "execution_count": null,
      "id": "1e7b8e51",
      "metadata": {
        "id": "1e7b8e51",
        "outputId": "5f7eef56-2246-448c-8179-66bb6de940da"
      },
      "outputs": [
        {
          "data": {
            "text/plain": [
              "[0, 4, -1, -2]"
            ]
          },
          "execution_count": 71,
          "metadata": {},
          "output_type": "execute_result"
        }
      ],
      "source": [
        "L_rightmost_diff = [(L_rightmost[i]-L_rightmost[i+1]) for i in range(length-1)]\n",
        "L_rightmost_diff"
      ]
    },
    {
      "cell_type": "markdown",
      "id": "cf7d912b",
      "metadata": {
        "id": "cf7d912b"
      },
      "source": [
        "![image-2.png](attachment:image-2.png)"
      ]
    },
    {
      "cell_type": "code",
      "execution_count": null,
      "id": "23ad4eb4",
      "metadata": {
        "id": "23ad4eb4",
        "outputId": "53f5466b-45a1-4d80-8add-c93a7107d84b"
      },
      "outputs": [
        {
          "data": {
            "text/plain": [
              "[0, 1, 2, 1]"
            ]
          },
          "execution_count": 72,
          "metadata": {},
          "output_type": "execute_result"
        }
      ],
      "source": [
        "L_leftmost_diff = [(L_leftmost[i]-L_leftmost[i+1]) for i in range(length-1)]\n",
        "L_leftmost_diff"
      ]
    },
    {
      "cell_type": "code",
      "execution_count": null,
      "id": "6f15eb98",
      "metadata": {
        "id": "6f15eb98",
        "outputId": "f1d4371a-71ef-419c-d9a8-f1ab971950dd"
      },
      "outputs": [
        {
          "data": {
            "text/plain": [
              "2"
            ]
          },
          "execution_count": 73,
          "metadata": {},
          "output_type": "execute_result"
        }
      ],
      "source": [
        "sum1= sum(1 for number in L_rightmost_diff if number < 0)\n",
        "sum1"
      ]
    },
    {
      "cell_type": "code",
      "execution_count": null,
      "id": "55b58d31",
      "metadata": {
        "id": "55b58d31",
        "outputId": "db075dc3-bcc5-4136-d9a7-627b9c6ebd6b"
      },
      "outputs": [
        {
          "data": {
            "text/plain": [
              "0"
            ]
          },
          "execution_count": 74,
          "metadata": {},
          "output_type": "execute_result"
        }
      ],
      "source": [
        "sum2= sum(1 for number in L_leftmost_diff if number < 0)\n",
        "sum2"
      ]
    },
    {
      "cell_type": "code",
      "execution_count": null,
      "id": "3dd1e6f0",
      "metadata": {
        "id": "3dd1e6f0",
        "outputId": "a3e533ce-9295-4a7c-c163-04eafb944992"
      },
      "outputs": [
        {
          "name": "stdout",
          "output_type": "stream",
          "text": [
            "Possible\n"
          ]
        }
      ],
      "source": [
        "if (sum1 == 0 or sum2==0):\n",
        "    print(\"Possible\")\n",
        "else:\n",
        "    print(\"Impossible\")"
      ]
    }
  ],
  "metadata": {
    "kernelspec": {
      "display_name": "Python 3 (ipykernel)",
      "language": "python",
      "name": "python3"
    },
    "language_info": {
      "codemirror_mode": {
        "name": "ipython",
        "version": 3
      },
      "file_extension": ".py",
      "mimetype": "text/x-python",
      "name": "python",
      "nbconvert_exporter": "python",
      "pygments_lexer": "ipython3",
      "version": "3.9.7"
    },
    "colab": {
      "name": "Lego.ipynb",
      "provenance": [],
      "include_colab_link": true
    }
  },
  "nbformat": 4,
  "nbformat_minor": 5
}