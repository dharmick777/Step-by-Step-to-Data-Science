{
  "cells": [
    {
      "cell_type": "markdown",
      "metadata": {
        "id": "view-in-github",
        "colab_type": "text"
      },
      "source": [
        "<a href=\"https://colab.research.google.com/github/priyak950/Step-by-Step-to-Data-Science/blob/main/Python/OOPS.ipynb\" target=\"_parent\"><img src=\"https://colab.research.google.com/assets/colab-badge.svg\" alt=\"Open In Colab\"/></a>"
      ]
    },
    {
      "cell_type": "markdown",
      "metadata": {
        "id": "QGjnGMLxaXQ-"
      },
      "source": [
        "<h1 style = \"color : Blue\"> i. Creating Classes and Objects </h1>"
      ]
    },
    {
      "cell_type": "markdown",
      "metadata": {
        "id": "_nsLsBjKaXRD"
      },
      "source": [
        "<h2 style = \"color : Brown\">Defining a class</h2>\n",
        "\n",
        "- length and breadth as attributes\n",
        "- __init__() - constructor of class\n",
        "- self parameter - refers to the newly created instance of the class.  \n",
        "- attributes length and breadth are associated with self-keyword to identify them as instance variables"
      ]
    },
    {
      "cell_type": "code",
      "execution_count": null,
      "metadata": {
        "id": "UwHwvw3daXRE"
      },
      "outputs": [],
      "source": [
        "class Rectangle :\n",
        "    def __init__(self):\n",
        "        self.length = 10\n",
        "        self.breadth = 5"
      ]
    },
    {
      "cell_type": "markdown",
      "metadata": {
        "id": "MBau4ejcaXRG"
      },
      "source": [
        "- create the object by calling name of the class followed by parenthesis. \n",
        "- print the values using dot operator"
      ]
    },
    {
      "cell_type": "code",
      "execution_count": null,
      "metadata": {
        "colab": {
          "base_uri": "https://localhost:8080/"
        },
        "id": "SKMDZrScaXRI",
        "outputId": "400f6172-6313-42c6-930f-848ee44499fa"
      },
      "outputs": [
        {
          "output_type": "stream",
          "name": "stdout",
          "text": [
            "Length =  10 \n",
            "Breadth =  5\n"
          ]
        }
      ],
      "source": [
        "rect = Rectangle()\n",
        "print(\"Length = \",rect.length, \"\\nBreadth = \" ,rect.breadth)"
      ]
    },
    {
      "cell_type": "markdown",
      "metadata": {
        "id": "iZi1Z4xRaXRJ"
      },
      "source": [
        "<h2 style = \"color : Brown\">Parametrised Constructor</h2>\n",
        "\n",
        "- parametrised constructor - dynamically assign the attribute values during object creation"
      ]
    },
    {
      "cell_type": "code",
      "execution_count": null,
      "metadata": {
        "colab": {
          "base_uri": "https://localhost:8080/"
        },
        "id": "DxcODZVjaXRK",
        "outputId": "c6e74149-6341-400e-de3a-83888119628a"
      },
      "outputs": [
        {
          "output_type": "stream",
          "name": "stdout",
          "text": [
            "Length =  10 \n",
            "Breadth =  5\n"
          ]
        }
      ],
      "source": [
        "class Rectangle :\n",
        "    def __init__(self, length, breadth):\n",
        "        self.length = length\n",
        "        self.breadth = breadth\n",
        "        \n",
        "rect = Rectangle(10, 5)\n",
        "print(\"Length = \",rect.length, \"\\nBreadth = \" ,rect.breadth)"
      ]
    },
    {
      "cell_type": "markdown",
      "metadata": {
        "id": "yLNQin9AaXRM"
      },
      "source": [
        "<h1 style = \"color : Blue\">ii. Class Variable and Instance variables "
      ]
    },
    {
      "cell_type": "code",
      "execution_count": null,
      "metadata": {
        "id": "F-AONUVNaXRM"
      },
      "outputs": [],
      "source": [
        "class Circle :\n",
        "    pi = 3.14\n",
        "    def __init__(self, radius):\n",
        "        self.radius = radius"
      ]
    },
    {
      "cell_type": "code",
      "execution_count": null,
      "metadata": {
        "colab": {
          "base_uri": "https://localhost:8080/"
        },
        "id": "wCELoWkKaXRN",
        "outputId": "3763159c-9dc3-4e54-cb2a-2fca4dda3e83"
      },
      "outputs": [
        {
          "output_type": "stream",
          "name": "stdout",
          "text": [
            "Radius = 5 \t pi = 3.14\n",
            "Radius = 2 \t pi = 3.14\n"
          ]
        }
      ],
      "source": [
        "circle_1 = Circle(5)\n",
        "print(\"Radius = {} \\t pi = {}\".format(circle_1.radius,circle_1.pi))\n",
        "\n",
        "circle_2 = Circle(2)\n",
        "print(\"Radius = {} \\t pi = {}\".format(circle_2.radius,circle_2.pi))"
      ]
    },
    {
      "cell_type": "code",
      "execution_count": null,
      "metadata": {
        "colab": {
          "base_uri": "https://localhost:8080/"
        },
        "id": "Sn7O_jpnaXRO",
        "outputId": "9cf1752a-f642-4583-a625-c4b0a19f62c7"
      },
      "outputs": [
        {
          "output_type": "stream",
          "name": "stdout",
          "text": [
            "Radius = 5 \t pi = 3.1436\n",
            "Radius = 2 \t pi = 3.1436\n"
          ]
        }
      ],
      "source": [
        "Circle.pi = 3.1436\n",
        "\n",
        "circle_1 = Circle(5)\n",
        "print(\"Radius = {} \\t pi = {}\".format(circle_1.radius,circle_1.pi))\n",
        "\n",
        "circle_2 = Circle(2)\n",
        "print(\"Radius = {} \\t pi = {}\".format(circle_2.radius,circle_2.pi))"
      ]
    },
    {
      "cell_type": "markdown",
      "metadata": {
        "id": "xlXb7hsJaXRO"
      },
      "source": [
        "<h1 style = \"color : Blue\">iii. Adding a method to class</h1>\n",
        "\n",
        "- calculate_area() - retutns the product of attributes length and breadth   \n",
        "- self - identifies its association with the instance"
      ]
    },
    {
      "cell_type": "code",
      "execution_count": null,
      "metadata": {
        "colab": {
          "base_uri": "https://localhost:8080/"
        },
        "id": "UQUP-QnfaXRP",
        "outputId": "55689906-a528-4b77-f207-1ddcccc18e9f"
      },
      "outputs": [
        {
          "output_type": "stream",
          "name": "stdout",
          "text": [
            "Length =  10 \n",
            "Breadth =  5 \n",
            "Area =  50\n"
          ]
        }
      ],
      "source": [
        "class Rectangle :\n",
        "    def __init__(self, length, breadth):\n",
        "        self.length = length\n",
        "        self.breadth = breadth\n",
        "        \n",
        "    def calculate_area(self):\n",
        "        return self.length * self.breadth\n",
        "        \n",
        "rect = Rectangle(10, 5)\n",
        "print(\"Length = \",rect.length, \"\\nBreadth = \" ,rect.breadth, \"\\nArea = \", rect.calculate_area())"
      ]
    },
    {
      "cell_type": "markdown",
      "metadata": {
        "id": "--VOPi0vaXRP"
      },
      "source": [
        "<h2 style = \"color : Brown\"> Significance of self:</h2>\n",
        "\n",
        "- The attributes length and breadth are associated with an instance.\n",
        "- Self makes sure that each instance refers to its own copy of attributes"
      ]
    },
    {
      "cell_type": "code",
      "execution_count": null,
      "metadata": {
        "colab": {
          "base_uri": "https://localhost:8080/"
        },
        "id": "33RIoE5maXRQ",
        "outputId": "429fecf2-9ec3-4767-bb58-f69cfc3e8f13"
      },
      "outputs": [
        {
          "output_type": "stream",
          "name": "stdout",
          "text": [
            "Length =  15 \n",
            "Breadth =  8 \n",
            "Area =  120\n"
          ]
        }
      ],
      "source": [
        "new_rect = Rectangle(15, 8)\n",
        "print(\"Length = \",new_rect.length, \"\\nBreadth = \" ,new_rect.breadth, \"\\nArea = \", new_rect.calculate_area())"
      ]
    },
    {
      "cell_type": "code",
      "execution_count": null,
      "metadata": {
        "colab": {
          "base_uri": "https://localhost:8080/"
        },
        "id": "Nvy8YAZTaXRQ",
        "outputId": "e9a1c342-97fa-40af-c796-3148d717d450"
      },
      "outputs": [
        {
          "output_type": "stream",
          "name": "stdout",
          "text": [
            "Length =  10 \n",
            "Breadth =  5 \n",
            "Area =  50\n"
          ]
        }
      ],
      "source": [
        "print(\"Length = \",rect.length, \"\\nBreadth = \" ,rect.breadth, \"\\nArea = \", rect.calculate_area())"
      ]
    },
    {
      "cell_type": "markdown",
      "metadata": {
        "id": "H18IAEt0aXRQ"
      },
      "source": [
        "<h1 style = \"color : Blue\">iv. Class Method and Static Method"
      ]
    },
    {
      "cell_type": "code",
      "execution_count": 18,
      "metadata": {
        "colab": {
          "base_uri": "https://localhost:8080/"
        },
        "id": "k9OeG5mQaXRR",
        "outputId": "f0c4efe4-273b-4f5b-92a5-49c19c761a42"
      },
      "outputs": [
        {
          "output_type": "stream",
          "name": "stdout",
          "text": [
            "15.700000000000001\n",
            "3.1436\n",
            "This is circle's static method\n"
          ]
        }
      ],
      "source": [
        "class Circle :\n",
        "    \n",
        "    pi = 3.14\n",
        "    def __init__(self, radius):\n",
        "        self.radius = radius\n",
        "        \n",
        "    # Instance Method   \n",
        "    def calculate_area(self):\n",
        "        return Circle.pi * self.radius\n",
        "    \n",
        "    # Class Method - I cannot access - radius\n",
        "    @classmethod\n",
        "    def access_pi(cls):\n",
        "        pi = 3.1436\n",
        "        return pi\n",
        "        \n",
        "    # Static Method -  I cannot access - pi and radius\n",
        "    @staticmethod\n",
        "    def circle_static_method():\n",
        "        print(\"This is circle's static method\")\n",
        "        \n",
        "cir = Circle(5)\n",
        "\n",
        "# Calling methods \n",
        "\n",
        "print(cir.calculate_area())\n",
        "\n",
        "print(Circle.access_pi())\n",
        "\n",
        "Circle.circle_static_method()"
      ]
    },
    {
      "cell_type": "markdown",
      "metadata": {
        "id": "zJrffCg8aXRR"
      },
      "source": [
        "<h1 style = \"color : Blue\">v. Inheritance and Overriding"
      ]
    },
    {
      "cell_type": "code",
      "execution_count": 19,
      "metadata": {
        "id": "93q1yVM1aXRR"
      },
      "outputs": [],
      "source": [
        "class Shape :\n",
        "    \n",
        "    \n",
        "    def set_color(self, color):\n",
        "        self.color = color\n",
        "        \n",
        "    def calculate_area(self):\n",
        "        pass\n",
        "        \n",
        "    def color_the_shape(self):\n",
        "        color_price = {\"red\" : 10, \"blue\" : 15, \"green\" : 5}\n",
        "        return self.calculate_area() * color_price[self.color]"
      ]
    },
    {
      "cell_type": "code",
      "execution_count": 20,
      "metadata": {
        "id": "JWeh9AGXaXRS"
      },
      "outputs": [],
      "source": [
        "class Circle(Shape) :\n",
        "    pi = 3.14\n",
        "    def __init__(self, radius):\n",
        "        self.radius = radius\n",
        "        \n",
        "    # overriding\n",
        "    def calculate_area(self):\n",
        "        return Circle.pi * self.radius"
      ]
    },
    {
      "cell_type": "code",
      "execution_count": 21,
      "metadata": {
        "id": "e_P6PYheaXRS",
        "outputId": "59eab5e2-324e-4753-afe0-b802e5044650",
        "colab": {
          "base_uri": "https://localhost:8080/"
        }
      },
      "outputs": [
        {
          "output_type": "stream",
          "name": "stdout",
          "text": [
            "Circle with radius = 5 when colored red costs $ 157.0\n"
          ]
        }
      ],
      "source": [
        "c = Circle(5)\n",
        "c.set_color(\"red\")\n",
        "print(\"Circle with radius =\",c.radius ,\"when colored\", c.color,\"costs $\",c.color_the_shape())"
      ]
    },
    {
      "cell_type": "code",
      "execution_count": 23,
      "metadata": {
        "id": "bRJoboC0aXRS"
      },
      "outputs": [],
      "source": [
        "class Rectangle(Shape) :\n",
        "    def __init__(self, length, breadth):\n",
        "        self.length = length\n",
        "        self.breadth = breadth\n",
        "        \n",
        "     # Overriding user defined method   \n",
        "    def calculate_area(self):\n",
        "        return self.length * self.breadth\n",
        "    \n",
        "    # Overriding python default method\n",
        "    def __str__(self):\n",
        "        return \"area of rectangle = \" + str(self.calculate_area())"
      ]
    },
    {
      "cell_type": "code",
      "execution_count": null,
      "metadata": {
        "id": "u9VzsIOraXRT",
        "outputId": "de10850c-0f3c-4a17-fc3a-aa38bfd42d20"
      },
      "outputs": [
        {
          "name": "stdout",
          "output_type": "stream",
          "text": [
            "Rectangle with length = 5  and breadth =  10 when colored blue costs $ 750\n"
          ]
        }
      ],
      "source": [
        "r = Rectangle(5, 10)\n",
        "r.set_color(\"blue\")\n",
        "print(\"Rectangle with length =\",r.length ,\" and breadth = \",r.breadth ,\"when colored\", r.color,\"costs $\",r.color_the_shape())"
      ]
    },
    {
      "cell_type": "code",
      "execution_count": null,
      "metadata": {
        "id": "RE9nYCYAaXRT",
        "outputId": "6650501b-fe47-4c08-e6ae-147d1087e6d8"
      },
      "outputs": [
        {
          "name": "stdout",
          "output_type": "stream",
          "text": [
            "area of rectangle = 50\n"
          ]
        }
      ],
      "source": [
        "print(r)"
      ]
    },
    {
      "cell_type": "code",
      "execution_count": null,
      "metadata": {
        "id": "66PLxbZAaXRT"
      },
      "outputs": [],
      "source": [
        ""
      ]
    }
  ],
  "metadata": {
    "kernelspec": {
      "display_name": "Python 3",
      "language": "python",
      "name": "python3"
    },
    "language_info": {
      "codemirror_mode": {
        "name": "ipython",
        "version": 3
      },
      "file_extension": ".py",
      "mimetype": "text/x-python",
      "name": "python",
      "nbconvert_exporter": "python",
      "pygments_lexer": "ipython3",
      "version": "3.7.3"
    },
    "colab": {
      "name": "Session+4.ipynb",
      "provenance": [],
      "include_colab_link": true
    }
  },
  "nbformat": 4,
  "nbformat_minor": 0
}