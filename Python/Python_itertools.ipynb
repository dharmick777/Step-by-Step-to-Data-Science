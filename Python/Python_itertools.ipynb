{
  "nbformat": 4,
  "nbformat_minor": 0,
  "metadata": {
    "colab": {
      "name": "Python_itertools",
      "provenance": [],
      "authorship_tag": "ABX9TyOWRw26gXnp4GGe0OthQYYG",
      "include_colab_link": true
    },
    "kernelspec": {
      "name": "python3",
      "display_name": "Python 3"
    },
    "language_info": {
      "name": "python"
    }
  },
  "cells": [
    {
      "cell_type": "markdown",
      "metadata": {
        "id": "view-in-github",
        "colab_type": "text"
      },
      "source": [
        "<a href=\"https://colab.research.google.com/github/priyak950/Step-by-Step-to-Data-Science/blob/main/Python/Python_itertools.ipynb\" target=\"_parent\"><img src=\"https://colab.research.google.com/assets/colab-badge.svg\" alt=\"Open In Colab\"/></a>"
      ]
    },
    {
      "cell_type": "markdown",
      "source": [
        "Python's Itertool is a module that provides various functions that work on iterators to produce complex iterators. \n",
        "1. accumalator\n",
        "2. compress\n",
        "3. chain\n",
        "4. dropwhile --- \n",
        "  takewhile\n",
        "5. islice(start,stop,step)\n",
        "6. zip_longest(list1,list2)\n",
        "7. group_by(list,function)\n",
        "8. product(*iterable, repeat =1)\n",
        "9. permulation(n,r) where n is list\n",
        "10. combination(n,r)\n",
        "11. combination_with_replacement(n,r)\n",
        "https://docs.python.org/3/library/itertools.html\n",
        "\n"
      ],
      "metadata": {
        "id": "RKn80kdZuDuy"
      }
    },
    {
      "cell_type": "code",
      "source": [
        "#example of product\n",
        "from itertools import product\n",
        "h= product('ABCD', 'xy') #--> Ax Ay Bx By Cx Cy Dx Dy\n",
        "print(list(h))\n",
        "res2 = product(range(2), repeat=3) #--> 000 001 010 011 100 101 110 111\n",
        "print(list(res2))"
      ],
      "metadata": {
        "colab": {
          "base_uri": "https://localhost:8080/"
        },
        "id": "S217Peh4zDeJ",
        "outputId": "4412c6a6-e81b-47b4-ae32-4e033a8e4721"
      },
      "execution_count": null,
      "outputs": [
        {
          "output_type": "stream",
          "name": "stdout",
          "text": [
            "[('A', 'x'), ('A', 'y'), ('B', 'x'), ('B', 'y'), ('C', 'x'), ('C', 'y'), ('D', 'x'), ('D', 'y')]\n",
            "[(0, 0, 0), (0, 0, 1), (0, 1, 0), (0, 1, 1), (1, 0, 0), (1, 0, 1), (1, 1, 0), (1, 1, 1)]\n"
          ]
        }
      ]
    },
    {
      "cell_type": "code",
      "source": [
        "# https://www.hackerrank.com/challenges/maximize-it/problem\n",
        "'''\n",
        "3 1000\n",
        "2 5 4\n",
        "3 7 8 9\n",
        "5 5 7 8 9 10\n",
        "'''\n",
        "from itertools import product\n",
        "\n",
        "K,M = map(int,input().split())\n",
        "N = [list(map(int, input().split()))[1:] for _ in range(K)]\n",
        "results = map(lambda x: sum(i**2 for i in x)%M, product(*N))\n",
        "print(max(results))"
      ],
      "metadata": {
        "colab": {
          "base_uri": "https://localhost:8080/"
        },
        "id": "cEbqxSgS6kH-",
        "outputId": "6797c7b0-a2a8-4d69-c8c6-a66d5b2a8156"
      },
      "execution_count": null,
      "outputs": [
        {
          "output_type": "stream",
          "name": "stdout",
          "text": [
            "3 1000\n",
            "2 5 4\n",
            "3 7 8 9\n",
            "5 5 7 8 9 10\n",
            "206\n"
          ]
        }
      ]
    }
  ]
}