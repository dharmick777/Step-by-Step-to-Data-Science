{
  "cells": [
    {
      "cell_type": "markdown",
      "metadata": {
        "id": "view-in-github",
        "colab_type": "text"
      },
      "source": [
        "<a href=\"https://colab.research.google.com/github/priyak950/Step-by-Step-to-Data-Science/blob/main/Python/basicOfPython_And_DataType.ipynb\" target=\"_parent\"><img src=\"https://colab.research.google.com/assets/colab-badge.svg\" alt=\"Open In Colab\"/></a>"
      ]
    },
    {
      "cell_type": "markdown",
      "metadata": {
        "id": "yQA4qTnYsvdu"
      },
      "source": [
        "# Python - General\n",
        " \n",
        "Compiled by - Lipsa \n",
        "\n",
        "(Note - This notebook is only for learning purposes. Hereby, I give due credit to all the original sources of content(images, examples, definitions,statements etc) used here for better understanding of the concepts. If you find any misinformation or mistake in the content then please send an email to me  india.lipsa@gmail.com)\n",
        "\n",
        "Last updated on - 19th Jan 2022\n",
        "\n",
        "![image.png](attachment:image.png)"
      ]
    },
    {
      "cell_type": "markdown",
      "metadata": {
        "id": "SIh-8WO1svdy"
      },
      "source": [
        "<b>What is Python?</b>\n",
        "\n",
        "Python is an easy to learn, powerful computer programming language .\n",
        "\n",
        "<b>Who is the creator of python programming language? </b>\n",
        "\n",
        "Guido van Rossum is a Dutch programmer and he is the creator of Python. \n",
        "In December 1989, Van Rossum had been looking for a \"'hobby' programming project that would keep [him] occupied during the week around Christmas\" as his office was closed when he decided to write an interpreter for a \"new scripting language [he] had been thinking about lately. Since 2020, Van Rossum is working with Microsoft.\n",
        "\n",
        "![image.png](attachment:image.png)"
      ]
    },
    {
      "cell_type": "markdown",
      "metadata": {
        "id": "FbFIkF-Hsvdz"
      },
      "source": [
        "\n",
        "\n",
        "<b>Ok, why python is called python? Is it related to snake ??</b>\n",
        "\n",
        "Ah, No, not related to snakes. \n",
        "Monty Python (also collectively known as the Pythons) were a British surreal comedy troupe who created the  comedy television show Monty Python's Flying Circus, which first aired on the BBC in 1969. (Wikipedia)\n",
        "\"When <b>Guido van Rossum</b> began implementing Python, he was also reading the published scripts from 'Monty Python’s Flying Circus', a BBC comedy series from the 1970s. Van Rossum thought he needed a name that was short, unique, and slightly mysterious, so he decided to call the language Python.\" - Python.org\n",
        "![image.png](attachment:image.png)\n",
        "\n",
        "(The Pythons in 1969:\n",
        "Back row: Chapman, Idle, Gilliam\n",
        "Front row: Jones, Cleese, Palin)\n",
        "\n",
        "\n"
      ]
    },
    {
      "cell_type": "markdown",
      "metadata": {
        "id": "F5h3JD72svd1"
      },
      "source": [
        "\n",
        "\n",
        "<b> Why python is popular ? </b>\n",
        "\n",
        "* Its a general purpose language. \n",
        "* It has simple syntax\n",
        "* It's open source. \n",
        "* It is supported by a large active community.\n",
        "* Versatility\n",
        " \n",
        " \n",
        "![image.png](attachment:image.png)"
      ]
    },
    {
      "cell_type": "markdown",
      "metadata": {
        "id": "7kpDcO_Esvd1"
      },
      "source": [
        "\n",
        "<b> Ah, but what is a general purpose programming language? </b>\n",
        "\n",
        "It means, Python can be used for variety of different program like website development , data analysis , task automation etc\n",
        "\n",
        "<b> Big Companies using Python </b>\n",
        "\n",
        "NASA,Google,Nokia,IBM,Yahoo! Maps,Walt Disney Feature Animation,Facebook,Netflix,Expedia,Reddit,\n",
        "Quora,MIT,Disqus,Hike,Spotify,Udemy,Shutterstock,Uber,Amazon,Mozilla,Dropbox,Pinterest,Youtube\n",
        "\n",
        "<b>Popularity of python </b>\n",
        "\n",
        "#### TIOBE Programming Community Index\n",
        "\n",
        "Since 2003, Python has consistently ranked in the top ten most popular programming languages in the TIOBE Programming Community Index where, as of January 2022, it is the most popular language (ahead of Java, and C). It was selected Programming Language of the Year (for \"the highest rise in ratings in a year\") in 2007, 2010, 2018, 2020 ,2021 , 2022.\n",
        "![image.png](attachment:image.png)\n",
        "(Source- https://www.tiobe.com/tiobe-index/      , https://en.wikipedia.org/wiki/Python_(programming_language))\n",
        "\n",
        "\n"
      ]
    },
    {
      "cell_type": "markdown",
      "metadata": {
        "id": "bSmB6p19svd2"
      },
      "source": [
        "#### PYPL PopularitY of Programming Language\n",
        "It is a measure of the popularity of programming languages. It is created by analyzing how often language tutorials are searched on Google.\n",
        "\n",
        "\n",
        "\n",
        "Worldwide, Python is the most popular language, Python grew the most in the last 5 years (13.4%) and Java lost the most (-5.1%)\n",
        "\n",
        "![image.png](attachment:image.png)\n",
        "(https://pypl.github.io/PYPL.html)"
      ]
    },
    {
      "cell_type": "markdown",
      "metadata": {
        "id": "O69gLSiPsvd3"
      },
      "source": [
        "#### Some fun , Antigravity\n",
        "\n",
        "import antigravity opens up a web browser that points to the classic XKCD comic mentioning Python"
      ]
    },
    {
      "cell_type": "code",
      "execution_count": null,
      "metadata": {
        "id": "2X9ZT-ZHsvd4"
      },
      "outputs": [],
      "source": [
        "import antigravity"
      ]
    },
    {
      "cell_type": "markdown",
      "metadata": {
        "id": "JztLmOxgsvd6"
      },
      "source": [
        "<b> Some fun . Zen of Python</b>"
      ]
    },
    {
      "cell_type": "code",
      "execution_count": null,
      "metadata": {
        "id": "okZmEslDsvd7"
      },
      "outputs": [],
      "source": [
        "import this\n"
      ]
    },
    {
      "cell_type": "code",
      "execution_count": null,
      "metadata": {
        "id": "7MJnv0yesvd7",
        "outputId": "757a3b8c-ed53-4825-afac-df94efd03cd7"
      },
      "outputs": [
        {
          "name": "stdout",
          "output_type": "stream",
          "text": [
            "Hello world!\n"
          ]
        }
      ],
      "source": [
        "#another python easter egg\n",
        "# Easter egg - an unexpected or undocumented feature in a piece of computer software or on a DVD,\n",
        "#included as a joke or a bonus.\n",
        "\n",
        "\n",
        "import __hello__\n"
      ]
    },
    {
      "cell_type": "markdown",
      "metadata": {
        "id": "ONWPOCcGsvd8"
      },
      "source": [
        "\n",
        "<b> How long does it take to learn Python? </b>\n",
        "From my own experience , 5-6 hours a week study for 5 months would be more than sufficient.\n",
        "Say, roughly 100 hours of effort is good enough to have a good grip on Python.\n",
        "Depends on person to person , how much effort they give to learn a programming language.\n",
        "\n",
        "\n",
        "\n",
        "<b>What Python books are available?</b>\n",
        "\n",
        "https://wiki.python.org/moin/PythonBooks\n",
        "\n",
        "#### Read  more Python FAQs here ####\n",
        "\n",
        "https://docs.python.org/3/faq/general.html#what-is-python\n",
        "\n"
      ]
    },
    {
      "cell_type": "markdown",
      "metadata": {
        "id": "P54jMsPlsvd9"
      },
      "source": [
        "<b>As a beginner , where will I write python program? Where should I start ?</b>\n",
        "\n",
        "We use IDE (Integrated Development Environment) to write codes. As a beginner , you can start with <b>Google Colab or Jupyter</b>. To use Google colab , you need to have a gmail account. That's it. No other setup is required. \n",
        "If you want to use Jupyter Notebooks for python programming then you have to download and install Anaconda distribution and Jupyter in your local machine.  Visit Jupyter.org and https://www.anaconda.com/ to read and follow installation instructions.\n"
      ]
    },
    {
      "cell_type": "markdown",
      "metadata": {
        "id": "amCLiTlWsvd9"
      },
      "source": [
        "<h3>What is Colaboratory?</h3>\n",
        "\n",
        "Colaboratory, or \"Colab\" for short, allows you to write and execute Python in your browser, with \n",
        "- Zero configuration required\n",
        "- Free access to GPUs\n",
        "- Easy sharing\n",
        "\n",
        "Whether you're a **student**, a **data scientist** or an **AI researcher**, Colab can make your work easier. Watch [Introduction to Colab](https://www.youtube.com/watch?v=inN8seMm7UI) to learn more, or just get started below!"
      ]
    },
    {
      "cell_type": "markdown",
      "metadata": {
        "id": "ddQDQgZPsvd-"
      },
      "source": [
        "\n",
        "<b> From where can I learn Python ?</b>\n",
        "\n",
        "Best place to learn Python is the Python documentation itself. \n",
        "For beginners , You can pick any other good website to get started. Just stick to one site/book/course in the beginning. Then check other resources eventually\n",
        "\n",
        "https://www.w3schools.com/python/\n",
        "\n",
        "#### Following are some popular IDE for python programming.\n",
        "\n",
        "* IDLE\n",
        "* PyCharm\n",
        "* Visual Studio Code\n",
        "* Jupyter\n",
        "* Sublime Text\n",
        "* Spyder\n",
        "* Google Colab\n",
        "\n",
        "#### Which python version to use ?\n",
        "\n",
        "Python 3 \n",
        "\n",
        " - 3.10.1 is the latest stable release as on 13-Jan-2021\n",
        " (Note that Python 3.9+ cannot be used on Windows 7 or earlier.)\n"
      ]
    },
    {
      "cell_type": "markdown",
      "metadata": {
        "id": "ldHdh1Vfsvd-"
      },
      "source": [
        "### Let's start some coding\n",
        " \n",
        "(Open a Google colab file or a Jupyter notebook to start writing code)\n"
      ]
    },
    {
      "cell_type": "markdown",
      "metadata": {
        "id": "o9KExIiJsvd-"
      },
      "source": [
        "#### 1. Output"
      ]
    },
    {
      "cell_type": "code",
      "execution_count": null,
      "metadata": {
        "id": "iQ_lYUUUsvd_",
        "outputId": "d89604dc-4ac5-41c7-b922-862cab1676bc"
      },
      "outputs": [
        {
          "name": "stdout",
          "output_type": "stream",
          "text": [
            "Hello World !\n",
            "HI\n",
            "5  is a number  this is good\n"
          ]
        }
      ],
      "source": [
        "print(\"Hello World !\")\n",
        "print(\"HI\")\n",
        "x=5\n",
        "print( x , \" is a number\" , \" this is good\")"
      ]
    },
    {
      "cell_type": "markdown",
      "metadata": {
        "id": "_AUIf36Fsvd_"
      },
      "source": [
        "#### 2. Input and assignment"
      ]
    },
    {
      "cell_type": "code",
      "execution_count": null,
      "metadata": {
        "id": "sgXNT38ysvd_",
        "outputId": "3a277c6d-3ac2-4f83-fcb5-53889abc1e67"
      },
      "outputs": [
        {
          "name": "stdout",
          "output_type": "stream",
          "text": [
            "What is your name ?Lipsa\n"
          ]
        }
      ],
      "source": [
        "name = input(\"What is your name ?\")\n",
        "name =\"Biswas\""
      ]
    },
    {
      "cell_type": "code",
      "execution_count": null,
      "metadata": {
        "id": "l6fME0fksveA",
        "outputId": "4dd78171-6c68-45e0-c930-7183198afb6a"
      },
      "outputs": [
        {
          "name": "stdout",
          "output_type": "stream",
          "text": [
            "Welcome Biswas  !\n"
          ]
        }
      ],
      "source": [
        "print('Welcome', name , \" !\")"
      ]
    },
    {
      "cell_type": "markdown",
      "metadata": {
        "id": "DFrwYHhbsveA"
      },
      "source": [
        "#### 3. Python syntax - Indentation\n",
        "\n",
        "Indentation referes to spaces at the beginning of the code line. In python , indentation is used to show a block of code"
      ]
    },
    {
      "cell_type": "code",
      "execution_count": null,
      "metadata": {
        "id": "kDyjtcqesveA",
        "outputId": "363cfc89-e30a-4a14-b132-594b7f9ba6af"
      },
      "outputs": [
        {
          "name": "stdout",
          "output_type": "stream",
          "text": [
            "wrong!\n"
          ]
        }
      ],
      "source": [
        "\n",
        "def Division(num1,num2):\n",
        "\n",
        "    #write if block\n",
        "    if num2!=0:        \n",
        "        return num1//num2\n",
        "    #else block\n",
        "    else:\n",
        "        print(\"wrong!\")\n",
        "         \n",
        "        \n",
        " \n",
        "        \n",
        " \n",
        "\n",
        "Division(12,0)"
      ]
    },
    {
      "cell_type": "markdown",
      "metadata": {
        "id": "9ktfpIarsveB"
      },
      "source": [
        "#### 4.Comments in python code\n",
        "Comments are provided in  a single line or multiple lines to explain code.\n",
        "\n",
        "Single line comments start with character #\n",
        "\n",
        "Multiline comments can be written within triple quites '''\n",
        "\n",
        "Comments also used to prevent the execution of the code\n",
        "\n",
        "Lets see how commenting is done in Python"
      ]
    },
    {
      "cell_type": "code",
      "execution_count": null,
      "metadata": {
        "id": "h0dW3MN6sveB",
        "outputId": "732b6370-a06a-424e-f046-3f19ca500840"
      },
      "outputs": [
        {
          "ename": "SyntaxError",
          "evalue": "invalid syntax (<ipython-input-16-f6bfcb1f4fff>, line 1)",
          "output_type": "error",
          "traceback": [
            "\u001b[1;36m  File \u001b[1;32m\"<ipython-input-16-f6bfcb1f4fff>\"\u001b[1;36m, line \u001b[1;32m1\u001b[0m\n\u001b[1;33m    assigning 5 to a\u001b[0m\n\u001b[1;37m              ^\u001b[0m\n\u001b[1;31mSyntaxError\u001b[0m\u001b[1;31m:\u001b[0m invalid syntax\n"
          ]
        }
      ],
      "source": [
        "'''\n",
        "sasa\n",
        "asas\n",
        "asas\n",
        "'''\n",
        "a =5\n",
        "# a"
      ]
    },
    {
      "cell_type": "code",
      "execution_count": null,
      "metadata": {
        "id": "FaXF3_JwsveB",
        "outputId": "7bd43bf1-fc68-40db-9f47-bed223620350"
      },
      "outputs": [
        {
          "data": {
            "text/plain": [
              "11"
            ]
          },
          "execution_count": 33,
          "metadata": {},
          "output_type": "execute_result"
        }
      ],
      "source": [
        "# This is a signle line comment\n",
        "# line 1\n",
        "# line 2\n",
        " \n",
        "\n",
        "'''\n",
        "This is how comments that span across multiple \n",
        "lines are written.\n",
        " \n",
        "\n",
        "'''\n",
        "\n",
        "# 3+4\n",
        "5+6\n",
        "\n",
        "#You can also give the # sign before\n",
        "# every line \n",
        "# of a multi line comment"
      ]
    },
    {
      "cell_type": "markdown",
      "metadata": {
        "id": "1qxsQ8vgsveC"
      },
      "source": [
        "#### 5. Variables , Data types, and dynamic typing\n",
        "\n",
        "Variables are containers for storing data values.\n",
        "\n",
        "In python , variables are created when we assign values to them"
      ]
    },
    {
      "cell_type": "code",
      "execution_count": null,
      "metadata": {
        "id": "07wynZxDsveC",
        "outputId": "5677e8ae-4320-4e4d-9235-3715ca0b30d1"
      },
      "outputs": [
        {
          "name": "stdout",
          "output_type": "stream",
          "text": [
            "<class 'str'>\n"
          ]
        }
      ],
      "source": [
        "i =\"4.8\"\n",
        "print(type(i))"
      ]
    },
    {
      "cell_type": "code",
      "execution_count": null,
      "metadata": {
        "id": "jk9TicHFsveC",
        "outputId": "5848b99c-8e89-4e6e-ac6e-6002a437458c"
      },
      "outputs": [
        {
          "name": "stdout",
          "output_type": "stream",
          "text": [
            "Lipsa <class 'str'>\n"
          ]
        }
      ],
      "source": [
        "x =1.2 #Here x is the variable name and 1.2 is the value of the variable\n",
        "\n",
        "#Now lets print the variable and the type of the variable\n",
        "# print(x, type(x))\n",
        " \n",
        "#Python understood x as an float though we no where mentioned explicitly that x is an float type \n",
        "#variable. Based on the value assigned to x, here it is 1.2 , python understood or interpreted the type \n",
        "# of the variable\n",
        "\n",
        "x1=\"Lipsa\"\n",
        "print(x1, type(x1))"
      ]
    },
    {
      "cell_type": "code",
      "execution_count": null,
      "metadata": {
        "id": "Z7t-PhrLsveD",
        "outputId": "68fb6a5a-9926-4d05-dc0f-53a87df5d657"
      },
      "outputs": [
        {
          "name": "stdout",
          "output_type": "stream",
          "text": [
            "This is beautiful <class 'str'>\n",
            "This is too <class 'str'>\n"
          ]
        }
      ],
      "source": [
        "#Lets see some more variables and their data types\n",
        "y =\"This is beautiful\"\n",
        "print(y , type(y))\n",
        "\n",
        "#You can write strings within single or double quotes\n",
        "y1= 'This is too'\n",
        "\n",
        "print(y1 , type(y1))"
      ]
    },
    {
      "cell_type": "code",
      "execution_count": null,
      "metadata": {
        "id": "YVrR3v-SsveD",
        "outputId": "ccf2c2ef-ebd8-481a-d8b3-ce0076f85997"
      },
      "outputs": [
        {
          "name": "stdout",
          "output_type": "stream",
          "text": [
            "[1, 2, 3] <class 'list'>\n"
          ]
        }
      ],
      "source": [
        "l1 = [1,2,3]\n",
        "print(l1 , type(l1))"
      ]
    },
    {
      "cell_type": "code",
      "execution_count": null,
      "metadata": {
        "id": "xiKZocMzsveD",
        "outputId": "9861ef98-ca93-4676-929d-86d0a76ddb57"
      },
      "outputs": [
        {
          "name": "stdout",
          "output_type": "stream",
          "text": [
            "(2, 3, 4) <class 'tuple'>\n"
          ]
        }
      ],
      "source": [
        "t =(2,3,4)\n",
        "print(t , type(t))"
      ]
    },
    {
      "cell_type": "markdown",
      "metadata": {
        "id": "nuM1HuV9sveE"
      },
      "source": [
        "Task : Now , you may want to know what other basic data types are available in Python. How will you find about it?\n",
        "Try. Now , tell what are the differnt types of basic data types available in python.\n",
        "\n",
        "Hint:\n",
        "1. Google it . Ask google \"what are the basic data types available in python\"\n",
        "2. Go to official document of Python (python.org). Check the index or use the search textbox to find out about the types of variables in python"
      ]
    },
    {
      "cell_type": "code",
      "execution_count": null,
      "metadata": {
        "id": "PmFmVx6NsveE",
        "outputId": "c31a5db1-17af-48ce-ccba-3ec06071e189"
      },
      "outputs": [
        {
          "name": "stdout",
          "output_type": "stream",
          "text": [
            "3 2 1\n"
          ]
        }
      ],
      "source": [
        "a = 2\n",
        "\n",
        "def fun():\n",
        "    \n",
        "    return 1, 2, 3\n",
        "\n",
        "a,b,c = fun()\n",
        "\n",
        "print(c,b, a)\n",
        "\n"
      ]
    },
    {
      "cell_type": "markdown",
      "metadata": {
        "id": "8Oui706LsveE"
      },
      "source": [
        "#### Assign many values to many variables"
      ]
    },
    {
      "cell_type": "code",
      "execution_count": null,
      "metadata": {
        "id": "HE61Bk6osveE",
        "outputId": "550a54ce-cd2a-4985-dd2a-faa57834fa1e"
      },
      "outputs": [
        {
          "name": "stdout",
          "output_type": "stream",
          "text": [
            "lipsa ds\n"
          ]
        }
      ],
      "source": [
        "x,y,z = 1,2,3\n",
        "username,field = \"lipsa\",\"ds\"\n",
        "print(username , field)"
      ]
    },
    {
      "cell_type": "code",
      "execution_count": null,
      "metadata": {
        "id": "Npfj-H1HsveF",
        "outputId": "789074a7-e112-4d0f-daaf-2b724e01fa3b"
      },
      "outputs": [
        {
          "name": "stdout",
          "output_type": "stream",
          "text": [
            "3 flower 4.5\n"
          ]
        }
      ],
      "source": [
        "p,q,r = 3, \"flower\" , 4.5\n",
        "print(p,q,r)"
      ]
    },
    {
      "cell_type": "markdown",
      "metadata": {
        "id": "kOc6dKtRsveF"
      },
      "source": [
        "Task - Try assigning one value to multiple variable. See if it works by printing all variables\n",
        "\n",
        "Hint : a=b=c=4 is a valid syntax"
      ]
    },
    {
      "cell_type": "markdown",
      "metadata": {
        "id": "shTIuG15sveF"
      },
      "source": [
        "### 6. Dir()\n",
        "Simply speaking ,   dir() function returns all properties and methods of the specified object, without the values."
      ]
    },
    {
      "cell_type": "code",
      "execution_count": null,
      "metadata": {
        "id": "97b_jIyRsveF",
        "outputId": "f466ae76-86e3-4f8e-ee7c-a88b503facf3"
      },
      "outputs": [
        {
          "name": "stdout",
          "output_type": "stream",
          "text": [
            "<class 'str'>\n"
          ]
        },
        {
          "data": {
            "text/plain": [
              "['__add__',\n",
              " '__class__',\n",
              " '__contains__',\n",
              " '__delattr__',\n",
              " '__dir__',\n",
              " '__doc__',\n",
              " '__eq__',\n",
              " '__format__',\n",
              " '__ge__',\n",
              " '__getattribute__',\n",
              " '__getitem__',\n",
              " '__getnewargs__',\n",
              " '__gt__',\n",
              " '__hash__',\n",
              " '__init__',\n",
              " '__init_subclass__',\n",
              " '__iter__',\n",
              " '__le__',\n",
              " '__len__',\n",
              " '__lt__',\n",
              " '__mod__',\n",
              " '__mul__',\n",
              " '__ne__',\n",
              " '__new__',\n",
              " '__reduce__',\n",
              " '__reduce_ex__',\n",
              " '__repr__',\n",
              " '__rmod__',\n",
              " '__rmul__',\n",
              " '__setattr__',\n",
              " '__sizeof__',\n",
              " '__str__',\n",
              " '__subclasshook__',\n",
              " 'capitalize',\n",
              " 'casefold',\n",
              " 'center',\n",
              " 'count',\n",
              " 'encode',\n",
              " 'endswith',\n",
              " 'expandtabs',\n",
              " 'find',\n",
              " 'format',\n",
              " 'format_map',\n",
              " 'index',\n",
              " 'isalnum',\n",
              " 'isalpha',\n",
              " 'isascii',\n",
              " 'isdecimal',\n",
              " 'isdigit',\n",
              " 'isidentifier',\n",
              " 'islower',\n",
              " 'isnumeric',\n",
              " 'isprintable',\n",
              " 'isspace',\n",
              " 'istitle',\n",
              " 'isupper',\n",
              " 'join',\n",
              " 'ljust',\n",
              " 'lower',\n",
              " 'lstrip',\n",
              " 'maketrans',\n",
              " 'partition',\n",
              " 'replace',\n",
              " 'rfind',\n",
              " 'rindex',\n",
              " 'rjust',\n",
              " 'rpartition',\n",
              " 'rsplit',\n",
              " 'rstrip',\n",
              " 'split',\n",
              " 'splitlines',\n",
              " 'startswith',\n",
              " 'strip',\n",
              " 'swapcase',\n",
              " 'title',\n",
              " 'translate',\n",
              " 'upper',\n",
              " 'zfill']"
            ]
          },
          "execution_count": 27,
          "metadata": {},
          "output_type": "execute_result"
        }
      ],
      "source": [
        "statement=\"Today is Monday\"\n",
        "print(type(statement))\n",
        "#Here statement is a string type variable. Lets see what happens when we pass s to dir()\n",
        "dir(statement)"
      ]
    },
    {
      "cell_type": "code",
      "execution_count": null,
      "metadata": {
        "id": "J2zs_KBasveG",
        "outputId": "a22ddc11-cedd-4f09-dd81-3a9613892d45"
      },
      "outputs": [
        {
          "name": "stdout",
          "output_type": "stream",
          "text": [
            " THIS IS A FLOWER. \n",
            " this is a flower. \n",
            "This is a flower.\n",
            " tHIS IS A FLOWER. \n"
          ]
        }
      ],
      "source": [
        "#Lets try few methods available for string manipulation\n",
        "statement=\" This is a flower. \"\n",
        "print(statement.upper())\n",
        "\n",
        "print(statement.lower())\n",
        "\n",
        "\n",
        "print(statement.strip())\n",
        "# spaces from the beginning and the end are stripped\n",
        "print(statement.swapcase()) #Uppercase letter becomes lower case and vice-versa\n",
        "\n",
        "#This is how you can explore differnet objects and their methods/attributes in python"
      ]
    },
    {
      "cell_type": "markdown",
      "metadata": {
        "id": "8hQpVtHJsveG"
      },
      "source": [
        "In the above output for dir() , you see something like 'zfill' . Do you know the use of it? No?\n",
        "Then how would you find about the usage of zfill\n"
      ]
    },
    {
      "cell_type": "markdown",
      "metadata": {
        "id": "eHTwK4QNsveG"
      },
      "source": [
        "### 7. help()"
      ]
    },
    {
      "cell_type": "code",
      "execution_count": null,
      "metadata": {
        "id": "xYvC9qWpsveG",
        "outputId": "7e1697d2-bf3d-45f9-cd29-b0e137982c06"
      },
      "outputs": [
        {
          "name": "stdout",
          "output_type": "stream",
          "text": [
            "Help on built-in function zfill:\n",
            "\n",
            "zfill(width, /) method of builtins.str instance\n",
            "    Pad a numeric string with zeros on the left, to fill a field of the given width.\n",
            "    \n",
            "    The string is never truncated.\n",
            "\n"
          ]
        }
      ],
      "source": [
        "s=\"rice\"\n",
        "# print(type(s))\n",
        "help(s.zfill)"
      ]
    },
    {
      "cell_type": "code",
      "execution_count": null,
      "metadata": {
        "id": "VDCJWPsXsveG",
        "outputId": "6cdf4727-cb7e-4f6b-a1c4-8285efe3affe"
      },
      "outputs": [
        {
          "data": {
            "text/plain": [
              "'000rice'"
            ]
          },
          "execution_count": 31,
          "metadata": {},
          "output_type": "execute_result"
        }
      ],
      "source": [
        "s.zfill(7,)\n"
      ]
    },
    {
      "cell_type": "markdown",
      "metadata": {
        "id": "0kCUFYj2sveH"
      },
      "source": [
        "### 8. Operators in python\n",
        "\n",
        "Operators are used to perform operations on variables and values.\n",
        "\n"
      ]
    },
    {
      "cell_type": "markdown",
      "metadata": {
        "id": "ghRHUhbJsveH"
      },
      "source": [
        "* Arithmetic operators\n",
        "* Assignment operators\n",
        "* Comparison operators\n",
        "* Logical operators\n",
        "* Identity operators\n",
        "* Membership operators\n",
        "* Bitwise operators\n"
      ]
    },
    {
      "cell_type": "code",
      "execution_count": null,
      "metadata": {
        "id": "o0_yRVTxsveH",
        "outputId": "10bcca37-5647-4ebb-d532-6a0b31c83a10"
      },
      "outputs": [
        {
          "name": "stdout",
          "output_type": "stream",
          "text": [
            "7\n"
          ]
        }
      ],
      "source": [
        "print(3+4)"
      ]
    },
    {
      "cell_type": "code",
      "execution_count": null,
      "metadata": {
        "id": "1Jdrk9bYsveH",
        "outputId": "7dbb269b-9e90-41bc-a013-0085bead7b9a"
      },
      "outputs": [
        {
          "data": {
            "text/plain": [
              "7"
            ]
          },
          "execution_count": 33,
          "metadata": {},
          "output_type": "execute_result"
        }
      ],
      "source": [
        "3+4\n"
      ]
    },
    {
      "cell_type": "code",
      "execution_count": null,
      "metadata": {
        "id": "pk2CderbsveH",
        "outputId": "6510d1b7-95a3-4b61-dc29-aff69fccf9bf"
      },
      "outputs": [
        {
          "name": "stdout",
          "output_type": "stream",
          "text": [
            "1\n"
          ]
        }
      ],
      "source": [
        "print(4-3)"
      ]
    },
    {
      "cell_type": "code",
      "execution_count": null,
      "metadata": {
        "id": "a-gZzF4esveI",
        "outputId": "75aa03cb-27c8-487a-bb4b-61054c7f3246"
      },
      "outputs": [
        {
          "name": "stdout",
          "output_type": "stream",
          "text": [
            "12\n"
          ]
        }
      ],
      "source": [
        "#Multiplication\n",
        "print(3*4)"
      ]
    },
    {
      "cell_type": "code",
      "execution_count": null,
      "metadata": {
        "id": "eTmmFLLwsveI",
        "outputId": "dd7a6c10-5827-476b-a5bb-3156d5854761"
      },
      "outputs": [
        {
          "name": "stdout",
          "output_type": "stream",
          "text": [
            "8\n",
            "16\n"
          ]
        }
      ],
      "source": [
        "#Exponentiation\n",
        "print(2**3)\n",
        "print(4**2)"
      ]
    },
    {
      "cell_type": "code",
      "execution_count": null,
      "metadata": {
        "id": "XwdD6xVtsveI",
        "outputId": "a375ca57-d4c5-4553-8ef7-c474531f1413"
      },
      "outputs": [
        {
          "name": "stdout",
          "output_type": "stream",
          "text": [
            "1\n",
            "1\n"
          ]
        }
      ],
      "source": [
        "#Floor division\n",
        "#Floor division is an operation in Python that divides two numbers and rounds the result down to the nearest integer.\n",
        "\n",
        "print(4//3) #1\n",
        "print(5//3)"
      ]
    },
    {
      "cell_type": "code",
      "execution_count": null,
      "metadata": {
        "id": "R9O05ftTsveI",
        "outputId": "cd2b3bcc-9ee3-4087-b877-92ff0d42e057"
      },
      "outputs": [
        {
          "name": "stdout",
          "output_type": "stream",
          "text": [
            "1\n"
          ]
        }
      ],
      "source": [
        "#Modulus\n",
        "# finds the remainder or signed remainder after the division of one number by another\n",
        "print(9%2)"
      ]
    },
    {
      "cell_type": "code",
      "execution_count": null,
      "metadata": {
        "id": "boy6BqpxsveI",
        "outputId": "258ed60f-946d-4a8e-b68e-b7eadb295c0e"
      },
      "outputs": [
        {
          "data": {
            "text/plain": [
              "1"
            ]
          },
          "execution_count": 10,
          "metadata": {},
          "output_type": "execute_result"
        }
      ],
      "source": [
        "((500//7) % 5) ** 3\n",
        "# print(500//7) #71\n",
        "# print()"
      ]
    },
    {
      "cell_type": "markdown",
      "metadata": {
        "id": "loHXh74VsveJ"
      },
      "source": [
        "![image.png](attachment:image.png)"
      ]
    },
    {
      "cell_type": "markdown",
      "metadata": {
        "id": "Aip57d_2sveJ"
      },
      "source": [
        "Task - Write an example for modulus operator"
      ]
    },
    {
      "cell_type": "code",
      "execution_count": null,
      "metadata": {
        "id": "gW3MTZHgsveJ",
        "outputId": "64d4928f-de07-4daf-f3c2-0bd8efe96f2f"
      },
      "outputs": [
        {
          "data": {
            "text/plain": [
              "0"
            ]
          },
          "execution_count": 35,
          "metadata": {},
          "output_type": "execute_result"
        }
      ],
      "source": [
        "#Assignment operator\n",
        "# x=5\n",
        "\n",
        "20%5"
      ]
    },
    {
      "cell_type": "code",
      "execution_count": null,
      "metadata": {
        "id": "JSLtnhMXsveJ",
        "outputId": "957aba8c-6ec5-458c-8552-af958070aec3"
      },
      "outputs": [
        {
          "name": "stdout",
          "output_type": "stream",
          "text": [
            "Operator precedence\n",
            "*******************\n",
            "\n",
            "The following table summarizes the operator precedence in Python, from\n",
            "lowest precedence (least binding) to highest precedence (most\n",
            "binding).  Operators in the same box have the same precedence.  Unless\n",
            "the syntax is explicitly given, operators are binary.  Operators in\n",
            "the same box group left to right (except for exponentiation, which\n",
            "groups from right to left).\n",
            "\n",
            "Note that comparisons, membership tests, and identity tests, all have\n",
            "the same precedence and have a left-to-right chaining feature as\n",
            "described in the Comparisons section.\n",
            "\n",
            "+-------------------------------------------------+---------------------------------------+\n",
            "| Operator                                        | Description                           |\n",
            "|=================================================|=======================================|\n",
            "| \"lambda\"                                        | Lambda expression                     |\n",
            "+-------------------------------------------------+---------------------------------------+\n",
            "| \"if\" – \"else\"                                   | Conditional expression                |\n",
            "+-------------------------------------------------+---------------------------------------+\n",
            "| \"or\"                                            | Boolean OR                            |\n",
            "+-------------------------------------------------+---------------------------------------+\n",
            "| \"and\"                                           | Boolean AND                           |\n",
            "+-------------------------------------------------+---------------------------------------+\n",
            "| \"not\" \"x\"                                       | Boolean NOT                           |\n",
            "+-------------------------------------------------+---------------------------------------+\n",
            "| \"in\", \"not in\", \"is\", \"is not\", \"<\", \"<=\", \">\", | Comparisons, including membership     |\n",
            "| \">=\", \"!=\", \"==\"                                | tests and identity tests              |\n",
            "+-------------------------------------------------+---------------------------------------+\n",
            "| \"|\"                                             | Bitwise OR                            |\n",
            "+-------------------------------------------------+---------------------------------------+\n",
            "| \"^\"                                             | Bitwise XOR                           |\n",
            "+-------------------------------------------------+---------------------------------------+\n",
            "| \"&\"                                             | Bitwise AND                           |\n",
            "+-------------------------------------------------+---------------------------------------+\n",
            "| \"<<\", \">>\"                                      | Shifts                                |\n",
            "+-------------------------------------------------+---------------------------------------+\n",
            "| \"+\", \"-\"                                        | Addition and subtraction              |\n",
            "+-------------------------------------------------+---------------------------------------+\n",
            "| \"*\", \"@\", \"/\", \"//\", \"%\"                        | Multiplication, matrix                |\n",
            "|                                                 | multiplication, division, floor       |\n",
            "|                                                 | division, remainder [5]               |\n",
            "+-------------------------------------------------+---------------------------------------+\n",
            "| \"+x\", \"-x\", \"~x\"                                | Positive, negative, bitwise NOT       |\n",
            "+-------------------------------------------------+---------------------------------------+\n",
            "| \"**\"                                            | Exponentiation [6]                    |\n",
            "+-------------------------------------------------+---------------------------------------+\n",
            "| \"await\" \"x\"                                     | Await expression                      |\n",
            "+-------------------------------------------------+---------------------------------------+\n",
            "| \"x[index]\", \"x[index:index]\",                   | Subscription, slicing, call,          |\n",
            "| \"x(arguments...)\", \"x.attribute\"                | attribute reference                   |\n",
            "+-------------------------------------------------+---------------------------------------+\n",
            "| \"(expressions...)\",  \"[expressions...]\", \"{key: | Binding or parenthesized expression,  |\n",
            "| value...}\", \"{expressions...}\"                  | list display, dictionary display, set |\n",
            "|                                                 | display                               |\n",
            "+-------------------------------------------------+---------------------------------------+\n",
            "\n",
            "-[ Footnotes ]-\n",
            "\n",
            "[1] While \"abs(x%y) < abs(y)\" is true mathematically, for floats\n",
            "    it may not be true numerically due to roundoff.  For example, and\n",
            "    assuming a platform on which a Python float is an IEEE 754 double-\n",
            "    precision number, in order that \"-1e-100 % 1e100\" have the same\n",
            "    sign as \"1e100\", the computed result is \"-1e-100 + 1e100\", which\n",
            "    is numerically exactly equal to \"1e100\".  The function\n",
            "    \"math.fmod()\" returns a result whose sign matches the sign of the\n",
            "    first argument instead, and so returns \"-1e-100\" in this case.\n",
            "    Which approach is more appropriate depends on the application.\n",
            "\n",
            "[2] If x is very close to an exact integer multiple of y, it’s\n",
            "    possible for \"x//y\" to be one larger than \"(x-x%y)//y\" due to\n",
            "    rounding.  In such cases, Python returns the latter result, in\n",
            "    order to preserve that \"divmod(x,y)[0] * y + x % y\" be very close\n",
            "    to \"x\".\n",
            "\n",
            "[3] The Unicode standard distinguishes between *code points* (e.g.\n",
            "    U+0041) and *abstract characters* (e.g. “LATIN CAPITAL LETTER A”).\n",
            "    While most abstract characters in Unicode are only represented\n",
            "    using one code point, there is a number of abstract characters\n",
            "    that can in addition be represented using a sequence of more than\n",
            "    one code point.  For example, the abstract character “LATIN\n",
            "    CAPITAL LETTER C WITH CEDILLA” can be represented as a single\n",
            "    *precomposed character* at code position U+00C7, or as a sequence\n",
            "    of a *base character* at code position U+0043 (LATIN CAPITAL\n",
            "    LETTER C), followed by a *combining character* at code position\n",
            "    U+0327 (COMBINING CEDILLA).\n",
            "\n",
            "    The comparison operators on strings compare at the level of\n",
            "    Unicode code points. This may be counter-intuitive to humans.  For\n",
            "    example, \"\"\\u00C7\" == \"\\u0043\\u0327\"\" is \"False\", even though both\n",
            "    strings represent the same abstract character “LATIN CAPITAL\n",
            "    LETTER C WITH CEDILLA”.\n",
            "\n",
            "    To compare strings at the level of abstract characters (that is,\n",
            "    in a way intuitive to humans), use \"unicodedata.normalize()\".\n",
            "\n",
            "[4] Due to automatic garbage-collection, free lists, and the\n",
            "    dynamic nature of descriptors, you may notice seemingly unusual\n",
            "    behaviour in certain uses of the \"is\" operator, like those\n",
            "    involving comparisons between instance methods, or constants.\n",
            "    Check their documentation for more info.\n",
            "\n",
            "[5] The \"%\" operator is also used for string formatting; the same\n",
            "    precedence applies.\n",
            "\n",
            "[6] The power operator \"**\" binds less tightly than an arithmetic\n",
            "    or bitwise unary operator on its right, that is, \"2**-1\" is \"0.5\".\n",
            "\n",
            "Related help topics: lambda, or, and, not, in, is, BOOLEAN, COMPARISON,\n",
            "BITWISE, SHIFTING, BINARY, FORMATTING, POWER, UNARY, ATTRIBUTES,\n",
            "SUBSCRIPTS, SLICINGS, CALLS, TUPLES, LISTS, DICTIONARIES, FORMATTING\n",
            "\n"
          ]
        }
      ],
      "source": [
        "help('%')"
      ]
    },
    {
      "cell_type": "markdown",
      "metadata": {
        "id": "yPOd86L8sveJ"
      },
      "source": [
        "Task : Explore all operators mentioned above"
      ]
    },
    {
      "cell_type": "markdown",
      "metadata": {
        "id": "pM-TWTipsveK"
      },
      "source": [
        "#### Conditional expressions"
      ]
    },
    {
      "cell_type": "markdown",
      "metadata": {
        "id": "bW75XKT6sveK"
      },
      "source": [
        "[on_true] if [expression] else [on_false] \n",
        "\n",
        "Read it like this :\n",
        "if [expression] is true , do the [on_true] part , else do the [on_false] part\n"
      ]
    },
    {
      "cell_type": "markdown",
      "metadata": {
        "id": "Z4hrqmYZsveK"
      },
      "source": [
        "<b>x = true_value if condition else false_value</b>\n",
        "\n",
        "The condition expression in the middle is evaluated first,\n",
        "\n",
        "and the true_value expression is evaluated only if the condition was true.\n",
        "\n",
        "Similarly, the false_value expression is only evaluated when the condition is false.\n"
      ]
    },
    {
      "cell_type": "code",
      "execution_count": null,
      "metadata": {
        "id": "R4QqyCOLsveK",
        "outputId": "84077ed1-64d5-4f7a-e32c-d9c6a0f9717f"
      },
      "outputs": [
        {
          "name": "stdout",
          "output_type": "stream",
          "text": [
            "b is min\n"
          ]
        }
      ],
      "source": [
        "a=100\n",
        "b=20\n",
        "if a<b:\n",
        "    print(\"a is min\")\n",
        "else:\n",
        "    print(\"b is min\")"
      ]
    },
    {
      "cell_type": "code",
      "execution_count": null,
      "metadata": {
        "id": "9XmpqfphsveK",
        "outputId": "af98fa5b-a9e7-4db6-df97-b9e2e0d96d52"
      },
      "outputs": [
        {
          "name": "stdout",
          "output_type": "stream",
          "text": [
            "300\n"
          ]
        }
      ],
      "source": [
        "a=600\n",
        "b=300\n",
        "\n",
        "\n",
        "min_val = a if a <b else b\n",
        "\n",
        "\n",
        "print(min_val)"
      ]
    },
    {
      "cell_type": "markdown",
      "metadata": {
        "id": "z_Gjk8sXsveL"
      },
      "source": [
        "A conditional expression lets you write a single assignment statement that has the same effect as the above code\n",
        " \n"
      ]
    },
    {
      "cell_type": "code",
      "execution_count": null,
      "metadata": {
        "id": "C4fu89q4sveL",
        "outputId": "785c72b6-25f3-44f0-e0d7-09cf08e58ad6"
      },
      "outputs": [
        {
          "name": "stdout",
          "output_type": "stream",
          "text": [
            "a is min\n"
          ]
        }
      ],
      "source": [
        "#Task- Given two numbers a and b , print a statement \"a is min\" when a<b or print \"b is min\" when a>b\n",
        "a=100\n",
        "b=200\n",
        "print(\"a is min\")  if a < b else print(\"b is min\")"
      ]
    },
    {
      "cell_type": "markdown",
      "metadata": {
        "id": "SMS6is3bsveL"
      },
      "source": [
        "Task : Try using conditional expression to divide a by b when a > b and divide b by a when b>a \n",
        "\n",
        "Hint 1 : division operator is // ( a//b)\n",
        "\n",
        "Hint 2: if condition could be a>b\n",
        "\n",
        "Hint 3: [on_true] part a//b"
      ]
    },
    {
      "cell_type": "markdown",
      "metadata": {
        "id": "sWk--oBpsveL"
      },
      "source": [
        "### 9.  Python collections\n"
      ]
    },
    {
      "cell_type": "markdown",
      "metadata": {
        "id": "rB9JV30ksveL"
      },
      "source": [
        "Say , you come across an object like below in a python script. How would you know the type of the object?\n",
        "How would you explore the attributes and methods associated with that object ?\n",
        "\n",
        "L1=[1,2,3]\n",
        "\n",
        "Now you want to create a new list out of the above list L1 . The new list L2 will be [3,2,1] , then which function of that object  may help ? Could you create a new list L2?"
      ]
    },
    {
      "cell_type": "code",
      "execution_count": null,
      "metadata": {
        "id": "AYUiLgKzsveM",
        "outputId": "226ce2f6-3c7b-4c83-c73f-e4a147b762a2"
      },
      "outputs": [
        {
          "name": "stdout",
          "output_type": "stream",
          "text": [
            "<class 'list'>\n"
          ]
        },
        {
          "data": {
            "text/plain": [
              "['__add__',\n",
              " '__class__',\n",
              " '__contains__',\n",
              " '__delattr__',\n",
              " '__delitem__',\n",
              " '__dir__',\n",
              " '__doc__',\n",
              " '__eq__',\n",
              " '__format__',\n",
              " '__ge__',\n",
              " '__getattribute__',\n",
              " '__getitem__',\n",
              " '__gt__',\n",
              " '__hash__',\n",
              " '__iadd__',\n",
              " '__imul__',\n",
              " '__init__',\n",
              " '__init_subclass__',\n",
              " '__iter__',\n",
              " '__le__',\n",
              " '__len__',\n",
              " '__lt__',\n",
              " '__mul__',\n",
              " '__ne__',\n",
              " '__new__',\n",
              " '__reduce__',\n",
              " '__reduce_ex__',\n",
              " '__repr__',\n",
              " '__reversed__',\n",
              " '__rmul__',\n",
              " '__setattr__',\n",
              " '__setitem__',\n",
              " '__sizeof__',\n",
              " '__str__',\n",
              " '__subclasshook__',\n",
              " 'append',\n",
              " 'clear',\n",
              " 'copy',\n",
              " 'count',\n",
              " 'extend',\n",
              " 'index',\n",
              " 'insert',\n",
              " 'pop',\n",
              " 'remove',\n",
              " 'reverse',\n",
              " 'sort']"
            ]
          },
          "execution_count": 43,
          "metadata": {},
          "output_type": "execute_result"
        }
      ],
      "source": [
        "L1=[1,2,3]\n",
        "print(type(L1))\n",
        "\n",
        "dir(L1)\n",
        "\n",
        " "
      ]
    },
    {
      "cell_type": "code",
      "execution_count": null,
      "metadata": {
        "id": "hQRhiE7TsveM",
        "outputId": "cef5da63-47bf-4f18-b633-5eb11d7fd6ee"
      },
      "outputs": [
        {
          "name": "stdout",
          "output_type": "stream",
          "text": [
            "L2 None\n"
          ]
        }
      ],
      "source": [
        "L1=[4,5,6]\n",
        "# print(L1)\n",
        "L2=(L1.reverse())\n",
        "print(\"L2\",L2)\n",
        "# print(\"L1\",L1)"
      ]
    },
    {
      "cell_type": "markdown",
      "metadata": {
        "id": "oxkczmFcsveM"
      },
      "source": [
        "* List\n",
        "* Tuple\n",
        "* Set\n",
        "* Dictionary"
      ]
    },
    {
      "cell_type": "markdown",
      "metadata": {
        "id": "TroayO5ZsveM"
      },
      "source": [
        "### 10. If-Else , For loop , While loop"
      ]
    },
    {
      "cell_type": "markdown",
      "metadata": {
        "id": "-4prEufssveM"
      },
      "source": [
        "#### If-Else"
      ]
    },
    {
      "cell_type": "code",
      "execution_count": null,
      "metadata": {
        "id": "gFdcXKjEsveN",
        "outputId": "e11cee27-e86f-4812-e38e-dbfde91ff48a"
      },
      "outputs": [
        {
          "name": "stdout",
          "output_type": "stream",
          "text": [
            "b is greater than a\n"
          ]
        }
      ],
      "source": [
        "a = 4\n",
        "b = 14\n",
        "if b > a:\n",
        "      print(\"b is greater than a\")\n",
        " \n",
        "elif a == b:\n",
        "      print(\"a and b are equal\")"
      ]
    },
    {
      "cell_type": "markdown",
      "metadata": {
        "id": "7y7pd5VmsveN"
      },
      "source": [
        "#### If-elif-else"
      ]
    },
    {
      "cell_type": "code",
      "execution_count": null,
      "metadata": {
        "id": "udfiKgirsveN",
        "outputId": "38370790-a013-4643-ae83-3cad78aac34b"
      },
      "outputs": [
        {
          "name": "stdout",
          "output_type": "stream",
          "text": [
            "a is greater than b\n"
          ]
        }
      ],
      "source": [
        "a = 100\n",
        "b = 10\n",
        "\n",
        "if b > a:\n",
        "    print(\"b is greater than a\")\n",
        "elif a == b:\n",
        "    print(\"a and b are equal\")\n",
        "else:\n",
        "    print(\"a is greater than b\")"
      ]
    },
    {
      "cell_type": "markdown",
      "metadata": {
        "id": "oCUhp84JsveN"
      },
      "source": [
        "Task: \n",
        "1.Explore short hand expression for if-else in Python. Write above piece of code using short hand expression\n",
        "\n",
        "2.Explore 'AND' , 'OR' operators that can be used in expressions\n"
      ]
    },
    {
      "cell_type": "markdown",
      "metadata": {
        "id": "3PCqTVGQsveN"
      },
      "source": [
        "#### For loop\n",
        "\n",
        "For loop is a built-in enumerate function"
      ]
    },
    {
      "cell_type": "code",
      "execution_count": null,
      "metadata": {
        "id": "2WT4ORGjsveO",
        "outputId": "791e8677-3bae-4df6-d732-52519d8a2ef5"
      },
      "outputs": [
        {
          "name": "stdout",
          "output_type": "stream",
          "text": [
            "Fruit name is - Mango\n",
            "Fruit name is - Guava\n",
            "Fruit name is - Banana\n"
          ]
        }
      ],
      "source": [
        "#Task - \n",
        "#Create a list of fruits names. \n",
        "#Loop through each item of the list . \n",
        "#Print fruit name\n",
        "\n",
        "fruits =['Mango', 'Guava', 'Banana']\n",
        "\n",
        "for f111 in fruits:\n",
        "    print(\"Fruit name is -\" , f111)"
      ]
    },
    {
      "cell_type": "markdown",
      "metadata": {
        "id": "WpXbjQ6TsveO"
      },
      "source": [
        "Task - Here we have only printed the fruit name. How to print the position of the fruit in the list ? say ,\n",
        "\n",
        "Fruit Mango position is 0\n",
        "\n",
        "Hint 1: Explore enumerate function\n",
        "\n",
        "Hint 2:\n",
        "for i,fruit in enumerate(fruits):\n",
        "    #write code here\n"
      ]
    },
    {
      "cell_type": "markdown",
      "metadata": {
        "id": "f_PenIyAsveO"
      },
      "source": [
        "### While loop"
      ]
    },
    {
      "cell_type": "code",
      "execution_count": null,
      "metadata": {
        "id": "2Kf9bxo2sveO",
        "outputId": "18da885d-e5d7-408e-fbd6-e964ebdf50c7"
      },
      "outputs": [
        {
          "name": "stdout",
          "output_type": "stream",
          "text": [
            "1\n",
            "2\n",
            "3\n",
            "4\n",
            "5\n"
          ]
        }
      ],
      "source": [
        "i = 1\n",
        "while i < 6:\n",
        "  print(i)\n",
        "  i += 1"
      ]
    },
    {
      "cell_type": "code",
      "execution_count": null,
      "metadata": {
        "id": "J7OtcwgKsveO",
        "outputId": "d29e0084-1ce4-4ed7-d8ea-433b236666c1"
      },
      "outputs": [
        {
          "name": "stdout",
          "output_type": "stream",
          "text": [
            "1\n",
            "2\n",
            "3\n"
          ]
        }
      ],
      "source": [
        "i = 1\n",
        "while i < 6:\n",
        "  print(i)\n",
        "  if (i == 3):\n",
        "    break\n",
        "  i += 1"
      ]
    },
    {
      "cell_type": "markdown",
      "metadata": {
        "id": "6AxVIiphsveP"
      },
      "source": [
        "Task:\n",
        "1. Explore 'continue' statement and write a small piece of code using continue statement in while loop\n",
        "2. Write a code using 'break' statement in a for loop.\n",
        "\n"
      ]
    },
    {
      "cell_type": "markdown",
      "metadata": {
        "id": "VAJ-Fgg0sveP"
      },
      "source": [
        "### 11. Functions"
      ]
    },
    {
      "cell_type": "code",
      "execution_count": null,
      "metadata": {
        "id": "6WGzRtSTsveP"
      },
      "outputs": [],
      "source": [
        "def AddNumbers(x,y=5):\n",
        "    \n",
        "    '''\n",
        "    AddNumbers function takes two numbers and returns their sum\n",
        "    \n",
        "    arg:\n",
        "        x: its an integer number\n",
        "        y: its an interger number\n",
        "        \n",
        "    returns:\n",
        "        sum of x and y\n",
        "    \n",
        "    '''\n",
        "    a = x+y\n",
        "    return a"
      ]
    },
    {
      "cell_type": "code",
      "execution_count": null,
      "metadata": {
        "id": "0y6W-KaSsveP",
        "outputId": "0baa5c1f-3b7f-4b71-ffff-7f358d739cf3"
      },
      "outputs": [
        {
          "data": {
            "text/plain": [
              "77"
            ]
          },
          "execution_count": 57,
          "metadata": {},
          "output_type": "execute_result"
        }
      ],
      "source": [
        "AddNumbers(13,64)"
      ]
    },
    {
      "cell_type": "code",
      "execution_count": null,
      "metadata": {
        "id": "yqeBfq3SsveP",
        "outputId": "771b5fe9-7503-4b3f-9ec6-e05770f6d69e"
      },
      "outputs": [
        {
          "data": {
            "text/plain": [
              "['__annotations__',\n",
              " '__call__',\n",
              " '__class__',\n",
              " '__closure__',\n",
              " '__code__',\n",
              " '__defaults__',\n",
              " '__delattr__',\n",
              " '__dict__',\n",
              " '__dir__',\n",
              " '__doc__',\n",
              " '__eq__',\n",
              " '__format__',\n",
              " '__ge__',\n",
              " '__get__',\n",
              " '__getattribute__',\n",
              " '__globals__',\n",
              " '__gt__',\n",
              " '__hash__',\n",
              " '__init__',\n",
              " '__init_subclass__',\n",
              " '__kwdefaults__',\n",
              " '__le__',\n",
              " '__lt__',\n",
              " '__module__',\n",
              " '__name__',\n",
              " '__ne__',\n",
              " '__new__',\n",
              " '__qualname__',\n",
              " '__reduce__',\n",
              " '__reduce_ex__',\n",
              " '__repr__',\n",
              " '__setattr__',\n",
              " '__sizeof__',\n",
              " '__str__',\n",
              " '__subclasshook__']"
            ]
          },
          "execution_count": 58,
          "metadata": {},
          "output_type": "execute_result"
        }
      ],
      "source": [
        "dir(AddNumbers)"
      ]
    },
    {
      "cell_type": "code",
      "execution_count": null,
      "metadata": {
        "id": "3JknyaIwsveQ",
        "outputId": "77191f9e-fdff-4160-88c8-06b515ebda94"
      },
      "outputs": [
        {
          "data": {
            "text/plain": [
              "'\\n    AddNumbers function takes two numbers and returns their sum\\n    \\n    arg:\\n        x: its an integer number\\n        y: its an interger number\\n        \\n    returns:\\n        sum of x and y\\n    \\n    '"
            ]
          },
          "execution_count": 60,
          "metadata": {},
          "output_type": "execute_result"
        }
      ],
      "source": [
        "AddNumbers.__doc__\n",
        "\n",
        "# __doc__ returns the 'docstring' associated with the function, class,module etc"
      ]
    },
    {
      "cell_type": "markdown",
      "metadata": {
        "id": "eSDqs3jVsveQ"
      },
      "source": [
        "#### Default parameters of a function\n"
      ]
    },
    {
      "cell_type": "code",
      "execution_count": null,
      "metadata": {
        "id": "oZKbHgMpsveQ"
      },
      "outputs": [],
      "source": [
        "def printName( name=\"there\"):\n",
        "    print('Hi!', name)\n",
        "    "
      ]
    },
    {
      "cell_type": "code",
      "execution_count": null,
      "metadata": {
        "id": "Jhj6CuhLsveQ",
        "outputId": "b03c8ceb-4ef6-4107-fe90-c2864f25509f"
      },
      "outputs": [
        {
          "name": "stdout",
          "output_type": "stream",
          "text": [
            "Hi! Amit\n"
          ]
        }
      ],
      "source": [
        "printName(\"Amit\")"
      ]
    },
    {
      "cell_type": "code",
      "execution_count": null,
      "metadata": {
        "id": "WTVDQNK_sveQ",
        "outputId": "59271d03-9bf3-4dd8-991b-175331097091"
      },
      "outputs": [
        {
          "name": "stdout",
          "output_type": "stream",
          "text": [
            "Hi! there\n"
          ]
        }
      ],
      "source": [
        "printName()"
      ]
    },
    {
      "cell_type": "markdown",
      "metadata": {
        "id": "FktKYVvLsveR"
      },
      "source": [
        "### 12.  Try-Except-Finally"
      ]
    },
    {
      "cell_type": "code",
      "execution_count": null,
      "metadata": {
        "id": "SwCEWrDYsveR"
      },
      "outputs": [],
      "source": [
        "def DivideTwoNums(num1 , num2):\n",
        "    return num1//num2"
      ]
    },
    {
      "cell_type": "code",
      "execution_count": null,
      "metadata": {
        "id": "Y4pG9JMNsveR",
        "outputId": "7987284e-3a54-4ecd-c547-ade24e3af9bc"
      },
      "outputs": [
        {
          "data": {
            "text/plain": [
              "10"
            ]
          },
          "execution_count": 71,
          "metadata": {},
          "output_type": "execute_result"
        }
      ],
      "source": [
        "DivideTwoNums(100,10)"
      ]
    },
    {
      "cell_type": "code",
      "execution_count": null,
      "metadata": {
        "id": "ITqhbjeFsveR",
        "outputId": "82d4c6a2-1329-4c04-9cfe-d73245e4ba43"
      },
      "outputs": [
        {
          "ename": "ZeroDivisionError",
          "evalue": "integer division or modulo by zero",
          "output_type": "error",
          "traceback": [
            "\u001b[1;31m---------------------------------------------------------------------------\u001b[0m",
            "\u001b[1;31mZeroDivisionError\u001b[0m                         Traceback (most recent call last)",
            "\u001b[1;32m<ipython-input-72-283b509ef594>\u001b[0m in \u001b[0;36m<module>\u001b[1;34m\u001b[0m\n\u001b[1;32m----> 1\u001b[1;33m \u001b[0mDivideTwoNums\u001b[0m\u001b[1;33m(\u001b[0m\u001b[1;36m100\u001b[0m\u001b[1;33m,\u001b[0m\u001b[1;36m0\u001b[0m\u001b[1;33m)\u001b[0m\u001b[1;33m\u001b[0m\u001b[1;33m\u001b[0m\u001b[0m\n\u001b[0m",
            "\u001b[1;32m<ipython-input-70-24724e0a5d7f>\u001b[0m in \u001b[0;36mDivideTwoNums\u001b[1;34m(num1, num2)\u001b[0m\n\u001b[0;32m      1\u001b[0m \u001b[1;32mdef\u001b[0m \u001b[0mDivideTwoNums\u001b[0m\u001b[1;33m(\u001b[0m\u001b[0mnum1\u001b[0m \u001b[1;33m,\u001b[0m \u001b[0mnum2\u001b[0m\u001b[1;33m)\u001b[0m\u001b[1;33m:\u001b[0m\u001b[1;33m\u001b[0m\u001b[1;33m\u001b[0m\u001b[0m\n\u001b[1;32m----> 2\u001b[1;33m     \u001b[1;32mreturn\u001b[0m \u001b[0mnum1\u001b[0m\u001b[1;33m//\u001b[0m\u001b[0mnum2\u001b[0m\u001b[1;33m\u001b[0m\u001b[1;33m\u001b[0m\u001b[0m\n\u001b[0m",
            "\u001b[1;31mZeroDivisionError\u001b[0m: integer division or modulo by zero"
          ]
        }
      ],
      "source": [
        "DivideTwoNums(100,0)"
      ]
    },
    {
      "cell_type": "markdown",
      "metadata": {
        "id": "SpuqqOvPsveR"
      },
      "source": [
        "When we passed 100 and 0 numbers to the function DivideTwoNums() , it tried to divide 100 by 0. It returned an 'ugly' ZeroDivisionError.\n",
        "\n",
        "We can do neat exception/error handling using Try-Except-Else-Finally blocks\n",
        "\n",
        "Lets modify the DivideTwoNums function to add Try-Except-Finally block and handle exceptions gracefully.\n"
      ]
    },
    {
      "cell_type": "code",
      "execution_count": null,
      "metadata": {
        "id": "jz-S-VxdsveS"
      },
      "outputs": [],
      "source": [
        "def DivideTwoNums(num1 , num2):\n",
        "    try:\n",
        "        return num1//num2\n",
        "    except ZeroDivisionError:\n",
        "        \n",
        "        print(\"Zero Division error occured. Please change the value of num2 from 0 to any other interger\")\n",
        "        \n",
        "    except Exception as e:\n",
        "        print(\"Exception occured :\" ,e)\n",
        "    \n",
        "    finally:\n",
        "        pass\n",
        "         \n",
        "        "
      ]
    },
    {
      "cell_type": "code",
      "execution_count": null,
      "metadata": {
        "id": "BQGH7mchsveS",
        "outputId": "2018ed94-aee6-48ef-f4ba-7de520604b59"
      },
      "outputs": [
        {
          "name": "stdout",
          "output_type": "stream",
          "text": [
            "Zero Division error occured. Please change the value of num2 from 0 to any other interger\n"
          ]
        }
      ],
      "source": [
        "DivideTwoNums(100,0)\n"
      ]
    },
    {
      "cell_type": "code",
      "execution_count": null,
      "metadata": {
        "id": "l5sBS9N7sveS",
        "outputId": "3295b9a2-dae5-4c98-801b-655e2f73dfef"
      },
      "outputs": [
        {
          "name": "stdout",
          "output_type": "stream",
          "text": [
            "Exception occured : unsupported operand type(s) for //: 'int' and 'str'\n"
          ]
        }
      ],
      "source": [
        "DivideTwoNums(100, \"ten\")"
      ]
    },
    {
      "cell_type": "markdown",
      "metadata": {
        "id": "8KlF_tVhsveT"
      },
      "source": [
        "Task:\n",
        "1. We discussed about Try-Except-Finally . Explore about 'Else' part and write a small code for Try-Except-Else-Finally block\n",
        "\n",
        "2. Here we printed the errors. You explore about 'throw' keyword . Change the DivideTwoNums() function to throw back an exception rather than printing the error output\n",
        "\n",
        "3. In Finally block , we see a keyword pass . What does 'pass' keyword do ?"
      ]
    },
    {
      "cell_type": "markdown",
      "metadata": {
        "id": "z0cHhfrasveT"
      },
      "source": [
        "### 13. Python Modules\n",
        "\n",
        "Simply speaking , modules are code libraries.\n",
        "\n",
        "Module is a file contatining set of functions that we can use in our application\n",
        "\n",
        "We can write our own modules or import existing modules in python"
      ]
    },
    {
      "cell_type": "code",
      "execution_count": null,
      "metadata": {
        "id": "OKfE3SrpsveT",
        "outputId": "b3528b31-8b24-4a11-bf7b-f1dbe17de590"
      },
      "outputs": [
        {
          "name": "stdout",
          "output_type": "stream",
          "text": [
            "Machine type: AMD64\n",
            "Platform architecture: ('64bit', 'WindowsPE')\n"
          ]
        }
      ],
      "source": [
        "#Lets check some built-in modules\n",
        "# we include built-in modules in our code by using import statement\n",
        "\n",
        "#Lets import platform module\n",
        "\n",
        "import platform\n",
        "\n",
        "print('Machine type:', platform.machine())\n",
        "print('Platform architecture:', platform.architecture())\n",
        "\n"
      ]
    },
    {
      "cell_type": "markdown",
      "metadata": {
        "id": "HQ228TVWsveT"
      },
      "source": [
        "Task : Using the platform module , findout the machine type where you are executing this piece of code\n",
        "\n",
        "Hint : use dir(platform) to see all available functions and attributes"
      ]
    },
    {
      "cell_type": "markdown",
      "metadata": {
        "id": "UprxIB-LsveU"
      },
      "source": [
        "#### Why Do We Need Python Built-In Modules?\n",
        "\n",
        "Python has lots and lots of built in modules which can be used for achieving various functionalities. These are well tested and optimised codes. Hence, better to use built in modules to save time and effort while writing your application."
      ]
    },
    {
      "cell_type": "markdown",
      "metadata": {
        "id": "y_Br9iMDsveU"
      },
      "source": [
        "#### How will you know which built-in modules are available in python ?\n",
        "\n",
        "Use help function"
      ]
    },
    {
      "cell_type": "code",
      "execution_count": null,
      "metadata": {
        "id": "Zlk2fg_UsveU"
      },
      "outputs": [],
      "source": [
        "#help('modules') #It may take couple of minutes to fetch all built in module names"
      ]
    },
    {
      "cell_type": "markdown",
      "metadata": {
        "id": "W_CuCCdxsveU"
      },
      "source": [
        "### 14. Python PIP\n",
        "\n",
        "PIP is a package manager for Python packages . PIP is by default available in python 3.4 and above. You dont need to install PIP.\n",
        "\n",
        "\n",
        "#### What is a Package?\n",
        "\n",
        "A package contains all the files you need for a module.\n",
        "\n",
        "Modules are Python code libraries you can include in your project.\n",
        "\n",
        "If you visit https://pypi.org/ , you will see 318,778 projects are available (while writing this notebook) .You can easily PIP install these packages and import its modules in your own application. \n",
        "\n"
      ]
    },
    {
      "cell_type": "code",
      "execution_count": null,
      "metadata": {
        "id": "jxYjSg5ZsveU",
        "outputId": "128ec4d8-06af-46c3-ae75-ae780e8a8519"
      },
      "outputs": [
        {
          "name": "stdout",
          "output_type": "stream",
          "text": [
            "pip 20.0.2 from C:\\Users\\hp\\anaconda3\\lib\\site-packages\\pip (python 3.7)\n",
            "\n",
            "Note: you may need to restart the kernel to use updated packages.\n"
          ]
        }
      ],
      "source": [
        "pip --version"
      ]
    },
    {
      "cell_type": "code",
      "execution_count": null,
      "metadata": {
        "id": "svjehcS9sveV",
        "outputId": "720d2493-b2f5-4fda-b86d-ee7b63933a16"
      },
      "outputs": [
        {
          "name": "stdout",
          "output_type": "stream",
          "text": [
            "Package                            Version            \n",
            "---------------------------------- -------------------\n",
            "alabaster                          0.7.12             \n",
            "altair                             4.1.0              \n",
            "anaconda-client                    1.7.2              \n",
            "anaconda-navigator                 1.9.12             \n",
            "anaconda-project                   0.8.3              \n",
            "analytics-python                   1.3.1              \n",
            "aplus                              0.11.0             \n",
            "argh                               0.26.2             \n",
            "asgiref                            3.4.0              \n",
            "asn1crypto                         1.3.0              \n",
            "astor                              0.8.1              \n",
            "astroid                            2.3.3              \n",
            "astropy                            4.0                \n",
            "atomicwrites                       1.3.0              \n",
            "attrs                              19.3.0             \n",
            "autopep8                           1.4.4              \n",
            "Babel                              2.8.0              \n",
            "backcall                           0.1.0              \n",
            "backoff                            1.10.0             \n",
            "backports.functools-lru-cache      1.6.4              \n",
            "backports.shutil-get-terminal-size 1.0.0              \n",
            "backports.tempfile                 1.0                \n",
            "backports.weakref                  1.0.post1          \n",
            "base58                             2.1.0              \n",
            "bcrypt                             3.1.7              \n",
            "beautifulsoup4                     4.8.2              \n",
            "bert-extractive-summarizer         0.7.1              \n",
            "biopython                          1.78               \n",
            "bitarray                           1.2.1              \n",
            "bkcharts                           0.2                \n",
            "bleach                             3.1.0              \n",
            "blinker                            1.4                \n",
            "blis                               0.7.4              \n",
            "bokeh                              1.4.0              \n",
            "boto                               2.49.0             \n",
            "boto3                              1.16.13            \n",
            "botocore                           1.19.13            \n",
            "Bottleneck                         1.3.2              \n",
            "bqplot                             0.12.19            \n",
            "branca                             0.3.1              \n",
            "breadability                       0.1.20             \n",
            "bz2file                            0.98               \n",
            "cachetools                         4.1.1              \n",
            "catalogue                          2.0.3              \n",
            "certifi                            2019.11.28         \n",
            "cffi                               1.14.0             \n",
            "chardet                            3.0.4              \n",
            "click                              7.1.2              \n",
            "cloudpickle                        1.3.0              \n",
            "clyent                             1.2.2              \n",
            "colorama                           0.4.3              \n",
            "colored                            1.4.2              \n",
            "comtypes                           1.1.7              \n",
            "conda                              4.10.3             \n",
            "conda-build                        3.18.11            \n",
            "conda-package-handling             1.7.3              \n",
            "conda-verify                       3.4.2              \n",
            "contextlib2                        0.6.0.post1        \n",
            "cryptography                       2.8                \n",
            "cycler                             0.10.0             \n",
            "cymem                              2.0.5              \n",
            "Cython                             0.29.14            \n",
            "cytoolz                            0.10.1             \n",
            "dask                               2.11.0             \n",
            "decorator                          4.4.1              \n",
            "defusedxml                         0.6.0              \n",
            "diff-match-patch                   20181111           \n",
            "distributed                        2.11.0             \n",
            "distro                             1.5.0              \n",
            "docopt                             0.6.2              \n",
            "docutils                           0.16               \n",
            "entrezpy                           2.1.3              \n",
            "entrypoints                        0.3                \n",
            "et-xmlfile                         1.0.1              \n",
            "fastapi                            0.65.2             \n",
            "fastcache                          1.1.0              \n",
            "ffmpy                              0.3.0              \n",
            "filelock                           3.0.12             \n",
            "flake8                             3.7.9              \n",
            "Flask                              1.1.1              \n",
            "Flask-CacheBuster                  1.0.0              \n",
            "Flask-Cors                         3.0.10             \n",
            "Flask-Login                        0.5.0              \n",
            "fsspec                             0.6.2              \n",
            "future                             0.18.2             \n",
            "gensim                             3.8.3              \n",
            "gevent                             1.4.0              \n",
            "gitdb                              4.0.7              \n",
            "GitPython                          3.1.17             \n",
            "glob2                              0.7                \n",
            "gradio                             1.7.7              \n",
            "greenlet                           0.4.15             \n",
            "h11                                0.12.0             \n",
            "h5py                               2.10.0             \n",
            "HeapDict                           1.0.1              \n",
            "html5lib                           1.0.1              \n",
            "hypothesis                         5.5.4              \n",
            "idna                               2.8                \n",
            "imageio                            2.6.1              \n",
            "imagesize                          1.2.0              \n",
            "imbalanced-learn                   0.7.0              \n",
            "importlib-metadata                 1.5.0              \n",
            "insta-scrape                       2.1.2              \n",
            "intervaltree                       3.0.2              \n",
            "ipydatawidgets                     4.1.0              \n",
            "ipykernel                          5.1.4              \n",
            "ipyleaflet                         0.13.3             \n",
            "ipympl                             0.5.8              \n",
            "ipython                            7.12.0             \n",
            "ipython-genutils                   0.2.0              \n",
            "ipyvolume                          0.5.2              \n",
            "ipyvue                             1.4.1              \n",
            "ipyvuetify                         1.5.1              \n",
            "ipywebrtc                          0.5.0              \n",
            "ipywidgets                         7.5.1              \n",
            "isort                              4.3.21             \n",
            "itsdangerous                       1.1.0              \n",
            "jdcal                              1.4.1              \n",
            "jedi                               0.14.1             \n",
            "Jinja2                             2.11.1             \n",
            "jmespath                           0.10.0             \n",
            "joblib                             0.14.1             \n",
            "json5                              0.9.1              \n",
            "jsonschema                         3.2.0              \n",
            "jupyter                            1.0.0              \n",
            "jupyter-client                     5.3.4              \n",
            "jupyter-console                    6.1.0              \n",
            "jupyter-core                       4.6.1              \n",
            "jupyterlab                         1.2.6              \n",
            "jupyterlab-server                  1.0.6              \n",
            "keybert                            0.3.0              \n",
            "keyring                            21.1.0             \n",
            "kiwisolver                         1.1.0              \n",
            "lazy-object-proxy                  1.4.3              \n",
            "libarchive-c                       2.8                \n",
            "llvmlite                           0.31.0             \n",
            "locket                             0.2.0              \n",
            "lxml                               4.5.0              \n",
            "markdown2                          2.4.0              \n",
            "MarkupSafe                         1.1.1              \n",
            "matplotlib                         3.1.3              \n",
            "matplotlib-venn                    0.11.6             \n",
            "mccabe                             0.6.1              \n",
            "menuinst                           1.4.16             \n",
            "mistune                            0.8.4              \n",
            "mkl-fft                            1.0.15             \n",
            "mkl-random                         1.1.0              \n",
            "mkl-service                        2.3.0              \n",
            "mock                               4.0.1              \n",
            "monotonic                          1.6                \n",
            "more-itertools                     8.2.0              \n",
            "mpmath                             1.1.0              \n",
            "msgpack                            0.6.1              \n",
            "multipledispatch                   0.6.0              \n",
            "murmurhash                         1.0.5              \n",
            "mysql-connector-python             8.0.26             \n",
            "navigator-updater                  0.2.1              \n",
            "nbconvert                          5.6.1              \n",
            "nbformat                           5.0.4              \n",
            "nest-asyncio                       1.4.2              \n",
            "networkx                           2.4                \n",
            "nglview                            2.7.7              \n",
            "nltk                               3.4.5              \n",
            "nose                               1.3.7              \n",
            "notebook                           6.0.3              \n",
            "numba                              0.48.0             \n",
            "numexpr                            2.7.1              \n",
            "numpy                              1.18.5             \n",
            "numpydoc                           0.9.2              \n",
            "olefile                            0.46               \n",
            "opencv-python                      4.4.0.42           \n",
            "openpyxl                           3.0.3              \n",
            "packaging                          20.1               \n",
            "pandas                             1.0.1              \n",
            "pandocfilters                      1.4.2              \n",
            "paramiko                           2.7.1              \n",
            "parso                              0.5.2              \n",
            "partd                              1.1.0              \n",
            "path                               13.1.0             \n",
            "pathlib2                           2.3.5              \n",
            "pathtools                          0.1.2              \n",
            "pathy                              0.4.0              \n",
            "patsy                              0.5.1              \n",
            "pep8                               1.7.1              \n",
            "pexpect                            4.8.0              \n",
            "pickleshare                        0.7.5              \n",
            "Pillow                             7.0.0              \n",
            "pip                                20.0.2             \n",
            "pkginfo                            1.5.0.1            \n",
            "plotly                             4.14.3             \n",
            "pluggy                             0.13.1             \n",
            "ply                                3.11               \n",
            "preshed                            3.0.5              \n",
            "progressbar2                       3.53.1             \n",
            "prometheus-client                  0.7.1              \n",
            "prompt-toolkit                     3.0.3              \n",
            "protobuf                           3.17.0             \n",
            "psutil                             5.6.7              \n",
            "psycopg2                           2.9.1              \n",
            "py                                 1.8.1              \n",
            "py3Dmol                            0.9.0              \n",
            "pyarrow                            2.0.0              \n",
            "pybind11                           2.6.1              \n",
            "pycodestyle                        2.5.0              \n",
            "pycosat                            0.6.3              \n",
            "pycountry                          20.7.3             \n",
            "pycparser                          2.19               \n",
            "pycrypto                           2.6.1              \n",
            "pycryptodome                       3.10.1             \n",
            "pycurl                             7.43.0.5           \n",
            "pydantic                           1.8.2              \n",
            "pydeck                             0.6.2              \n",
            "pydocstyle                         4.0.1              \n",
            "pyflakes                           2.1.1              \n",
            "Pygments                           2.5.2              \n",
            "pylint                             2.4.4              \n",
            "PyNaCl                             1.3.0              \n",
            "pyodbc                             4.0.0-unsupported  \n",
            "pyOpenSSL                          19.1.0             \n",
            "pyparsing                          2.4.6              \n",
            "PyPDF2                             1.26.0             \n",
            "pyreadline                         2.1                \n",
            "pyrsistent                         0.15.7             \n",
            "PySocks                            1.7.1              \n",
            "pyspellchecker                     0.5.6              \n",
            "pytesseract                        0.3.6              \n",
            "pytest                             5.3.5              \n",
            "pytest-arraydiff                   0.3                \n",
            "pytest-astropy                     0.8.0              \n",
            "pytest-astropy-header              0.1.2              \n",
            "pytest-doctestplus                 0.5.0              \n",
            "pytest-openfiles                   0.4.0              \n",
            "pytest-remotedata                  0.3.2              \n",
            "python-dateutil                    2.8.1              \n",
            "python-jsonrpc-server              0.3.4              \n",
            "python-language-server             0.31.7             \n",
            "python-utils                       2.4.0              \n",
            "pythreejs                          2.2.1              \n",
            "pytz                               2019.3             \n",
            "PyWavelets                         1.1.1              \n",
            "pywin32                            227                \n",
            "pywin32-ctypes                     0.2.0              \n",
            "pywinpty                           0.5.7              \n",
            "PyYAML                             5.3                \n",
            "pyzmq                              18.1.1             \n",
            "QDarkStyle                         2.8                \n",
            "QtAwesome                          0.6.1              \n",
            "qtconsole                          4.6.0              \n",
            "QtPy                               1.9.0              \n",
            "regex                              2021.3.17          \n",
            "requests                           2.22.0             \n",
            "retrying                           1.3.3              \n",
            "rope                               0.16.0             \n",
            "Rtree                              0.9.3              \n",
            "ruamel-yaml                        0.15.87            \n",
            "s3fs                               0.2.2              \n",
            "s3transfer                         0.3.3              \n",
            "sacremoses                         0.0.43             \n",
            "scikit-image                       0.16.2             \n",
            "scikit-learn                       0.23.1             \n",
            "scikit-plot                        0.3.7              \n",
            "scipy                              1.4.1              \n",
            "screed                             1.0.4              \n",
            "seaborn                            0.10.0             \n",
            "Send2Trash                         1.5.0              \n",
            "sentence-transformers              1.1.1              \n",
            "sentencepiece                      0.1.95             \n",
            "setuptools                         45.2.0.post20200210\n",
            "simplegeneric                      0.8.1              \n",
            "singledispatch                     3.4.0.3            \n",
            "six                                1.14.0             \n",
            "smart-open                         3.0.0              \n",
            "smmap                              4.0.0              \n",
            "snowballstemmer                    2.0.0              \n",
            "sortedcollections                  1.1.2              \n",
            "sortedcontainers                   2.1.0              \n",
            "soupsieve                          1.9.5              \n",
            "spacy                              3.0.5              \n",
            "spacy-legacy                       3.0.2              \n",
            "Sphinx                             2.4.0              \n",
            "sphinxcontrib-applehelp            1.0.1              \n",
            "sphinxcontrib-devhelp              1.0.1              \n",
            "sphinxcontrib-htmlhelp             1.0.2              \n",
            "sphinxcontrib-jsmath               1.0.1              \n",
            "sphinxcontrib-qthelp               1.0.2              \n",
            "sphinxcontrib-serializinghtml      1.1.3              \n",
            "sphinxcontrib-websupport           1.2.0              \n",
            "spyder                             4.0.1              \n",
            "spyder-kernels                     1.8.1              \n",
            "SQLAlchemy                         1.3.13             \n",
            "srsly                              2.4.1              \n",
            "starlette                          0.14.2             \n",
            "statsmodels                        0.11.0             \n",
            "stemming                           1.0.1              \n",
            "streamlit                          0.82.0             \n",
            "sumy                               0.8.1              \n",
            "sympy                              1.5.1              \n",
            "tables                             3.6.1              \n",
            "tabula-py                          2.2.0              \n",
            "tabulate                           0.8.7              \n",
            "tblib                              1.6.0              \n",
            "terminado                          0.8.3              \n",
            "testpath                           0.4.4              \n",
            "textblob                           0.15.3             \n",
            "thinc                              8.0.2              \n",
            "threadpoolctl                      2.1.0              \n",
            "tokenizers                         0.10.1             \n",
            "toml                               0.10.2             \n",
            "toolz                              0.10.0             \n",
            "torch                              1.8.1              \n",
            "torchaudio                         0.7.2              \n",
            "torchvision                        0.8.2              \n",
            "tornado                            6.0.3              \n",
            "tqdm                               4.42.1             \n",
            "traitlets                          4.3.3              \n",
            "traittypes                         0.2.1              \n",
            "transformers                       4.4.2              \n",
            "typer                              0.3.2              \n",
            "typing-extensions                  3.10.0.0           \n",
            "tzlocal                            2.1                \n",
            "ujson                              1.35               \n",
            "unicodecsv                         0.14.1             \n",
            "urllib3                            1.25.8             \n",
            "uvicorn                            0.14.0             \n",
            "vaex                               3.0.0              \n",
            "vaex-arrow                         0.5.1              \n",
            "vaex-astro                         0.7.0              \n",
            "vaex-core                          2.0.3              \n",
            "vaex-hdf5                          0.6.0              \n",
            "vaex-jupyter                       0.5.2              \n",
            "vaex-ml                            0.9.0              \n",
            "vaex-server                        0.3.1              \n",
            "vaex-viz                           0.4.0              \n",
            "validators                         0.18.2             \n",
            "wasabi                             0.8.2              \n",
            "watchdog                           0.10.2             \n",
            "wcwidth                            0.1.8              \n",
            "webencodings                       0.5.1              \n",
            "Werkzeug                           1.0.0              \n",
            "wget                               3.2                \n",
            "wheel                              0.34.2             \n",
            "widgetsnbextension                 3.5.1              \n",
            "win-inet-pton                      1.1.0              \n",
            "win-unicode-console                0.5                \n",
            "wincertstore                       0.2                \n",
            "wrapt                              1.11.2             \n",
            "xarray                             0.16.1             \n",
            "xgboost                            1.1.1              \n",
            "xlrd                               1.2.0              \n",
            "XlsxWriter                         1.2.7              \n",
            "xlwings                            0.17.1             \n",
            "xlwt                               1.3.0              \n",
            "xmltodict                          0.12.0             \n",
            "yapf                               0.28.0             \n",
            "zict                               1.0.0              \n",
            "zipp                               2.2.0              \n",
            "Note: you may need to restart the kernel to use updated packages.\n"
          ]
        }
      ],
      "source": [
        "pip list"
      ]
    },
    {
      "cell_type": "code",
      "execution_count": null,
      "metadata": {
        "id": "iepRFmSJsveV"
      },
      "outputs": [],
      "source": [
        "#! pip install -q scikit-learn                       "
      ]
    },
    {
      "cell_type": "markdown",
      "metadata": {
        "id": "F4LCDy11sveV"
      },
      "source": [
        "### Python Collections - List , Tuple , Set , Dictionary\n",
        "\n",
        "* List is a collection which is ordered and changeable. Allows duplicate members.\n",
        "* Tuple is a collection which is ordered and unchangeable. Allows duplicate members.\n",
        "* Set is a collection which is unordered and unindexed. No duplicate members.\n",
        "* Dictionary is a collection which is ordered* and changeable. No duplicate members.\n",
        "\n",
        "When choosing a collection type, it is useful to understand the properties of that type. Choosing the right type for a particular data set could mean retention of meaning, and, it could mean an increase in efficiency or security.\n",
        "\n"
      ]
    },
    {
      "cell_type": "markdown",
      "metadata": {
        "id": "MypFvWexsveV"
      },
      "source": [
        "#### Lists"
      ]
    },
    {
      "cell_type": "code",
      "execution_count": null,
      "metadata": {
        "id": "dI74TTZ0sveW",
        "outputId": "124d80e7-adc5-499e-98a5-298972c1449c"
      },
      "outputs": [
        {
          "data": {
            "text/plain": [
              "['apple', 'banana', 'cherry']"
            ]
          },
          "execution_count": 67,
          "metadata": {},
          "output_type": "execute_result"
        }
      ],
      "source": [
        "#Create a list\n",
        "mylist = [\"apple\", \"banana\", \"cherry\"]\n",
        "mylist"
      ]
    },
    {
      "cell_type": "code",
      "execution_count": null,
      "metadata": {
        "id": "00hZq9d4sveW",
        "outputId": "8cbb26e2-1573-4ab6-bd89-7720d447e33c"
      },
      "outputs": [
        {
          "data": {
            "text/plain": [
              "[1, 'apple', 2.5]"
            ]
          },
          "execution_count": 69,
          "metadata": {},
          "output_type": "execute_result"
        }
      ],
      "source": [
        "#A list may contain differnt data types\n",
        "mylist =[1, \"apple\" , 2.5]\n",
        "mylist"
      ]
    },
    {
      "cell_type": "code",
      "execution_count": null,
      "metadata": {
        "id": "dg4IdhvZsveW",
        "outputId": "33959e96-cb0c-4a35-e1b8-8a13fe6cee03"
      },
      "outputs": [
        {
          "name": "stdout",
          "output_type": "stream",
          "text": [
            "<class 'list'>\n"
          ]
        }
      ],
      "source": [
        "print(type(mylist))\n"
      ]
    },
    {
      "cell_type": "code",
      "execution_count": null,
      "metadata": {
        "id": "EX_qs97IsveW",
        "outputId": "789a2720-47e7-44ff-fcc1-42cbce8aeb10"
      },
      "outputs": [
        {
          "data": {
            "text/plain": [
              "3"
            ]
          },
          "execution_count": 71,
          "metadata": {},
          "output_type": "execute_result"
        }
      ],
      "source": [
        "#Length of a list\n",
        "len(mylist)"
      ]
    },
    {
      "cell_type": "markdown",
      "metadata": {
        "id": "EvXJay37sveX"
      },
      "source": [
        "#### List comprehension\n",
        "\n",
        "List comprehension offers a shorter syntax when you want to create a new list based on the values of an existing list.\n",
        "\n"
      ]
    },
    {
      "cell_type": "code",
      "execution_count": null,
      "metadata": {
        "id": "ySL0_n0BsveX",
        "outputId": "130d0496-08af-401f-b6e3-788d5f469afc"
      },
      "outputs": [
        {
          "name": "stdout",
          "output_type": "stream",
          "text": [
            "even_nums  [2, 4, 6, 8, 10]\n",
            "square_of_even_nums  [4, 16, 36, 64, 100]\n"
          ]
        }
      ],
      "source": [
        "#List comprehension\n",
        " \n",
        "nums =[1,2,3,4,5,6,7,8,9,10]\n",
        "\n",
        "\n",
        "# newlist = [expression for item in iterable if condition == True]\n",
        "\n",
        "even_nums = [x for x in nums if x%2 ==0]\n",
        "\n",
        "print(\"even_nums \" ,even_nums)\n",
        "\n",
        "square_of_even_nums = [x*x for x in nums if x%2 ==0]\n",
        "\n",
        "print(\"square_of_even_nums \", square_of_even_nums)"
      ]
    },
    {
      "cell_type": "markdown",
      "metadata": {
        "id": "BPVP6HKDsveY"
      },
      "source": [
        "Task :\n",
        "Explore the following and write small code snippets\n",
        "1. Craete a list\n",
        "2. Access list items\n",
        "3. Add list items\n",
        "4. Remove list items\n",
        "5. Loop list\n",
        "6. List sorting\n",
        "7. Copy list\n",
        "8. Join list\n",
        "9. Different methods of list object"
      ]
    },
    {
      "cell_type": "markdown",
      "metadata": {
        "id": "8Mz6tkKCsveY"
      },
      "source": [
        "#### Tuple\n",
        "\n",
        "- Ordered\n",
        "- Unchangable\n",
        "- Allow duplicates\n"
      ]
    },
    {
      "cell_type": "code",
      "execution_count": null,
      "metadata": {
        "id": "u0zHXlpBsveY"
      },
      "outputs": [],
      "source": [
        "mytuple = (\"apple\", \"banana\", \"cherry\")"
      ]
    },
    {
      "cell_type": "markdown",
      "metadata": {
        "id": "jcud8DFnsveY"
      },
      "source": [
        "#### Sets\n",
        "\n",
        "- Unordered\n",
        "- Unchangable\n",
        "- Duplicates not allowed"
      ]
    },
    {
      "cell_type": "code",
      "execution_count": null,
      "metadata": {
        "id": "Pi2Av3LWsveY"
      },
      "outputs": [],
      "source": [
        "myset = {\"apple\", \"banana\", \"cherry\"}\n"
      ]
    },
    {
      "cell_type": "markdown",
      "metadata": {
        "id": "R4rh19rTsveY"
      },
      "source": [
        "#### Dictionaries\n",
        "\n",
        "- Ordered (Python 3.7 on wards)\n",
        "- Changable\n",
        "- Duplicates not allowed"
      ]
    },
    {
      "cell_type": "code",
      "execution_count": null,
      "metadata": {
        "id": "vsvzNRT5sveZ"
      },
      "outputs": [],
      "source": [
        "thisdict = {\n",
        "  1: \"Mohan\",\n",
        "  2: \"Edward\",\n",
        "  3: \"Linda\",\n",
        "  4: \"Sunny\"\n",
        "}\n"
      ]
    },
    {
      "cell_type": "markdown",
      "metadata": {
        "id": "maIl_svysveZ"
      },
      "source": [
        "Task : Explore arrays. When arrays used ?\n"
      ]
    },
    {
      "cell_type": "markdown",
      "metadata": {
        "id": "6Z3dhhtesveZ"
      },
      "source": [
        "#### You can continue your python learning \n",
        "\n",
        "- Object oriented programming in python\n",
        "- Inheritance and classes\n",
        "- Logging \n",
        "- Itertools\n",
        "- Unit testing\n",
        "- Creating virtual environment\n",
        "- File handling\n",
        "- python and database connectivity  (MySQL, MongoDB , Postgre etc)\n",
        "- Python and machine learning\n",
        "- Python and visualization\n"
      ]
    },
    {
      "cell_type": "markdown",
      "metadata": {
        "id": "dmcbdgfzsveZ"
      },
      "source": [
        "#### Python quiz\n",
        "\n",
        "https://www.w3schools.com/quiztest/quiztest.asp?qtest=PYTHON"
      ]
    }
  ],
  "metadata": {
    "kernelspec": {
      "display_name": "Python 3",
      "language": "python",
      "name": "python3"
    },
    "language_info": {
      "codemirror_mode": {
        "name": "ipython",
        "version": 3
      },
      "file_extension": ".py",
      "mimetype": "text/x-python",
      "name": "python",
      "nbconvert_exporter": "python",
      "pygments_lexer": "ipython3",
      "version": "3.7.6"
    },
    "colab": {
      "name": "Python-General (1).ipynb",
      "provenance": [],
      "include_colab_link": true
    }
  },
  "nbformat": 4,
  "nbformat_minor": 0
}